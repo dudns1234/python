{
 "cells": [
  {
   "cell_type": "markdown",
   "id": "fcffc093-ea13-46d2-ae08-049c1be7ea83",
   "metadata": {},
   "source": [
    "# 제어문\n",
    "\n",
    "## 조건문 (if문)\n",
    "1. `if` 문은 반드시 일정한 참/거짓을 판단 할 수 있는 `조건식`과 함께 사용한다. (`if : <조건식> :`)   \n",
    "   2-1) `<조건식>`이 참인 경우 `:`이후의 문장을 실행한다.   \n",
    "   2-2) `<조건식>`이 거짓인 경우 `else:` 이후의 문장을 실행한다."
   ]
  },
  {
   "cell_type": "code",
   "execution_count": 2,
   "id": "3d242c47-2592-4679-a04e-32d522ab6bec",
   "metadata": {},
   "outputs": [
    {
     "name": "stdin",
     "output_type": "stream",
     "text": [
      " 12/24\n"
     ]
    },
    {
     "name": "stdout",
     "output_type": "stream",
     "text": [
      "크리스마스 아님\n"
     ]
    }
   ],
   "source": [
    "my_string = input()\n",
    "\n",
    "if my_string == \"12/25\":\n",
    "    print('크리스마스임')\n",
    "else:\n",
    "    print('크리스마스 아님')"
   ]
  },
  {
   "cell_type": "code",
   "execution_count": 13,
   "id": "ba24837b-b73c-46b9-aa7d-dbb064405254",
   "metadata": {},
   "outputs": [
    {
     "name": "stdin",
     "output_type": "stream",
     "text": [
      "숫자를 입력해주세요 2\n"
     ]
    }
   ],
   "source": [
    "num = input('숫자를 입력해주세요')"
   ]
  },
  {
   "cell_type": "code",
   "execution_count": 20,
   "id": "9cd51e9d-02b6-4ab0-8bd6-b4231dd07047",
   "metadata": {},
   "outputs": [
    {
     "name": "stdin",
     "output_type": "stream",
     "text": [
      "숫자를 입력해주세요 125\n"
     ]
    },
    {
     "name": "stdout",
     "output_type": "stream",
     "text": [
      "홀수\n"
     ]
    }
   ],
   "source": [
    "# 조건문을 통해서 num에 들어있는 숫자가 홀수/짝수 인지 판별\n",
    "if int(num) % 2 == 0 :\n",
    "    print('짝수')\n",
    "else:\n",
    "    print('홀수')"
   ]
  },
  {
   "cell_type": "code",
   "execution_count": 54,
   "id": "667967b3-11a8-4e76-a083-b285b70fd655",
   "metadata": {},
   "outputs": [
    {
     "name": "stdin",
     "output_type": "stream",
     "text": [
      "숫자를 입력해주세요 3\n"
     ]
    },
    {
     "name": "stdout",
     "output_type": "stream",
     "text": [
      "홀수\n"
     ]
    }
   ],
   "source": [
    "# num을 2로 나눈 나머지는 0,1 두가지 경우가 있다.\n",
    "# if문의 조건식에 0,1은 자동형변환이 일어나 False, True로 변환된다.\n",
    "num = int(input('숫자를 입력해주세요'))\n",
    "if num % 2:\n",
    "    print('홀수')\n",
    "else:\n",
    "    print('짝수')"
   ]
  },
  {
   "cell_type": "markdown",
   "id": "98543a4a-f008-4085-93aa-25adc358fd57",
   "metadata": {},
   "source": [
    "### elif\n",
    "```\n",
    "if <조건식>:   \n",
    "    if 조건이 참인경우   \n",
    "elif <조건식>:   \n",
    "    elif 조건이 참인경우   \n",
    "\n",
    "else:   \n",
    "    위의 조건식에 하나도 부합하지 않는경우 실행\n",
    "```"
   ]
  },
  {
   "cell_type": "code",
   "execution_count": 40,
   "id": "b0aac4c6-5d94-43bc-9d4b-4e4b6ae45487",
   "metadata": {},
   "outputs": [
    {
     "name": "stdin",
     "output_type": "stream",
     "text": [
      " 95\n"
     ]
    }
   ],
   "source": [
    "score = int(input())"
   ]
  },
  {
   "cell_type": "code",
   "execution_count": 41,
   "id": "9570bf18-9398-4219-8681-5bb8172905df",
   "metadata": {},
   "outputs": [
    {
     "name": "stdout",
     "output_type": "stream",
     "text": [
      "A\n"
     ]
    }
   ],
   "source": [
    "# 90점 이상 A\n",
    "# 80점 이상 B\n",
    "# 70점 이상 C\n",
    "# 나머지 F \n",
    "\n",
    "if score >= 90:\n",
    "    print(\"A\")\n",
    "elif score >= 80:\n",
    "    print(\"B\")\n",
    "elif score >= 70 :\n",
    "    print(\"C\")\n",
    "else:\n",
    "    print(\"F\")"
   ]
  },
  {
   "cell_type": "code",
   "execution_count": 42,
   "id": "b519bbf5-d9d8-4633-b896-155bd3249e3b",
   "metadata": {},
   "outputs": [
    {
     "name": "stdout",
     "output_type": "stream",
     "text": [
      "A\n",
      "참잘했어요\n"
     ]
    }
   ],
   "source": [
    "# 90점 이상 A (95점 이상 '참잘했어요') 중첩조건문\n",
    "# 80점 이상 B\n",
    "# 70점 이상 C\n",
    "# 나머지 F \n",
    "if score >= 90:\n",
    "    print(\"A\")\n",
    "    if score >=95:\n",
    "        print(\"참잘했어요\")\n",
    "elif score >= 80:\n",
    "    print(\"B\")\n",
    "elif score >= 70 :\n",
    "    print(\"C\")\n",
    "else:\n",
    "    print(\"F\")"
   ]
  },
  {
   "cell_type": "markdown",
   "id": "ed486ef6-3898-4199-9bd3-11832655b197",
   "metadata": {},
   "source": [
    "## 조건표현식\n",
    "\n",
    "```\n",
    "true_value if <조건식> else false_value\n",
    "\n",
    "```"
   ]
  },
  {
   "cell_type": "code",
   "execution_count": 43,
   "id": "001039db-447d-4d4d-aa0a-41e50675c954",
   "metadata": {},
   "outputs": [
    {
     "name": "stdout",
     "output_type": "stream",
     "text": [
      "true\n"
     ]
    }
   ],
   "source": [
    "print('true') if 1>0 else print('false')"
   ]
  },
  {
   "cell_type": "code",
   "execution_count": null,
   "id": "d5660fc4-efa2-4049-8df5-eef10beaa049",
   "metadata": {},
   "outputs": [],
   "source": [
    "if 1 < 0 :\n",
    "    print('true')"
   ]
  },
  {
   "cell_type": "code",
   "execution_count": 46,
   "id": "5bf8d32c-586d-4462-a1b9-d34037c27bb3",
   "metadata": {},
   "outputs": [
    {
     "name": "stdout",
     "output_type": "stream",
     "text": [
      "0\n"
     ]
    }
   ],
   "source": [
    "#조건표현식\n",
    "num = -5 \n",
    "value = num if num >= 0 else 0\n",
    "print(value)"
   ]
  },
  {
   "cell_type": "code",
   "execution_count": 52,
   "id": "21cbd928-0f4b-46b2-9ddc-63d80e991c3e",
   "metadata": {},
   "outputs": [
    {
     "name": "stdout",
     "output_type": "stream",
     "text": [
      "5\n"
     ]
    }
   ],
   "source": [
    "#조건표현문 (풀어보기)\n",
    "num = 5\n",
    "if num >= 0 :\n",
    "    value = num\n",
    "else:\n",
    "    value = 0\n",
    "print(value)"
   ]
  },
  {
   "cell_type": "code",
   "execution_count": null,
   "id": "0550f84d-04e7-4a19-a334-3da528c5ba7f",
   "metadata": {},
   "outputs": [],
   "source": [
    "num = 2\n",
    "if num % 2 ==1:\n",
    "    result = \"홀수\"\n",
    "else\n",
    "    resulte = \"짝수\"\n",
    "print(result)"
   ]
  },
  {
   "cell_type": "code",
   "execution_count": 53,
   "id": "1311ee12-29cb-43c6-be41-9df403115f02",
   "metadata": {},
   "outputs": [
    {
     "name": "stdout",
     "output_type": "stream",
     "text": [
      "짝수\n"
     ]
    }
   ],
   "source": [
    "#조건 표현식 (풀어보기)\n",
    "num = 2\n",
    "result = '홀수' if num % 2 == 1 else '짝수'\n",
    "print(result)"
   ]
  }
 ],
 "metadata": {
  "kernelspec": {
   "display_name": "Python 3 (ipykernel)",
   "language": "python",
   "name": "python3"
  },
  "language_info": {
   "codemirror_mode": {
    "name": "ipython",
    "version": 3
   },
   "file_extension": ".py",
   "mimetype": "text/x-python",
   "name": "python",
   "nbconvert_exporter": "python",
   "pygments_lexer": "ipython3",
   "version": "3.11.4"
  }
 },
 "nbformat": 4,
 "nbformat_minor": 5
}
