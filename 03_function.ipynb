{
 "cells": [
  {
   "cell_type": "markdown",
   "id": "0bb9d89e-a5ec-400e-a9e6-af36505c0e40",
   "metadata": {},
   "source": [
    "## 함수(function)"
   ]
  },
  {
   "cell_type": "code",
   "execution_count": 4,
   "id": "68ff0770-cb33-4388-8d15-36b77b65c8cb",
   "metadata": {},
   "outputs": [
    {
     "name": "stdout",
     "output_type": "stream",
     "text": [
      "직사각형의 둘레는 60, 면적은 200 입니다.\n"
     ]
    }
   ],
   "source": [
    "height = 10\n",
    "width = 20\n",
    "\n",
    "# 직사각형의 둘레는 ***, 면적은 *** 입니다.\n",
    "\n",
    "area = height * width\n",
    "perimeter = (height + width) * 2\n",
    "\n",
    "print(f'직사각형의 둘레는 {perimeter}, 면적은 {area} 입니다.')"
   ]
  },
  {
   "cell_type": "markdown",
   "id": "f324240f-88c6-40a1-919d-404d7777812f",
   "metadata": {},
   "source": [
    "## 함수의 선언과 호출\n",
    "\n",
    "- 함수의 선언\n",
    "```python\n",
    "def func_name(parameter1, parameter2...):\n",
    "    code1\n",
    "    code2\n",
    "    ...\n",
    "    return value\n",
    "```\n",
    "\n",
    "-함수의 호출(실행)\n",
    "```python\n",
    "func_name(parameter1, parameter2)\n",
    "```"
   ]
  },
  {
   "cell_type": "code",
   "execution_count": 8,
   "id": "ad7ad23e-b06c-429b-a08a-4fab4b1bcf3c",
   "metadata": {},
   "outputs": [],
   "source": [
    "# 함수의 선언\n",
    "def rectangle(height, width):\n",
    "    area = height * width\n",
    "    perimeter = (height + width) * 2\n",
    "    print(f'직사각형의 둘레는 {perimeter}, 면적은 {area} 입니다.')"
   ]
  },
  {
   "cell_type": "code",
   "execution_count": 9,
   "id": "0c39eaa0-9c5c-4ed3-97da-24b93519568a",
   "metadata": {},
   "outputs": [
    {
     "name": "stdout",
     "output_type": "stream",
     "text": [
      "직사각형의 둘레는 60, 면적은 200 입니다.\n",
      "직사각형의 둘레는 100, 면적은 600 입니다.\n"
     ]
    }
   ],
   "source": [
    "# 함수의 실행\n",
    "rectangle(10,20)\n",
    "rectangle(20,30)"
   ]
  },
  {
   "cell_type": "code",
   "execution_count": 10,
   "id": "c6e36823-ba14-4533-a946-7bd40b1ffcee",
   "metadata": {
    "collapsed": true,
    "jupyter": {
     "outputs_hidden": true
    }
   },
   "outputs": [
    {
     "data": {
      "text/plain": [
       "['ArithmeticError',\n",
       " 'AssertionError',\n",
       " 'AttributeError',\n",
       " 'BaseException',\n",
       " 'BaseExceptionGroup',\n",
       " 'BlockingIOError',\n",
       " 'BrokenPipeError',\n",
       " 'BufferError',\n",
       " 'BytesWarning',\n",
       " 'ChildProcessError',\n",
       " 'ConnectionAbortedError',\n",
       " 'ConnectionError',\n",
       " 'ConnectionRefusedError',\n",
       " 'ConnectionResetError',\n",
       " 'DeprecationWarning',\n",
       " 'EOFError',\n",
       " 'Ellipsis',\n",
       " 'EncodingWarning',\n",
       " 'EnvironmentError',\n",
       " 'Exception',\n",
       " 'ExceptionGroup',\n",
       " 'False',\n",
       " 'FileExistsError',\n",
       " 'FileNotFoundError',\n",
       " 'FloatingPointError',\n",
       " 'FutureWarning',\n",
       " 'GeneratorExit',\n",
       " 'IOError',\n",
       " 'ImportError',\n",
       " 'ImportWarning',\n",
       " 'IndentationError',\n",
       " 'IndexError',\n",
       " 'InterruptedError',\n",
       " 'IsADirectoryError',\n",
       " 'KeyError',\n",
       " 'KeyboardInterrupt',\n",
       " 'LookupError',\n",
       " 'MemoryError',\n",
       " 'ModuleNotFoundError',\n",
       " 'NameError',\n",
       " 'None',\n",
       " 'NotADirectoryError',\n",
       " 'NotImplemented',\n",
       " 'NotImplementedError',\n",
       " 'OSError',\n",
       " 'OverflowError',\n",
       " 'PendingDeprecationWarning',\n",
       " 'PermissionError',\n",
       " 'ProcessLookupError',\n",
       " 'RecursionError',\n",
       " 'ReferenceError',\n",
       " 'ResourceWarning',\n",
       " 'RuntimeError',\n",
       " 'RuntimeWarning',\n",
       " 'StopAsyncIteration',\n",
       " 'StopIteration',\n",
       " 'SyntaxError',\n",
       " 'SyntaxWarning',\n",
       " 'SystemError',\n",
       " 'SystemExit',\n",
       " 'TabError',\n",
       " 'TimeoutError',\n",
       " 'True',\n",
       " 'TypeError',\n",
       " 'UnboundLocalError',\n",
       " 'UnicodeDecodeError',\n",
       " 'UnicodeEncodeError',\n",
       " 'UnicodeError',\n",
       " 'UnicodeTranslateError',\n",
       " 'UnicodeWarning',\n",
       " 'UserWarning',\n",
       " 'ValueError',\n",
       " 'Warning',\n",
       " 'WindowsError',\n",
       " 'ZeroDivisionError',\n",
       " '__IPYTHON__',\n",
       " '__build_class__',\n",
       " '__debug__',\n",
       " '__doc__',\n",
       " '__import__',\n",
       " '__loader__',\n",
       " '__name__',\n",
       " '__package__',\n",
       " '__spec__',\n",
       " 'abs',\n",
       " 'aiter',\n",
       " 'all',\n",
       " 'anext',\n",
       " 'any',\n",
       " 'ascii',\n",
       " 'bin',\n",
       " 'bool',\n",
       " 'breakpoint',\n",
       " 'bytearray',\n",
       " 'bytes',\n",
       " 'callable',\n",
       " 'chr',\n",
       " 'classmethod',\n",
       " 'compile',\n",
       " 'complex',\n",
       " 'copyright',\n",
       " 'credits',\n",
       " 'delattr',\n",
       " 'dict',\n",
       " 'dir',\n",
       " 'display',\n",
       " 'divmod',\n",
       " 'enumerate',\n",
       " 'eval',\n",
       " 'exec',\n",
       " 'execfile',\n",
       " 'filter',\n",
       " 'float',\n",
       " 'format',\n",
       " 'frozenset',\n",
       " 'get_ipython',\n",
       " 'getattr',\n",
       " 'globals',\n",
       " 'hasattr',\n",
       " 'hash',\n",
       " 'help',\n",
       " 'hex',\n",
       " 'id',\n",
       " 'input',\n",
       " 'int',\n",
       " 'isinstance',\n",
       " 'issubclass',\n",
       " 'iter',\n",
       " 'len',\n",
       " 'license',\n",
       " 'list',\n",
       " 'locals',\n",
       " 'map',\n",
       " 'max',\n",
       " 'memoryview',\n",
       " 'min',\n",
       " 'next',\n",
       " 'object',\n",
       " 'oct',\n",
       " 'open',\n",
       " 'ord',\n",
       " 'pow',\n",
       " 'print',\n",
       " 'property',\n",
       " 'range',\n",
       " 'repr',\n",
       " 'reversed',\n",
       " 'round',\n",
       " 'runfile',\n",
       " 'set',\n",
       " 'setattr',\n",
       " 'slice',\n",
       " 'sorted',\n",
       " 'staticmethod',\n",
       " 'str',\n",
       " 'sum',\n",
       " 'super',\n",
       " 'tuple',\n",
       " 'type',\n",
       " 'vars',\n",
       " 'zip']"
      ]
     },
     "execution_count": 10,
     "metadata": {},
     "output_type": "execute_result"
    }
   ],
   "source": [
    "dir(__builtins__)"
   ]
  },
  {
   "cell_type": "code",
   "execution_count": 15,
   "id": "33e8f6ee-1b73-41eb-a0b8-5cb5041a2813",
   "metadata": {},
   "outputs": [],
   "source": [
    "# 두개의 정수를 받아서 큰수를 출력\n",
    "def my_max(a, b):\n",
    "    if a > b :\n",
    "        print(f'{a}가 더 큽니다')\n",
    "    elif b > a:\n",
    "        print(f'{b}가 더 큽니다')\n",
    "    else:\n",
    "        print('두 수가 같다.')"
   ]
  },
  {
   "cell_type": "code",
   "execution_count": 18,
   "id": "8b0d0a80-be36-4a71-a41f-e3f56083f115",
   "metadata": {},
   "outputs": [
    {
     "name": "stdout",
     "output_type": "stream",
     "text": [
      "5가 더 큽니다\n",
      "20가 더 큽니다\n",
      "두 수가 같다.\n",
      "5가 더 큽니다\n",
      "None\n"
     ]
    }
   ],
   "source": [
    "my_max(1,5)\n",
    "my_max(20,17)\n",
    "my_max(20,20)\n",
    "\n",
    "result = my_max(1,5)\n",
    "print(result)"
   ]
  },
  {
   "cell_type": "markdown",
   "id": "471f5349-d7fb-4189-8036-6118eaa55505",
   "metadata": {},
   "source": [
    "## 함수의 return\n",
    "- 함수가 return을 만나면 해당 값을 반환하고 함수를 종료\n",
    "- 만약 return이 없다면 None을 자동으로 반환\n",
    "- return은 오직 하나의 객체만 반환"
   ]
  },
  {
   "cell_type": "code",
   "execution_count": 23,
   "id": "a04e0de3-e557-4fc2-b69b-68ab067e5471",
   "metadata": {},
   "outputs": [],
   "source": [
    "# 두개의 정수를 받아서 큰수를 반환\n",
    "def my_max2(a, b):\n",
    "\n",
    "    #return 'hello' -> hello 출력되고 끝.\n",
    "    \n",
    "    if a > b :\n",
    "        return a\n",
    "    elif b > a:\n",
    "        return b\n",
    "    else:\n",
    "        return 0"
   ]
  },
  {
   "cell_type": "code",
   "execution_count": 24,
   "id": "fa607a6e-f756-41a9-8545-1252837b4533",
   "metadata": {},
   "outputs": [
    {
     "name": "stdout",
     "output_type": "stream",
     "text": [
      "5가 더 큽니다.\n"
     ]
    }
   ],
   "source": [
    "result = my_max2(1,5)\n",
    "print(f'{result}가 더 큽니다.')"
   ]
  },
  {
   "cell_type": "code",
   "execution_count": 28,
   "id": "acdd3b47-2749-43a4-a6c3-780197601261",
   "metadata": {},
   "outputs": [],
   "source": [
    "def my_list_max(list_a, list_b):\n",
    "    if sum(list_a) > sum(list_b):\n",
    "        return list_a  #print는 할당이 불가능해서 재사용이 불가능 하지만 return은 할당을 해줘서 재사용이 가능\n",
    "    else:\n",
    "        return list_b"
   ]
  },
  {
   "cell_type": "code",
   "execution_count": 29,
   "id": "5e6da446-e770-4b68-bfbe-c006a8acaca9",
   "metadata": {},
   "outputs": [
    {
     "data": {
      "text/plain": [
       "([11, 12], 123)"
      ]
     },
     "execution_count": 29,
     "metadata": {},
     "output_type": "execute_result"
    }
   ],
   "source": [
    "my_list_max([10, 11], [11, 12])"
   ]
  },
  {
   "cell_type": "markdown",
   "id": "5d483079-151b-4315-98bd-52e07f7613d8",
   "metadata": {},
   "source": [
    "## 함수의 인수"
   ]
  },
  {
   "cell_type": "markdown",
   "id": "53235174-7b3d-48e2-ae02-c7a588b0e7f6",
   "metadata": {},
   "source": [
    "### 위치 인수\n",
    "기본적으로 함수는 인수의 위치로 판단함.\n",
    "위치에 따라서 데이터가 순서대로 들어간다."
   ]
  },
  {
   "cell_type": "code",
   "execution_count": 3,
   "id": "b4867fa0-5930-47dc-bae2-816f3cdc85a4",
   "metadata": {},
   "outputs": [
    {
     "name": "stdout",
     "output_type": "stream",
     "text": [
      "1570.0\n",
      "785.0\n"
     ]
    }
   ],
   "source": [
    "def cylinder(r,h):\n",
    "    return 3.14 * r**2 * h\n",
    "\n",
    "print(cylinder(10,5))\n",
    "print(cylinder(5, 10))"
   ]
  },
  {
   "cell_type": "markdown",
   "id": "4b5ef194-7578-4434-a2a8-3f2ee97741dd",
   "metadata": {},
   "source": [
    "### 기본값\n",
    "\n",
    "```python\n",
    "def func(p1=v1):\n",
    "    return v1\n",
    "```"
   ]
  },
  {
   "cell_type": "code",
   "execution_count": 1,
   "id": "2de124e2-14eb-4bda-b45c-21db51031d17",
   "metadata": {},
   "outputs": [
    {
     "name": "stdout",
     "output_type": "stream",
     "text": [
      "익명님 반갑습니다.\n"
     ]
    }
   ],
   "source": [
    "# def greeting(name):\n",
    "#     return f'{name}님 반갑습니다.'\n",
    "\n",
    "# print(greeting('유진'))\n",
    "# print(greeting())\n",
    "\n",
    "def greeting(name='익명'):\n",
    "    return f'{name}님 반갑습니다.'\n",
    "\n",
    "print(greeting())"
   ]
  },
  {
   "cell_type": "code",
   "execution_count": 3,
   "id": "dc093444-ad7c-4cf1-9b7a-204233926403",
   "metadata": {},
   "outputs": [],
   "source": [
    "def greeting(name = '익명', age=20):\n",
    "    return f'{name}님은 {age}입니다.'"
   ]
  },
  {
   "cell_type": "code",
   "execution_count": 4,
   "id": "dd977cc9-a719-42f9-aa13-54dc4b4633e2",
   "metadata": {},
   "outputs": [
    {
     "name": "stdout",
     "output_type": "stream",
     "text": [
      "홍길동님은 10살입니다.\n",
      "익명님은 20살입니다.\n"
     ]
    }
   ],
   "source": [
    "def greeting(age, name = '익명'):\n",
    "    return f'{name}님은 {age}살입니다.'\n",
    "\n",
    "print(greeting(10, '홍길동'))\n",
    "print(greeting(20))"
   ]
  },
  {
   "cell_type": "markdown",
   "id": "6af7e6d7-88ee-4dd9-b40f-8ec4acbe2882",
   "metadata": {},
   "source": [
    "### 키워드 인자\n",
    "함수를 호출(실행)할때 내가 원하는 위치에 직접적으로 특정인자를 전달가능"
   ]
  },
  {
   "cell_type": "code",
   "execution_count": 8,
   "id": "d81b26f4-7e69-4167-846d-5f0688e92db1",
   "metadata": {},
   "outputs": [
    {
     "name": "stdout",
     "output_type": "stream",
     "text": [
      "홍길동님은 10살입니다.\n",
      "홍길동님은 10살입니다.\n"
     ]
    }
   ],
   "source": [
    "def greeting(age, name = '익명'):\n",
    "    return f'{name}님은 {age}살입니다.'\n",
    "\n",
    "print(greeting(10,'홍길동'))\n",
    "print(greeting(name='홍길동',age=10)) #원래는 위치인수대로 차례로 넣어줘야하지만 키워드를 적고 직접 명령함으로써 바꿀 수 있음."
   ]
  },
  {
   "cell_type": "code",
   "execution_count": 13,
   "id": "ba47495a-0561-45b2-800b-f9985aa242b6",
   "metadata": {},
   "outputs": [
    {
     "name": "stdout",
     "output_type": "stream",
     "text": [
      "안녕\n",
      "안녕!하세여?\""
     ]
    }
   ],
   "source": [
    "print('안녕')\n",
    "print('안녕','하세여', sep='!' , end='?\"')\n",
    "# sep : 사이에 넣을 것\n",
    "# end : 문자 다 출력하고 마지막에 붙일 것"
   ]
  },
  {
   "cell_type": "markdown",
   "id": "dda4028d-f832-488d-8ad9-25fe36fe3c24",
   "metadata": {},
   "source": [
    "### 가변 인자 리스트\n",
    "```python\n",
    "def func(*params):\n",
    "    pass\n",
    "\n",
    "```"
   ]
  },
  {
   "cell_type": "code",
   "execution_count": 14,
   "id": "ee3c870a-32e2-47ef-a9df-89a713b064ae",
   "metadata": {},
   "outputs": [
    {
     "name": "stdout",
     "output_type": "stream",
     "text": [
      "('hi', 'hello')\n",
      "<class 'tuple'>\n"
     ]
    }
   ],
   "source": [
    "def my_print(*words):\n",
    "    print(words)  # 인자가 몇개 들어올 지 모르는 상황(가변적인 상황)에서 하나의 튜플로 나옴\n",
    "    print(type(words))\n",
    "\n",
    "my_print('hi','hello')"
   ]
  },
  {
   "cell_type": "code",
   "execution_count": 19,
   "id": "59cb3381-b8f7-45d8-bef3-ec5b1ee81990",
   "metadata": {},
   "outputs": [
    {
     "name": "stdout",
     "output_type": "stream",
     "text": [
      "5\n"
     ]
    }
   ],
   "source": [
    "# 풀어보기\n",
    "def my_max(*nums):\n",
    "    print(max(nums))\n",
    "\n",
    "my_max(1,2,3,4,5)"
   ]
  },
  {
   "cell_type": "code",
   "execution_count": 24,
   "id": "0a77d3c1-ca6b-4929-8b9d-793a9e8d426c",
   "metadata": {},
   "outputs": [
    {
     "data": {
      "text/plain": [
       "5"
      ]
     },
     "execution_count": 24,
     "metadata": {},
     "output_type": "execute_result"
    }
   ],
   "source": [
    "# 양수의 경우\n",
    "def my_max(*numbers):\n",
    "    result = 0  #양수만 들어오면 상관없음\n",
    "    for number in numbers:\n",
    "        if result < number :\n",
    "            result = number\n",
    "    return result\n",
    "my_max(1,2,3,4,5)\n",
    "\n",
    "# 음수의 경우\n",
    "# def my_max(*numbers):\n",
    "#     result = number[0] # 음수로 들어오는 것까지 생각해서\n",
    "#     for number in numbers:\n",
    "#         if result < number :\n",
    "#             result = number\n",
    "#     return result\n",
    "# my_max(-1,-2,-3,-4,-5)"
   ]
  },
  {
   "cell_type": "markdown",
   "id": "b0dd5475-c411-4a4c-b9cb-e9e5102266eb",
   "metadata": {},
   "source": [
    "### 정의되지 않은 키워드 인자 처리하기\n",
    "\n",
    "```python\n",
    "def func(**kwargs):\n",
    "    pass\n",
    "```"
   ]
  },
  {
   "cell_type": "code",
   "execution_count": 27,
   "id": "1acae54b-e18d-4a30-941e-70b011573caf",
   "metadata": {},
   "outputs": [
    {
     "name": "stdout",
     "output_type": "stream",
     "text": [
      "{'name': 'hong', 'age': 20}\n"
     ]
    }
   ],
   "source": [
    "info = {\n",
    "    'name' : 'hong',\n",
    "    'age' : 20\n",
    "}\n",
    "\n",
    "print(info)"
   ]
  },
  {
   "cell_type": "code",
   "execution_count": 29,
   "id": "ef12cd01-e08c-4276-a5b0-1223ce7039e7",
   "metadata": {},
   "outputs": [
    {
     "name": "stdout",
     "output_type": "stream",
     "text": [
      "{'name': 'hong', 'age': 20, 'asdf': 1234}\n"
     ]
    }
   ],
   "source": [
    "info = dict(name = 'hong', age= 20)\n",
    "print(info)\n",
    "\n",
    "info = dict(name = 'hong', age= 20, asdf=1234)\n",
    "print(info)"
   ]
  },
  {
   "cell_type": "code",
   "execution_count": 30,
   "id": "f3814650-e83c-496c-a34a-5c680c1669e5",
   "metadata": {},
   "outputs": [
    {
     "name": "stdout",
     "output_type": "stream",
     "text": [
      "{'korean': '안녕', 'english': 'hello'}\n",
      "<class 'dict'>\n"
     ]
    }
   ],
   "source": [
    "def fake_dict(**kwargs):    # **뒤에는 아무렇게나 지어도됨 (kwargs : keyward arguments)\n",
    "    print(kwargs)\n",
    "    print(type(kwargs))\n",
    "\n",
    "fake_dict(korean = \"안녕\", english = \"hello\")"
   ]
  },
  {
   "cell_type": "code",
   "execution_count": 31,
   "id": "5efc8a9c-6714-466a-b09b-86b40c5531a6",
   "metadata": {},
   "outputs": [
    {
     "name": "stdout",
     "output_type": "stream",
     "text": [
      "korean는 안녕입니다.\n",
      "english는 hello입니다.\n"
     ]
    }
   ],
   "source": [
    "def fake_dict(**kwargs):\n",
    "    for key, value in kwargs.items():\n",
    "        print(f'{key}는 {value}입니다.')\n",
    "\n",
    "fake_dict(korean = \"안녕\", english = \"hello\")"
   ]
  },
  {
   "cell_type": "markdown",
   "id": "04c40db6-bb17-4b6a-9b07-1e1e3d63732f",
   "metadata": {},
   "source": [
    "### 딕셔너리를 인자로 넣기(unpacking)"
   ]
  },
  {
   "cell_type": "code",
   "execution_count": 6,
   "id": "888219fc-95fa-4d78-81a2-6d0a230c34f8",
   "metadata": {},
   "outputs": [
    {
     "name": "stdout",
     "output_type": "stream",
     "text": [
      "비밀번호가 일치하지 않습니다.\n"
     ]
    }
   ],
   "source": [
    "def sign_up(username, password, password_confirmation):\n",
    "    if password == password_confirmation:\n",
    "        print(f'{username}님 회원가입이 완료되었습니다.')\n",
    "    else:\n",
    "        print('비밀번호가 일치하지 않습니다.')\n",
    "\n",
    "sign_up('yj','1234','12342')"
   ]
  },
  {
   "cell_type": "code",
   "execution_count": 7,
   "id": "7a40e6d7-f39d-4533-bb7c-3e52f74242ac",
   "metadata": {},
   "outputs": [
    {
     "name": "stdout",
     "output_type": "stream",
     "text": [
      "yj님 회원가입이 완료되었습니다.\n"
     ]
    }
   ],
   "source": [
    "my_account = {\n",
    "    'username' : 'yj',\n",
    "    'password' : '1234',\n",
    "    'password_confirmation' : '1234'   \n",
    "}\n",
    "\n",
    "sign_up(**my_account)"
   ]
  },
  {
   "cell_type": "markdown",
   "id": "a0ca0c8b-cb85-4f86-b209-92a53b64482f",
   "metadata": {},
   "source": [
    "### lambda 표현식\n",
    "\n",
    "```python\n",
    "lambda parameter : expression\n",
    "```"
   ]
  },
  {
   "cell_type": "code",
   "execution_count": 36,
   "id": "cd42ec1b-a433-45ba-811a-034053bbcfaa",
   "metadata": {},
   "outputs": [
    {
     "data": {
      "text/plain": [
       "3"
      ]
     },
     "execution_count": 36,
     "metadata": {},
     "output_type": "execute_result"
    }
   ],
   "source": [
    "(lambda a, b: a+b)(1,2)  #lambda = def, a, b : (a,b), a+b : return a+b\n",
    "\n",
    "# 위와 아래 같은 식"
   ]
  },
  {
   "cell_type": "code",
   "execution_count": 37,
   "id": "a44dc28e-f60e-4469-be34-f9ed0e7f61ef",
   "metadata": {},
   "outputs": [
    {
     "data": {
      "text/plain": [
       "3"
      ]
     },
     "execution_count": 37,
     "metadata": {},
     "output_type": "execute_result"
    }
   ],
   "source": [
    "def my_sum(a,b):\n",
    "    return a + b\n",
    "\n",
    "my_sum(1,2)"
   ]
  },
  {
   "cell_type": "markdown",
   "id": "3b75600e-48d9-4e26-9234-273b1444c907",
   "metadata": {},
   "source": [
    "### 타입 힌트\n",
    "- 함수 어노테이션\n",
    "- 상세하게 어떤 타입이 들어오는지\n",
    "- 함수를 쓰려고 하는 개발자를 위해서 타입을 주석으로 달아준 개념"
   ]
  },
  {
   "cell_type": "code",
   "execution_count": 38,
   "id": "739488ac-aeb2-47a7-9fea-418fc3a722f0",
   "metadata": {},
   "outputs": [
    {
     "data": {
      "text/plain": [
       "3"
      ]
     },
     "execution_count": 38,
     "metadata": {},
     "output_type": "execute_result"
    }
   ],
   "source": [
    "def my_sum(num1, num2):\n",
    "    return num1+num2\n",
    "\n",
    "my_sum(1,2)"
   ]
  },
  {
   "cell_type": "code",
   "execution_count": 41,
   "id": "fec6c9a1-e1f6-40c3-a7b6-1cb8fc81bb30",
   "metadata": {},
   "outputs": [
    {
     "ename": "TypeError",
     "evalue": "can only concatenate str (not \"int\") to str",
     "output_type": "error",
     "traceback": [
      "\u001b[1;31m---------------------------------------------------------------------------\u001b[0m",
      "\u001b[1;31mTypeError\u001b[0m                                 Traceback (most recent call last)",
      "Cell \u001b[1;32mIn[41], line 5\u001b[0m\n\u001b[0;32m      2\u001b[0m     \u001b[38;5;28;01mreturn\u001b[39;00m num1\u001b[38;5;241m+\u001b[39mnum2\n\u001b[0;32m      4\u001b[0m my_sum(\u001b[38;5;241m1\u001b[39m,\u001b[38;5;241m2\u001b[39m)\n\u001b[1;32m----> 5\u001b[0m \u001b[43mmy_sum\u001b[49m\u001b[43m(\u001b[49m\u001b[38;5;124;43m'\u001b[39;49m\u001b[38;5;124;43m1\u001b[39;49m\u001b[38;5;124;43m'\u001b[39;49m\u001b[43m,\u001b[49m\u001b[38;5;241;43m2\u001b[39;49m\u001b[43m)\u001b[49m\n",
      "Cell \u001b[1;32mIn[41], line 2\u001b[0m, in \u001b[0;36mmy_sum\u001b[1;34m(num1, num2)\u001b[0m\n\u001b[0;32m      1\u001b[0m \u001b[38;5;28;01mdef\u001b[39;00m \u001b[38;5;21mmy_sum\u001b[39m(num1 : \u001b[38;5;28mint\u001b[39m, num2 :\u001b[38;5;28mint\u001b[39m) \u001b[38;5;241m-\u001b[39m\u001b[38;5;241m>\u001b[39m \u001b[38;5;28mint\u001b[39m:\n\u001b[1;32m----> 2\u001b[0m     \u001b[38;5;28;01mreturn\u001b[39;00m \u001b[43mnum1\u001b[49m\u001b[38;5;241;43m+\u001b[39;49m\u001b[43mnum2\u001b[49m\n",
      "\u001b[1;31mTypeError\u001b[0m: can only concatenate str (not \"int\") to str"
     ]
    }
   ],
   "source": [
    "def my_sum(num1 : int, num2 :int) -> int:  # 개발자들의 편의성을 위해 설명을 적는것 1\n",
    "    return num1+num2\n",
    "\n",
    "my_sum(1,2)\n",
    "my_sum('1',2)"
   ]
  },
  {
   "cell_type": "code",
   "execution_count": 42,
   "id": "fad91321-f698-4bdb-bfb3-30fdbdc6d59d",
   "metadata": {},
   "outputs": [],
   "source": [
    "def my_sum(num1 : int, num2 :int) -> int:\n",
    "    '''\n",
    "    두수의 합을 구하는 함수입니다.\n",
    "    매개변수 num1, num2를 받아서 num1+num2를 리턴입니다.  # 개발자들의 편의성을 위해 설명을 적는것 2\n",
    "    '''\n",
    "\n",
    "my_sum('1',2)"
   ]
  },
  {
   "cell_type": "markdown",
   "id": "43518f3b-a1be-4fb2-aa76-7775a7cb4b10",
   "metadata": {},
   "source": [
    "### 이름공간(scope)\n",
    "파이썬에서 사용되는 이름들은 이름공간(namespace)에 저장되어있습니다.\n",
    "- Local scope : 정의된 함수 내부\n",
    "- Enclosed scope : 상위 함수\n",
    "- Global scope : 함수 밖의 변수 혹은 import된 모듈\n",
    "- Built-in scope : 파이썬이 기본적으로 가지고 있는 함수 혹은 변수"
   ]
  },
  {
   "cell_type": "code",
   "execution_count": 43,
   "id": "1c0dd312-443e-48a3-a2a2-df8728950ff6",
   "metadata": {},
   "outputs": [],
   "source": [
    "str = '123' #local scope"
   ]
  },
  {
   "cell_type": "code",
   "execution_count": 46,
   "id": "275e7dda-9def-4a53-9d87-5b15498c5d6d",
   "metadata": {},
   "outputs": [
    {
     "name": "stdout",
     "output_type": "stream",
     "text": [
      "123\n"
     ]
    }
   ],
   "source": [
    "print(str)"
   ]
  },
  {
   "cell_type": "code",
   "execution_count": 45,
   "id": "0d0bda3c-0fdf-4638-9ae1-a59fd8cc13fe",
   "metadata": {},
   "outputs": [
    {
     "ename": "TypeError",
     "evalue": "'str' object is not callable",
     "output_type": "error",
     "traceback": [
      "\u001b[1;31m---------------------------------------------------------------------------\u001b[0m",
      "\u001b[1;31mTypeError\u001b[0m                                 Traceback (most recent call last)",
      "Cell \u001b[1;32mIn[45], line 1\u001b[0m\n\u001b[1;32m----> 1\u001b[0m \u001b[38;5;28;43mstr\u001b[39;49m\u001b[43m(\u001b[49m\u001b[38;5;241;43m456\u001b[39;49m\u001b[43m)\u001b[49m\n",
      "\u001b[1;31mTypeError\u001b[0m: 'str' object is not callable"
     ]
    }
   ],
   "source": [
    "str(456) #Built-in scope"
   ]
  },
  {
   "cell_type": "code",
   "execution_count": 47,
   "id": "63be5e5e-923e-4d4c-978e-52876f392985",
   "metadata": {},
   "outputs": [],
   "source": [
    "del str #변수 지우기"
   ]
  },
  {
   "cell_type": "code",
   "execution_count": 48,
   "id": "bf8a00e4-160c-4665-aeb1-4723ed990991",
   "metadata": {},
   "outputs": [
    {
     "name": "stdout",
     "output_type": "stream",
     "text": [
      "5\n"
     ]
    }
   ],
   "source": [
    "a = 1\n",
    "def localscope(a):\n",
    "    # a = 5  # localscope(5)\n",
    "    print(a) # 함수내에서는 함수 안에있는 변수가 나오게됨\n",
    "\n",
    "localscope(5)"
   ]
  },
  {
   "cell_type": "code",
   "execution_count": 49,
   "id": "5cfe4548-00c2-4215-8eee-edc8443c6aaf",
   "metadata": {},
   "outputs": [
    {
     "name": "stdout",
     "output_type": "stream",
     "text": [
      "20\n"
     ]
    }
   ],
   "source": [
    "num = 10\n",
    "def scope():\n",
    "    num = 20\n",
    "    print(num)\n",
    "\n",
    "scope()"
   ]
  },
  {
   "cell_type": "code",
   "execution_count": 52,
   "id": "e001f56b-1bc2-421a-8382-8970b31873e0",
   "metadata": {},
   "outputs": [
    {
     "name": "stdout",
     "output_type": "stream",
     "text": [
      "20\n",
      "20\n"
     ]
    }
   ],
   "source": [
    "num = 10\n",
    "def scope():\n",
    "    global num\n",
    "    num = 20\n",
    "    print(num)\n",
    "\n",
    "scope()\n",
    "print(num)"
   ]
  },
  {
   "cell_type": "markdown",
   "id": "3658fdd2-746b-4f94-9aef-f7f7aee77ee6",
   "metadata": {},
   "source": [
    "## 재귀 (recursive)\n",
    "재귀 함수는 함수 내부에서 자기 자신을 호출하는 함수를 의미한다."
   ]
  },
  {
   "cell_type": "code",
   "execution_count": 60,
   "id": "10919c2e-3b7e-4116-bbd7-5b4a60e4baba",
   "metadata": {},
   "outputs": [
    {
     "data": {
      "text/plain": [
       "120"
      ]
     },
     "execution_count": 60,
     "metadata": {},
     "output_type": "execute_result"
    }
   ],
   "source": [
    "# 팩토리얼 (다시 풀어보기)\n",
    "def fact(n):\n",
    "    result = 1\n",
    "    while n > 1:\n",
    "        result *= n # result = result * n\n",
    "        n -= 1  # n = n - 1\n",
    "    return result\n",
    "fact(5)"
   ]
  },
  {
   "cell_type": "markdown",
   "id": "e12abedf-d3dd-4842-a386-377c3d82bfd0",
   "metadata": {},
   "source": [
    "1! = 1\n",
    "2! = 1 * 2 ! = 1! * 2\n",
    "3! = 1 * 2 * 3 = 2! = 3\n",
    "\n",
    "fact(5)\n",
    "fact(fact(4) * 5 )\n",
    "fact(fact(fact(3) * 4 ) * 5 )"
   ]
  },
  {
   "cell_type": "code",
   "execution_count": 64,
   "id": "9018dd5a-9dd1-46c4-a076-44c76053daf5",
   "metadata": {},
   "outputs": [
    {
     "data": {
      "text/plain": [
       "120"
      ]
     },
     "execution_count": 64,
     "metadata": {},
     "output_type": "execute_result"
    }
   ],
   "source": [
    "def factorial(n):\n",
    "    if n <= 1:  # n = 1일때의 의미 (0을 하게되면 계산한게 전체 0으 되기때문에 안됨)\n",
    "        return 1\n",
    "    else:\n",
    "        return factorial(n-1) * n\n",
    "        # 10! = 9! * 10 = ... = 1!\n",
    "\n",
    "factorial(5)"
   ]
  },
  {
   "cell_type": "markdown",
   "id": "93f7b0f4-9ead-4b96-88db-7d622c73aec7",
   "metadata": {},
   "source": [
    "### 피보나치 수열\n",
    "\n",
    "``` python\n",
    "F(n) = F(n-1) + F(n-2)\n",
    "F(0) = F(1) = 1\n",
    "F(2) = F(1) + F(0) = 1 + 1 = 2\n",
    "F(3) = F(2) + F(1) = 2 + 1 = 3\n",
    "F(4) = F(3) + F(2) = 3 + 2 = 5\n",
    "F(5) = F(4) + F(3) = 5 + 3 = 8\n",
    "F(6) = F(5) + F(4) = 8 + 5 = 13\n",
    "```"
   ]
  },
  {
   "cell_type": "code",
   "execution_count": 109,
   "id": "6c1468e8-e737-4720-95c8-7a4150c8c708",
   "metadata": {},
   "outputs": [
    {
     "data": {
      "text/plain": [
       "573147844013817084101"
      ]
     },
     "execution_count": 109,
     "metadata": {},
     "output_type": "execute_result"
    }
   ],
   "source": [
    "#반복\n",
    "def fib_loop(n):\n",
    "    result = [1,1]\n",
    "    for i in range(1,n):\n",
    "        end1 = result[-1]\n",
    "        end2 = result[len(result)-2]\n",
    "        fib_num = end1 + end2\n",
    "\n",
    "        result.append(fib_num)\n",
    "        \n",
    "    return result[-1]\n",
    "\n",
    "fib_loop(10)"
   ]
  },
  {
   "cell_type": "code",
   "execution_count": 8,
   "id": "14bc6f21-ef08-4480-b75c-7a7c322ec346",
   "metadata": {
    "collapsed": true,
    "jupyter": {
     "outputs_hidden": true
    }
   },
   "outputs": [
    {
     "data": {
      "text/plain": [
       "89"
      ]
     },
     "execution_count": 8,
     "metadata": {},
     "output_type": "execute_result"
    }
   ],
   "source": [
    "#재귀 반복문과 다르게 오래걸림 (비효율적인 계산방식)\n",
    "def fib_rec(n):\n",
    "    if n == 0 or n == 1:\n",
    "        return 1\n",
    "    else:\n",
    "        return fib_rec(n-1) + fib_rec(n-2)\n",
    "fib_rec(10)"
   ]
  }
 ],
 "metadata": {
  "kernelspec": {
   "display_name": "Python 3 (ipykernel)",
   "language": "python",
   "name": "python3"
  },
  "language_info": {
   "codemirror_mode": {
    "name": "ipython",
    "version": 3
   },
   "file_extension": ".py",
   "mimetype": "text/x-python",
   "name": "python",
   "nbconvert_exporter": "python",
   "pygments_lexer": "ipython3",
   "version": "3.11.4"
  }
 },
 "nbformat": 4,
 "nbformat_minor": 5
}
