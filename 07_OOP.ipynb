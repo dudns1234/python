{
 "cells": [
  {
   "cell_type": "markdown",
   "id": "3dcbd9e7-d0bf-4eda-8234-31d6372dc741",
   "metadata": {},
   "source": [
    "# 객체지행 프로그래밍(OOP)\n",
    "\n",
    "- 클래스(class) : 같은 종류의 집단에 속하는 속성(attribute)과 행위(method)를 **정의**한 것\n",
    "- 인스턴스(instance) : 클래스를 실제로 메모리상에 할당한 것\n",
    "- 속성(attribute) : 클래스 / 인스턴스가 가지고 있는 **데이터**/값\n",
    "- 행위(method) : 클래스 / 인스턴스가 가지고 있는 **함수**/값\n",
    "\n",
    "- 객체 : 클래스 + 인스턴스"
   ]
  },
  {
   "cell_type": "code",
   "execution_count": 1,
   "id": "62d4a79f-18ec-4e8e-a43e-6bb249c7260b",
   "metadata": {},
   "outputs": [
    {
     "name": "stdout",
     "output_type": "stream",
     "text": [
      "(1+2j)\n"
     ]
    }
   ],
   "source": [
    "number = 1 + 2j  # complex type\n",
    "print(number)"
   ]
  },
  {
   "cell_type": "code",
   "execution_count": 4,
   "id": "0af2c680-f328-4ccf-87e7-33a9434c416c",
   "metadata": {},
   "outputs": [
    {
     "name": "stdout",
     "output_type": "stream",
     "text": [
      "1.0\n",
      "2.0\n"
     ]
    }
   ],
   "source": [
    "# 속성(attribute) : real, imag / 속성은 데이터이기 때문에 뒤에 ()를 붙이지 않음.\n",
    "print(number.real)\n",
    "print(number.imag)\n"
   ]
  },
  {
   "cell_type": "code",
   "execution_count": 8,
   "id": "355f69e2-c105-4c65-bbf6-15a5aaeecbbf",
   "metadata": {},
   "outputs": [
    {
     "name": "stdout",
     "output_type": "stream",
     "text": [
      "<class 'complex'>\n"
     ]
    }
   ],
   "source": [
    "print(type(number))"
   ]
  },
  {
   "cell_type": "code",
   "execution_count": 7,
   "id": "a291169a-f9db-4e6d-bcff-8392c915e120",
   "metadata": {},
   "outputs": [
    {
     "name": "stdout",
     "output_type": "stream",
     "text": [
      "<class 'list'>\n"
     ]
    }
   ],
   "source": [
    "my_list = [1,2,3,4,5] # my_list라는 객체 생성\n",
    "print(type(my_list))\n",
    "my_list.sort() # 행위 (method : sort() )"
   ]
  },
  {
   "cell_type": "code",
   "execution_count": 9,
   "id": "ffaa14d8-00f7-468c-b5f9-db7f8e0a4e1e",
   "metadata": {},
   "outputs": [],
   "source": [
    "# 대상자 1\n",
    "power = False\n",
    "number = '010-1234-1234'\n",
    "book = {\n",
    "    '홍길동' : '010-1111-1111',\n",
    "    '이순신' : '010-2222-2222'\n",
    "}\n",
    "model = 'iPhone12'"
   ]
  },
  {
   "cell_type": "code",
   "execution_count": 10,
   "id": "b6c49437-72dd-406e-89cb-2b865a2dbf22",
   "metadata": {},
   "outputs": [],
   "source": [
    "def on():\n",
    "    global power\n",
    "    if power == False:\n",
    "        power = True\n",
    "        print('핸드폰 켜짐')"
   ]
  },
  {
   "cell_type": "code",
   "execution_count": 11,
   "id": "5308e356-f166-449a-ba2f-677da75287e2",
   "metadata": {},
   "outputs": [
    {
     "name": "stdout",
     "output_type": "stream",
     "text": [
      "핸드폰 켜짐\n"
     ]
    }
   ],
   "source": [
    "on()"
   ]
  },
  {
   "cell_type": "code",
   "execution_count": null,
   "id": "f6f18dc8-82db-47fd-929b-781437061da8",
   "metadata": {},
   "outputs": [],
   "source": [
    "# 대상자 2\n",
    "power2 = False\n",
    "number2 = '010-1234-1234'\n",
    "book2 = {\n",
    "    '홍길동' : '010-1111-1111',\n",
    "    '이순신' : '010-2222-2222'\n",
    "}\n",
    "model2 = 'iPhone12'\n",
    "\n",
    "# 대상자 3\n",
    "power3 = False\n",
    "number3 = '010-1234-1234'\n",
    "book3 = {\n",
    "    '홍길동' : '010-1111-1111',\n",
    "    '이순신' : '010-2222-2222'\n",
    "}\n",
    "model3 = 'iPhone12'\n",
    "\n",
    "# 점점 대상자2, 대상자3, ..., 대상자10000 로 되면 관리하기가 힘들어지기 때문에 이와 같은 문제를 해결하기 위해 객체지향 프로그래밍이 등장함."
   ]
  },
  {
   "cell_type": "markdown",
   "id": "987a560a-390d-4a4d-bf9b-b2375112590f",
   "metadata": {},
   "source": [
    "## class\n",
    "\n",
    "- 클래스 선언\n",
    "```python\n",
    "class ClassName:\n",
    "    attribute = value\n",
    "\n",
    "    def method_name(self):\n",
    "        code\n",
    "```\n",
    "\n",
    "- 인스턴스화\n",
    "```python\n",
    "ClassName()\n",
    "```"
   ]
  },
  {
   "cell_type": "code",
   "execution_count": 12,
   "id": "b520c4e6-1f7e-423a-a7c7-c70e30e94ce7",
   "metadata": {},
   "outputs": [],
   "source": [
    "# 선언\n",
    "class MyClass:\n",
    "    name = 'kim'\n",
    "\n",
    "    def hello(self):\n",
    "        return 'hello'"
   ]
  },
  {
   "cell_type": "code",
   "execution_count": 14,
   "id": "f623c3a6-e07f-4692-8276-26b0e966bd27",
   "metadata": {},
   "outputs": [
    {
     "name": "stdout",
     "output_type": "stream",
     "text": [
      "kim\n",
      "hello\n",
      "kim\n",
      "hello\n"
     ]
    }
   ],
   "source": [
    "# 인스턴스화\n",
    "a = MyClass()\n",
    "\n",
    "print(a.name)  # 속성\n",
    "print(a.hello()) # hello라는 메소드를 실행한 결과 (hello가 가지고 있는 기능)\n",
    "\n",
    "b = MyClass()\n",
    "\n",
    "print(b.name)\n",
    "print(b.hello())"
   ]
  },
  {
   "cell_type": "code",
   "execution_count": 23,
   "id": "60d65ced-5c06-4475-bfb5-7ae8117a5358",
   "metadata": {},
   "outputs": [],
   "source": [
    "class Phone:\n",
    "    power = False\n",
    "    number = '010-0000-0000' # 데이터\n",
    "    book = {} # 데이터\n",
    "    model = '' # 데이터\n",
    "\n",
    "    def on(self):  # function\n",
    "        if self.power == False:\n",
    "            self.power = True\n",
    "\n",
    "    def off(self):  # function\n",
    "        if self.power == True:\n",
    "            self.power = False\n",
    "\n",
    "    def call(self, target):  # function\n",
    "        if self.power == True:\n",
    "            print(f'내 번호는 {self.number}입니다.')\n",
    "            print(f'{target}번호로 전화거는중')\n",
    "        else:\n",
    "            print('핸드폰을 켜주세요')"
   ]
  },
  {
   "cell_type": "code",
   "execution_count": 24,
   "id": "8cf59e35-a0a5-4e8b-9f37-acecb130f63b",
   "metadata": {},
   "outputs": [],
   "source": [
    "# 인스턴스화\n",
    "my_phone = Phone()\n",
    "your_phone = Phone()"
   ]
  },
  {
   "cell_type": "code",
   "execution_count": 25,
   "id": "a8e03d2c-f185-4646-9833-552ee98f7545",
   "metadata": {},
   "outputs": [
    {
     "data": {
      "text/plain": [
       "'010-0000-0000'"
      ]
     },
     "execution_count": 25,
     "metadata": {},
     "output_type": "execute_result"
    }
   ],
   "source": [
    "my_phone.number # 데이터"
   ]
  },
  {
   "cell_type": "code",
   "execution_count": 26,
   "id": "c47a97bf-5ffb-4c01-936a-e4dc23e5607d",
   "metadata": {},
   "outputs": [
    {
     "name": "stdout",
     "output_type": "stream",
     "text": [
      "010-1234-1234\n"
     ]
    }
   ],
   "source": [
    "my_phone.number = '010-1234-1234'\n",
    "print(my_phone.number)"
   ]
  },
  {
   "cell_type": "code",
   "execution_count": 27,
   "id": "fcc3195e-cba1-4870-98a7-903ff2b9e298",
   "metadata": {},
   "outputs": [
    {
     "data": {
      "text/plain": [
       "'010-0000-0000'"
      ]
     },
     "execution_count": 27,
     "metadata": {},
     "output_type": "execute_result"
    }
   ],
   "source": [
    "your_phone.number"
   ]
  },
  {
   "cell_type": "code",
   "execution_count": 28,
   "id": "852c7ca7-e236-492c-8771-4871f1fac52c",
   "metadata": {},
   "outputs": [
    {
     "data": {
      "text/plain": [
       "False"
      ]
     },
     "execution_count": 28,
     "metadata": {},
     "output_type": "execute_result"
    }
   ],
   "source": [
    "my_phone.power"
   ]
  },
  {
   "cell_type": "code",
   "execution_count": 29,
   "id": "5eb1c24e-cd76-491e-979d-199675ddd488",
   "metadata": {},
   "outputs": [],
   "source": [
    "my_phone.on()"
   ]
  },
  {
   "cell_type": "code",
   "execution_count": 30,
   "id": "6e9c542a-0e8e-4f5b-965e-82db4e270df5",
   "metadata": {},
   "outputs": [
    {
     "data": {
      "text/plain": [
       "True"
      ]
     },
     "execution_count": 30,
     "metadata": {},
     "output_type": "execute_result"
    }
   ],
   "source": [
    "my_phone.power"
   ]
  },
  {
   "cell_type": "code",
   "execution_count": 31,
   "id": "236eefb2-3370-4f4a-8062-c27d7f8dbdc7",
   "metadata": {},
   "outputs": [
    {
     "name": "stdout",
     "output_type": "stream",
     "text": [
      "내 번호는 010-1234-1234입니다.\n",
      "112번호로 전화거는중\n"
     ]
    }
   ],
   "source": [
    "my_phone.call('112')"
   ]
  },
  {
   "cell_type": "code",
   "execution_count": 36,
   "id": "68d3b358-0ebe-44fb-b411-1c303b9fc9ae",
   "metadata": {},
   "outputs": [],
   "source": [
    "# 연습\n",
    "class MyList:\n",
    "    data = []\n",
    "\n",
    "    def append(self, item):\n",
    "        self.data = self.data + [item] # concatenation\n",
    "    # 데이터의 제일 마지막 요소를 삭제하고, 삭제된 요소를 리턴\n",
    "    def pop(self):\n",
    "        num = self.data[-1]\n",
    "        self.data = self.data[:-1]\n",
    "        return num"
   ]
  },
  {
   "cell_type": "code",
   "execution_count": 39,
   "id": "de35945c-1aa0-4c11-88db-875e5a45bcd6",
   "metadata": {},
   "outputs": [
    {
     "name": "stdout",
     "output_type": "stream",
     "text": [
      "[]\n",
      "[5, 1, 10]\n",
      "10\n",
      "[5, 1]\n"
     ]
    }
   ],
   "source": [
    "list_a = MyList() # 인스턴스화\n",
    "print(list_a.data) # attribute 확인\n",
    "\n",
    "list_a.append(5)  # method 사용\n",
    "list_a.append(1)\n",
    "list_a.append(10)\n",
    "print(list_a.data)\n",
    "\n",
    "print(list_a.pop())\n",
    "print(list_a.data)"
   ]
  },
  {
   "cell_type": "code",
   "execution_count": 38,
   "id": "37021df0-a43d-4ffc-adf1-271eb48215f0",
   "metadata": {},
   "outputs": [
    {
     "name": "stdout",
     "output_type": "stream",
     "text": [
      "[]\n",
      "[2, 4, 6]\n"
     ]
    }
   ],
   "source": [
    "list_b = MyList()\n",
    "print(list_b.data)\n",
    "\n",
    "list_b.append(2)\n",
    "list_b.append(4)\n",
    "list_b.append(6)\n",
    "\n",
    "print(list_b.data)"
   ]
  },
  {
   "cell_type": "code",
   "execution_count": 40,
   "id": "655a3dfc-8e21-4cfc-88c4-94ee5dd14be6",
   "metadata": {},
   "outputs": [
    {
     "data": {
      "text/plain": [
       "'kim'"
      ]
     },
     "execution_count": 40,
     "metadata": {},
     "output_type": "execute_result"
    }
   ],
   "source": [
    "# 정리\n",
    "class Person: # 클래스 정의(선언) : 클래스 객체 생성\n",
    "    name = 'kim' # 속성(attribute) : 변수/값/데이터\n",
    "\n",
    "    def hello(self) : # 행동(methdod) : 함수/기능\n",
    "        return self.name\n",
    "\n",
    "p = Person() # 인스턴스화 / 인스턴스 객체를 생성\n",
    "p.name  # 속성을 호풀\n",
    "p.hello() # 메소드를 실행"
   ]
  },
  {
   "cell_type": "code",
   "execution_count": 41,
   "id": "e1b49e2e-876c-41ef-b60c-cf3d97a4868b",
   "metadata": {},
   "outputs": [],
   "source": [
    "class Fan:\n",
    "    power = False\n",
    "    rotation = False\n",
    "    wind_speed = ['강','중','하']\n",
    "    \n",
    "    def on(self):\n",
    "        if self.power == False:\n",
    "            self.power = True\n",
    "\n",
    "    def off(self):\n",
    "        if self.power == True:\n",
    "            self.power = False\n",
    "\n",
    "    def rotation_on(self):\n",
    "        if self.rotation == False:\n",
    "            self.rotation = True\n",
    "\n",
    "    def rotation_off(self):\n",
    "        if self.rotation == True:\n",
    "            self.rotation = False\n",
    "\n",
    "    def method(self, wind_speed):\n",
    "        if power == True:\n",
    "            print(f'{wind_speed}로 변경')"
   ]
  },
  {
   "cell_type": "code",
   "execution_count": 45,
   "id": "398ca05f-eb12-4fda-a721-e87428d47e7c",
   "metadata": {},
   "outputs": [],
   "source": [
    "class Fan:\n",
    "    power = ['꺼짐','약풍','중풍','강풍']\n",
    "    status = 0\n",
    "\n",
    "    def button(self):\n",
    "        #self.status += 1\n",
    "        self.status = (self.status + 1) % 4\n",
    "        print(f'현재 상태는 {self.power[self.status]}입니다.')\n",
    "\n",
    "f = Fan()"
   ]
  },
  {
   "cell_type": "code",
   "execution_count": 48,
   "id": "e371920d-8019-456e-a26e-631fc88dab69",
   "metadata": {},
   "outputs": [
    {
     "name": "stdout",
     "output_type": "stream",
     "text": [
      "현재 상태는 약풍입니다.\n",
      "현재 상태는 중풍입니다.\n",
      "현재 상태는 강풍입니다.\n",
      "현재 상태는 꺼짐입니다.\n"
     ]
    }
   ],
   "source": [
    "f.button()\n",
    "f.button()\n",
    "f.button()\n",
    "f.button() # 다시 꺼짐으로 돌아오기 위해서 self.status += 1 -> self.status = (self.status + 1) % 4로 수정"
   ]
  },
  {
   "cell_type": "code",
   "execution_count": 49,
   "id": "3824c4a5-3fcc-438a-b29a-e0da744c441d",
   "metadata": {},
   "outputs": [],
   "source": [
    "class Person:\n",
    "    name = ''\n",
    "\n",
    "    def hello(self):\n",
    "        print(f'나의 이름은 {self.name}입니다.')"
   ]
  },
  {
   "cell_type": "code",
   "execution_count": 52,
   "id": "2f7fdfd2-22ed-44ff-be25-b99f18a129eb",
   "metadata": {},
   "outputs": [
    {
     "name": "stdout",
     "output_type": "stream",
     "text": [
      "\n",
      "나의 이름은 입니다.\n",
      "나의 이름은 kim입니다.\n"
     ]
    }
   ],
   "source": [
    "p = Person()\n",
    "print(p.name)\n",
    "\n",
    "p.hello()\n",
    "\n",
    "p.name = 'kim'\n",
    "p.hello()"
   ]
  },
  {
   "cell_type": "code",
   "execution_count": 53,
   "id": "8ec27df2-b897-4fe7-a40c-d8857f38bbe5",
   "metadata": {},
   "outputs": [],
   "source": [
    "# self : 인스턴스 객체 자기자신 (다른언어에서는 this)\n",
    "# - 특별한 상황을 제외하고는 무조건 메소드의 첫번째 인자로 설정한다.\n",
    "# - 인스턴스 메소드를 실행할 때 자동으로 첫번째 인자에 인스턴스를 할당한다."
   ]
  },
  {
   "cell_type": "code",
   "execution_count": 54,
   "id": "a817c0b9-985e-418d-8175-1b404f2a9607",
   "metadata": {},
   "outputs": [
    {
     "name": "stdout",
     "output_type": "stream",
     "text": [
      "나의 이름은 입니다.\n",
      "나의 이름은 입니다.\n"
     ]
    }
   ],
   "source": [
    "p1 = Person()\n",
    "# self 매개변수 자리에 p1이라고하는 인스턴스 객체가 인자로 전달\n",
    "Person.hello(p1)\n",
    "# p1 인스턴스 객체에서부터 메소드가 실행되기 때문에 self == p1\n",
    "p1.hello()"
   ]
  },
  {
   "cell_type": "markdown",
   "id": "ea3271cb-477c-4a87-be68-6bb0e7977aa6",
   "metadata": {},
   "source": [
    "## 생성자, 소멸자\n",
    "\n",
    "```python\n",
    "class MyClass:\n",
    "    def __init__(self):\n",
    "        pass\n",
    "    \n",
    "    def __del__(self):\n",
    "        pass\n",
    "```"
   ]
  },
  {
   "cell_type": "code",
   "execution_count": 66,
   "id": "0a7a4613-b553-488f-b8af-69bfb532a56f",
   "metadata": {},
   "outputs": [],
   "source": [
    "class Person:\n",
    "    name = 'noname'\n",
    "    \n",
    "    def __init__(self, name = '익명'):\n",
    "        self.name = name\n",
    "        print('생성됨')\n",
    "    \n",
    "    def __del__(self):\n",
    "        print('소멸됨')"
   ]
  },
  {
   "cell_type": "code",
   "execution_count": 67,
   "id": "58b21a1b-cc1b-4906-b5bb-c69839447315",
   "metadata": {},
   "outputs": [
    {
     "name": "stdout",
     "output_type": "stream",
     "text": [
      "생성됨\n",
      "소멸됨\n",
      "yujin\n"
     ]
    }
   ],
   "source": [
    "p1 = Person() # Person.__init__(p1,)\n",
    "p1.name = 'yujin'\n",
    "print(p1.name)"
   ]
  },
  {
   "cell_type": "code",
   "execution_count": null,
   "id": "9b23aeee-fcbe-4b07-948e-aa86441f15d0",
   "metadata": {},
   "outputs": [],
   "source": [
    "class Person:\n",
    "    name = 'noname'\n",
    "    \n",
    "    def __init__(self, name):\n",
    "        self.name = name\n",
    "        print('생성됨')\n",
    "    \n",
    "    def __del__(self):\n",
    "        print('소멸됨')"
   ]
  },
  {
   "cell_type": "code",
   "execution_count": 62,
   "id": "24237200-df72-4796-a197-7220db20ce5a",
   "metadata": {},
   "outputs": [
    {
     "name": "stdout",
     "output_type": "stream",
     "text": [
      "생성됨\n",
      "kim\n"
     ]
    }
   ],
   "source": [
    "p2 = Person('kim') # Person.__init__(p2,'kim')\n",
    "print(p2.name)"
   ]
  },
  {
   "cell_type": "code",
   "execution_count": 84,
   "id": "1332cfd7-f661-441f-ac5b-ba62292418c0",
   "metadata": {},
   "outputs": [],
   "source": [
    "# Circle 클래스\n",
    "\n",
    "class Circle:\n",
    "    pi = 3.14 # 모든 원에서 접근 가능한 변수\n",
    "    \n",
    "    def __init__(self, r, x = 0, y = 0):\n",
    "        self.r = r\n",
    "        self.x = x\n",
    "        self.y = y\n",
    "\n",
    "    def area(self):\n",
    "        return  self.pi * self.r ** 2\n",
    "\n",
    "    def move(self, x, y):\n",
    "        self.x = x\n",
    "        self.y = y\n",
    "        print(f'원의 중심이{x},{y}로 이동했습니다.')\n",
    "    def center(self):\n",
    "        #원의 중심을 (x,y)로 반환하는 코드\n",
    "        return (self.x,self.y)"
   ]
  },
  {
   "cell_type": "code",
   "execution_count": 85,
   "id": "f43dbb87-e0c5-4f09-a546-9fbd990bdc9a",
   "metadata": {},
   "outputs": [
    {
     "name": "stdout",
     "output_type": "stream",
     "text": [
      "5\n",
      "3\n",
      "28.26\n",
      "원의 중심이-3,-3로 이동했습니다.\n",
      "(-3, -3)\n",
      "0\n",
      "10\n",
      "314.0\n",
      "원의 중심이10,10로 이동했습니다.\n",
      "(0, 0)\n"
     ]
    }
   ],
   "source": [
    "c1 = Circle(3,5,5)\n",
    "print(c1.x)\n",
    "print(c1.r)\n",
    "print(c1.area())\n",
    "c1.move(-3,-3)\n",
    "print(c1.center())\n",
    "\n",
    "c2 = Circle(10)\n",
    "print(c2.x)\n",
    "print(c2.r)\n",
    "print(c2.area())\n",
    "c1.move(10,10)\n",
    "print(c2.center())"
   ]
  },
  {
   "cell_type": "markdown",
   "id": "40b462ea-1b1e-4232-978c-cce1b1d3e23f",
   "metadata": {},
   "source": [
    "### 클래스 변수\n",
    "- 클래스 선언 블록 최상단에 위치\n",
    "\n",
    "### 인스턴스 변수\n",
    "- 인스턴스 내부에서 생성한 변수 (self.variable = )\n",
    "\n",
    "```python\n",
    "class TestClass:\n",
    "    class_variable = '클래스변수'\n",
    "\n",
    "    def __init__(self, arg):\n",
    "        self.instance_variable = '인스턴스변수'\n",
    "\n",
    "    def status(self):\n",
    "    return self.instance_variable\n",
    "```"
   ]
  },
  {
   "cell_type": "code",
   "execution_count": 89,
   "id": "8890839b-562d-4a2d-bcca-837c85abee48",
   "metadata": {},
   "outputs": [],
   "source": [
    "# Person class\n",
    "class Person:\n",
    "    name = '홍길동'\n",
    "    phone = '010-1234-1234'\n",
    "    \n",
    "    def __init__(self, name):\n",
    "        self.name = name"
   ]
  },
  {
   "cell_type": "code",
   "execution_count": 90,
   "id": "e2320f17-82ab-4fab-bb52-df82454a5b8c",
   "metadata": {},
   "outputs": [
    {
     "name": "stdout",
     "output_type": "stream",
     "text": [
      "홍길동\n",
      "정유진\n",
      "010-1234-1234\n"
     ]
    }
   ],
   "source": [
    "# Person instance\n",
    "p = Person('정유진')\n",
    "print(Person.name) # 클래스 변수\n",
    "print(p.name) # 인스턴스 변수\n",
    "\n",
    "print(p.phone) # p(나)에 없다면 Person(부모)로 가게됨 if 부모도 없으면 error"
   ]
  },
  {
   "cell_type": "markdown",
   "id": "f6a1ae34-68d1-4e5a-9805-432179a0a7fa",
   "metadata": {},
   "source": [
    "### 클래스 메소드, 인스턴스메소드, 스태틱메소드\n",
    "\n",
    "```python\n",
    "class MyClass:\n",
    "    def instance_method(self):\n",
    "        pass\n",
    "    \n",
    "    @classmethod\n",
    "    def class_method(cls):\n",
    "        pass\n",
    "\n",
    "    @staticmethod\n",
    "    def static_method():\n",
    "        pass\n",
    "\n",
    "```"
   ]
  },
  {
   "cell_type": "code",
   "execution_count": 92,
   "id": "c3574eb6-9436-4991-9995-c194edab40b1",
   "metadata": {},
   "outputs": [],
   "source": [
    "class MyClass:\n",
    "    def instance_method(self):\n",
    "        return self\n",
    "\n",
    "    @classmethod\n",
    "    def class_method(cls):\n",
    "        return cls\n",
    "\n",
    "    @staticmethod\n",
    "    def static_method():\n",
    "        return 'hello'"
   ]
  },
  {
   "cell_type": "code",
   "execution_count": 96,
   "id": "9e672ab2-4812-480b-b08c-710998423229",
   "metadata": {},
   "outputs": [
    {
     "name": "stdout",
     "output_type": "stream",
     "text": [
      "<__main__.MyClass object at 0x000002527607B490>\n",
      "<class '__main__.MyClass'>\n",
      "<class '__main__.MyClass'>\n",
      "hello\n"
     ]
    }
   ],
   "source": [
    "c1 = MyClass()\n",
    "\n",
    "print(c1.instance_method())\n",
    "print(MyClass.class_method())\n",
    "print(c1.class_method())\n",
    "print(c1.static_method())"
   ]
  },
  {
   "cell_type": "code",
   "execution_count": 106,
   "id": "daf9d5a6-853c-4666-878b-4814bdafd3d9",
   "metadata": {},
   "outputs": [],
   "source": [
    "class Puppy:\n",
    "    num_of_puppy = 0\n",
    "\n",
    "    def __init__(self, name):\n",
    "        self.name = name\n",
    "        Puppy.num_of_puppy += 1\n",
    "\n",
    "    @classmethod\n",
    "    def get_status(cls):\n",
    "        return f'현재 강아지는 {cls.num_of_puppy}마리 입니다.'\n",
    "\n",
    "    @staticmethod\n",
    "    def bark(string = '멍멍'):\n",
    "        return string"
   ]
  },
  {
   "cell_type": "code",
   "execution_count": 108,
   "id": "84003161-e396-410c-86ab-d33a83bb26af",
   "metadata": {},
   "outputs": [
    {
     "name": "stdout",
     "output_type": "stream",
     "text": [
      "6\n",
      "6\n",
      "6\n",
      "현재 강아지는 6마리 입니다.\n",
      "멍멍\n",
      "그르릉\n"
     ]
    }
   ],
   "source": [
    "p1 = Puppy('또또')\n",
    "p2 = Puppy('몽이')\n",
    "p3 = Puppy('흰둥이')\n",
    "\n",
    "print(p1.num_of_puppy)\n",
    "print(p2.num_of_puppy)\n",
    "print(Puppy.num_of_puppy)\n",
    "\n",
    "print(Puppy.get_status())\n",
    "\n",
    "print(p1.bark())\n",
    "print(p2.bark('그르릉'))"
   ]
  },
  {
   "cell_type": "markdown",
   "id": "8b60ff06-3715-4ebb-9c3f-dae4d016b8fc",
   "metadata": {},
   "source": [
    "## 총정리\n",
    "```\n",
    "class\n",
    "    - attrubute (variable, data)\n",
    "        - instance_variable\n",
    "        - class_variable\n",
    "    - method\n",
    "        - instance_method\n",
    "        - class_method\n",
    "        - static_method\n",
    "```"
   ]
  },
  {
   "cell_type": "markdown",
   "id": "32d47b0d-f7bf-4e3e-90bf-4fa69a2ba9ae",
   "metadata": {},
   "source": [
    "## 상속"
   ]
  },
  {
   "cell_type": "code",
   "execution_count": 109,
   "id": "20bbe4c4-50ca-470a-9cf0-e0ed77dfc7e5",
   "metadata": {},
   "outputs": [],
   "source": [
    "class Person:\n",
    "\n",
    "    def __init__(self, name):\n",
    "        self.name = name\n",
    "        \n",
    "    def greeting(self):\n",
    "        print(f'안녕하세요 {self.name}입니다.')"
   ]
  },
  {
   "cell_type": "code",
   "execution_count": 110,
   "id": "7faebb3f-7f17-4f0d-acc3-3cc1bbdbbf05",
   "metadata": {},
   "outputs": [
    {
     "name": "stdout",
     "output_type": "stream",
     "text": [
      "안녕하세요 홍길동입니다.\n"
     ]
    }
   ],
   "source": [
    "p1 = Person('홍길동')\n",
    "p2 = Person('이순신')\n",
    "\n",
    "p1.greeting()"
   ]
  },
  {
   "cell_type": "code",
   "execution_count": 121,
   "id": "0dedad35-62a4-49a5-ad78-77bd53431772",
   "metadata": {},
   "outputs": [],
   "source": [
    "class Student(Person):  # 상속\n",
    "    \n",
    "    # def __init__(self, name)  : 부모한테 가져온 init\n",
    "    #     self.name = name\n",
    "        \n",
    "    # def greeting(self):\n",
    "    #     print(f'안녕하세요 {self.name}입니다.')\n",
    "    \n",
    "    def __init__(self, name, student_id):  # 내 자신 init (먼저 실행됨)\n",
    "        self.name = name\n",
    "        self.student_id = student_id\n",
    "    \n",
    "    pass\n",
    "    "
   ]
  },
  {
   "cell_type": "code",
   "execution_count": 123,
   "id": "eb6575b0-ff72-44af-9728-1edbeaf511a5",
   "metadata": {},
   "outputs": [
    {
     "name": "stdout",
     "output_type": "stream",
     "text": [
      "안녕하세요 kim입니다.\n",
      "12345\n"
     ]
    }
   ],
   "source": [
    "s1 = Student('kim',12345)\n",
    "s2 = Student('park',98765)\n",
    "\n",
    "s1.greeting()\n",
    "print(s1.student_id)"
   ]
  },
  {
   "cell_type": "code",
   "execution_count": 124,
   "id": "6d582cbb-0002-4f53-b955-29379e4b3038",
   "metadata": {},
   "outputs": [],
   "source": [
    "class Soldier(Person):\n",
    "\n",
    "    def greeting(self):\n",
    "        return f'충성! {self.name}입니다.'"
   ]
  },
  {
   "cell_type": "code",
   "execution_count": 126,
   "id": "b87e971d-6733-4ab0-85c8-fa92b53ccfb0",
   "metadata": {},
   "outputs": [
    {
     "data": {
      "text/plain": [
       "'충성! 국방이입니다.'"
      ]
     },
     "execution_count": 126,
     "metadata": {},
     "output_type": "execute_result"
    }
   ],
   "source": [
    "s1 = Soldier('국방이')\n",
    "s1.greeting()"
   ]
  },
  {
   "cell_type": "code",
   "execution_count": 129,
   "id": "9955d22a-6c3d-40b0-89b9-fdaabc3432e2",
   "metadata": {},
   "outputs": [],
   "source": [
    "class Person:\n",
    "    def __init__(self, email, phone, location, name):\n",
    "        self.email = email\n",
    "        self.phone = phone\n",
    "        self.location = location\n",
    "        self.name = name\n",
    "\n",
    "class Student(Person):\n",
    "    def __init__(self, email, phone, location, name, student_id):\n",
    "        self.email = email\n",
    "        self.phone = phone\n",
    "        self.location = location\n",
    "        self.name = name\n",
    "        self.student_id = student_id\n",
    "\n",
    "class Soldier(Person):\n",
    "    def __init__(self, email, phone, location, name, soldier_id):\n",
    "        # super()  : 부모 클래스를 가리키게됨 (Person)\n",
    "        super().__init__(email, phone, location, name)\n",
    "        self.soldier_id = soldier_id"
   ]
  },
  {
   "cell_type": "code",
   "execution_count": 131,
   "id": "e2aaa7f7-6cc1-436f-bcae-0947ce834f08",
   "metadata": {},
   "outputs": [
    {
     "name": "stdout",
     "output_type": "stream",
     "text": [
      "kim\n",
      "12345\n"
     ]
    }
   ],
   "source": [
    "s1 = Soldier('email@email.com','010-1234-2344','seoul','kim','12345')\n",
    "print(s1.name)\n",
    "print(s1.soldier_id)"
   ]
  },
  {
   "cell_type": "markdown",
   "id": "5c43a65b-a7f0-49c7-a4e7-e52058ab01a7",
   "metadata": {},
   "source": [
    "## 다중 상속"
   ]
  },
  {
   "cell_type": "code",
   "execution_count": 136,
   "id": "c1dd55b9-72b2-4e56-b222-ff13b9941685",
   "metadata": {},
   "outputs": [],
   "source": [
    "class Person:\n",
    "    def __init__(self, name):\n",
    "        self.name = name\n",
    "        \n",
    "    def breath(self):\n",
    "        print('후하')"
   ]
  },
  {
   "cell_type": "code",
   "execution_count": 137,
   "id": "c524786f-dba8-4bc4-a2f6-0a0cae40c79d",
   "metadata": {},
   "outputs": [],
   "source": [
    "class Mom(Person):\n",
    "    gene = 'xx'\n",
    "\n",
    "    def swim(self):\n",
    "        print('어푸어푸')"
   ]
  },
  {
   "cell_type": "code",
   "execution_count": 138,
   "id": "570e9bd5-de5e-439d-8e0f-1d771525b875",
   "metadata": {},
   "outputs": [],
   "source": [
    "class Dad(Person):\n",
    "    gene = 'xy'\n",
    "\n",
    "    def run(self):\n",
    "        print('다다다')"
   ]
  },
  {
   "cell_type": "code",
   "execution_count": 139,
   "id": "8e371fd5-7b85-4a98-b6c6-02cff2e38c03",
   "metadata": {},
   "outputs": [],
   "source": [
    "class Baby(Mom, Dad): # 다중 상속\n",
    "    pass"
   ]
  },
  {
   "cell_type": "code",
   "execution_count": 142,
   "id": "178be23b-22b5-4d16-895b-6f2402038014",
   "metadata": {},
   "outputs": [
    {
     "name": "stdout",
     "output_type": "stream",
     "text": [
      "후하\n",
      "어푸어푸\n",
      "다다다\n",
      "xx\n"
     ]
    }
   ],
   "source": [
    "b = Baby('금쪽이')\n",
    "b.breath()\n",
    "b.swim()\n",
    "b.run()\n",
    "print(b.gene)  # 상속 순서가 있다 ->  class Baby(Mom, Dad)"
   ]
  },
  {
   "cell_type": "code",
   "execution_count": 143,
   "id": "87bd85ae-120b-4889-a36e-d4279fe96b1c",
   "metadata": {},
   "outputs": [],
   "source": [
    "class Baby(Dad, Mom): # 다중 상속\n",
    "    pass"
   ]
  },
  {
   "cell_type": "code",
   "execution_count": 144,
   "id": "81082118-4f17-4cda-86ca-1bff5ed6d842",
   "metadata": {},
   "outputs": [
    {
     "name": "stdout",
     "output_type": "stream",
     "text": [
      "후하\n",
      "어푸어푸\n",
      "다다다\n",
      "xy\n"
     ]
    }
   ],
   "source": [
    "b = Baby('금쪽이')\n",
    "b.breath()\n",
    "b.swim()\n",
    "b.run()\n",
    "print(b.gene)  # 상속 순서가 있다 -> class Baby(Dad, Mom)\n",
    "# 다중상속을 한 경우 먼저 상속받은 데이터/메소드가 우선"
   ]
  },
  {
   "cell_type": "code",
   "execution_count": 172,
   "id": "26a754f5-2fb4-45b8-b29d-a46ee93aef1c",
   "metadata": {},
   "outputs": [],
   "source": [
    "class Pocketmon:\n",
    "    def __init__(self, name, skill, blood):\n",
    "        self.name = name\n",
    "        self.skill = skill\n",
    "        self.blood = blood\n",
    "\n",
    "class Pikachu(Pocketmon):\n",
    "    def __init__(self, name, skill, blood):\n",
    "        super().__init__(name, skill, blood)\n",
    "    \n",
    "    def Lightning(self):\n",
    "        print(f'가라! {self.name}의 번개치기!')\n",
    "\n",
    "class kkobugi(Pocketmon):\n",
    "    def __init__(self, name, skill, blood):\n",
    "        super().__init__(name, skill, blood)\n",
    "\n",
    "    def water_cannon(self):\n",
    "        print(f'가라! {self.name}의 물대포!')"
   ]
  },
  {
   "cell_type": "code",
   "execution_count": 173,
   "id": "28848b42-bad0-4ebf-a527-f0e376ed8ddc",
   "metadata": {},
   "outputs": [],
   "source": [
    "monster1 = Pikachu('Pikachu', 'Lightning', '50')\n",
    "monster2 = kkobugi('kkobugi', 'water_cannon', '20')"
   ]
  },
  {
   "cell_type": "code",
   "execution_count": 174,
   "id": "694ae0bc-8e32-4af4-9748-e9b9d608812a",
   "metadata": {},
   "outputs": [
    {
     "name": "stdout",
     "output_type": "stream",
     "text": [
      "Pikachu\n",
      "Lightning\n",
      "50\n",
      "가라! Pikachu의 번개치기!\n"
     ]
    }
   ],
   "source": [
    "print(monster1.name)\n",
    "print(monster1.skill)\n",
    "print(monster1.blood)\n",
    "monster1.Lightning()"
   ]
  },
  {
   "cell_type": "code",
   "execution_count": 175,
   "id": "2c6e39cc-c66c-45da-8034-c2e56e8ec038",
   "metadata": {},
   "outputs": [
    {
     "name": "stdout",
     "output_type": "stream",
     "text": [
      "kkobugi\n",
      "water_cannon\n",
      "20\n",
      "가라! kkobugi의 물대포!\n"
     ]
    }
   ],
   "source": [
    "print(monster2.name)\n",
    "print(monster2.skill)\n",
    "print(monster2.blood)\n",
    "monster2.water_cannon()"
   ]
  },
  {
   "cell_type": "code",
   "execution_count": null,
   "id": "3d6a4d55-cabb-4285-97ea-d5a93df1a5a1",
   "metadata": {},
   "outputs": [],
   "source": []
  }
 ],
 "metadata": {
  "kernelspec": {
   "display_name": "Python 3 (ipykernel)",
   "language": "python",
   "name": "python3"
  },
  "language_info": {
   "codemirror_mode": {
    "name": "ipython",
    "version": 3
   },
   "file_extension": ".py",
   "mimetype": "text/x-python",
   "name": "python",
   "nbconvert_exporter": "python",
   "pygments_lexer": "ipython3",
   "version": "3.11.4"
  }
 },
 "nbformat": 4,
 "nbformat_minor": 5
}
