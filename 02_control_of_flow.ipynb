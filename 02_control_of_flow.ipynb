{
 "cells": [
  {
   "cell_type": "markdown",
   "id": "fcffc093-ea13-46d2-ae08-049c1be7ea83",
   "metadata": {},
   "source": [
    "# 제어문\n",
    "\n",
    "## 조건문 (if문)\n",
    "1. `if` 문은 반드시 일정한 참/거짓을 판단 할 수 있는 `조건식`과 함께 사용한다. (`if : <조건식> :`)   \n",
    "   2-1) `<조건식>`이 참인 경우 `:`이후의 문장을 실행한다.   \n",
    "   2-2) `<조건식>`이 거짓인 경우 `else:` 이후의 문장을 실행한다."
   ]
  },
  {
   "cell_type": "code",
   "execution_count": 2,
   "id": "3d242c47-2592-4679-a04e-32d522ab6bec",
   "metadata": {},
   "outputs": [
    {
     "name": "stdin",
     "output_type": "stream",
     "text": [
      " 12/24\n"
     ]
    },
    {
     "name": "stdout",
     "output_type": "stream",
     "text": [
      "크리스마스 아님\n"
     ]
    }
   ],
   "source": [
    "my_string = input()\n",
    "\n",
    "if my_string == \"12/25\":\n",
    "    print('크리스마스임')\n",
    "else:\n",
    "    print('크리스마스 아님')"
   ]
  },
  {
   "cell_type": "code",
   "execution_count": 13,
   "id": "ba24837b-b73c-46b9-aa7d-dbb064405254",
   "metadata": {},
   "outputs": [
    {
     "name": "stdin",
     "output_type": "stream",
     "text": [
      "숫자를 입력해주세요 2\n"
     ]
    }
   ],
   "source": [
    "num = input('숫자를 입력해주세요')"
   ]
  },
  {
   "cell_type": "code",
   "execution_count": 20,
   "id": "9cd51e9d-02b6-4ab0-8bd6-b4231dd07047",
   "metadata": {},
   "outputs": [
    {
     "name": "stdin",
     "output_type": "stream",
     "text": [
      "숫자를 입력해주세요 125\n"
     ]
    },
    {
     "name": "stdout",
     "output_type": "stream",
     "text": [
      "홀수\n"
     ]
    }
   ],
   "source": [
    "# 조건문을 통해서 num에 들어있는 숫자가 홀수/짝수 인지 판별\n",
    "if int(num) % 2 == 0 :\n",
    "    print('짝수')\n",
    "else:\n",
    "    print('홀수')"
   ]
  },
  {
   "cell_type": "code",
   "execution_count": 54,
   "id": "667967b3-11a8-4e76-a083-b285b70fd655",
   "metadata": {},
   "outputs": [
    {
     "name": "stdin",
     "output_type": "stream",
     "text": [
      "숫자를 입력해주세요 3\n"
     ]
    },
    {
     "name": "stdout",
     "output_type": "stream",
     "text": [
      "홀수\n"
     ]
    }
   ],
   "source": [
    "# num을 2로 나눈 나머지는 0,1 두가지 경우가 있다.\n",
    "# if문의 조건식에 0,1은 자동형변환이 일어나 False, True로 변환된다.\n",
    "num = int(input('숫자를 입력해주세요'))\n",
    "if num % 2:\n",
    "    print('홀수')\n",
    "else:\n",
    "    print('짝수')"
   ]
  },
  {
   "cell_type": "markdown",
   "id": "98543a4a-f008-4085-93aa-25adc358fd57",
   "metadata": {},
   "source": [
    "### elif\n",
    "```\n",
    "if <조건식>:   \n",
    "    if 조건이 참인경우   \n",
    "elif <조건식>:   \n",
    "    elif 조건이 참인경우   \n",
    "\n",
    "else:   \n",
    "    위의 조건식에 하나도 부합하지 않는경우 실행\n",
    "```"
   ]
  },
  {
   "cell_type": "code",
   "execution_count": 40,
   "id": "b0aac4c6-5d94-43bc-9d4b-4e4b6ae45487",
   "metadata": {},
   "outputs": [
    {
     "name": "stdin",
     "output_type": "stream",
     "text": [
      " 95\n"
     ]
    }
   ],
   "source": [
    "score = int(input())"
   ]
  },
  {
   "cell_type": "code",
   "execution_count": 41,
   "id": "9570bf18-9398-4219-8681-5bb8172905df",
   "metadata": {},
   "outputs": [
    {
     "name": "stdout",
     "output_type": "stream",
     "text": [
      "A\n"
     ]
    }
   ],
   "source": [
    "# 90점 이상 A\n",
    "# 80점 이상 B\n",
    "# 70점 이상 C\n",
    "# 나머지 F \n",
    "\n",
    "if score >= 90:\n",
    "    print(\"A\")\n",
    "elif score >= 80:\n",
    "    print(\"B\")\n",
    "elif score >= 70 :\n",
    "    print(\"C\")\n",
    "else:\n",
    "    print(\"F\")"
   ]
  },
  {
   "cell_type": "code",
   "execution_count": 42,
   "id": "b519bbf5-d9d8-4633-b896-155bd3249e3b",
   "metadata": {},
   "outputs": [
    {
     "name": "stdout",
     "output_type": "stream",
     "text": [
      "A\n",
      "참잘했어요\n"
     ]
    }
   ],
   "source": [
    "# 90점 이상 A (95점 이상 '참잘했어요') 중첩조건문\n",
    "# 80점 이상 B\n",
    "# 70점 이상 C\n",
    "# 나머지 F \n",
    "if score >= 90:\n",
    "    print(\"A\")\n",
    "    if score >=95:\n",
    "        print(\"참잘했어요\")\n",
    "elif score >= 80:\n",
    "    print(\"B\")\n",
    "elif score >= 70 :\n",
    "    print(\"C\")\n",
    "else:\n",
    "    print(\"F\")"
   ]
  },
  {
   "cell_type": "markdown",
   "id": "ed486ef6-3898-4199-9bd3-11832655b197",
   "metadata": {},
   "source": [
    "## 조건표현식\n",
    "\n",
    "```\n",
    "true_value if <조건식> else false_value\n",
    "\n",
    "```"
   ]
  },
  {
   "cell_type": "code",
   "execution_count": 43,
   "id": "001039db-447d-4d4d-aa0a-41e50675c954",
   "metadata": {},
   "outputs": [
    {
     "name": "stdout",
     "output_type": "stream",
     "text": [
      "true\n"
     ]
    }
   ],
   "source": [
    "print('true') if 1>0 else print('false')"
   ]
  },
  {
   "cell_type": "code",
   "execution_count": null,
   "id": "d5660fc4-efa2-4049-8df5-eef10beaa049",
   "metadata": {},
   "outputs": [],
   "source": [
    "if 1 < 0 :\n",
    "    print('true')"
   ]
  },
  {
   "cell_type": "code",
   "execution_count": 46,
   "id": "5bf8d32c-586d-4462-a1b9-d34037c27bb3",
   "metadata": {},
   "outputs": [
    {
     "name": "stdout",
     "output_type": "stream",
     "text": [
      "0\n"
     ]
    }
   ],
   "source": [
    "#조건표현식\n",
    "num = -5 \n",
    "value = num if num >= 0 else 0\n",
    "print(value)"
   ]
  },
  {
   "cell_type": "code",
   "execution_count": 52,
   "id": "21cbd928-0f4b-46b2-9ddc-63d80e991c3e",
   "metadata": {},
   "outputs": [
    {
     "name": "stdout",
     "output_type": "stream",
     "text": [
      "5\n"
     ]
    }
   ],
   "source": [
    "#조건표현문 (풀어보기)\n",
    "num = 5\n",
    "if num >= 0 :\n",
    "    value = num\n",
    "else:\n",
    "    value = 0\n",
    "print(value)"
   ]
  },
  {
   "cell_type": "code",
   "execution_count": null,
   "id": "0550f84d-04e7-4a19-a334-3da528c5ba7f",
   "metadata": {},
   "outputs": [],
   "source": [
    "num = 2\n",
    "if num % 2 ==1:\n",
    "    result = \"홀수\"\n",
    "else\n",
    "    resulte = \"짝수\"\n",
    "print(result)"
   ]
  },
  {
   "cell_type": "code",
   "execution_count": 53,
   "id": "1311ee12-29cb-43c6-be41-9df403115f02",
   "metadata": {},
   "outputs": [
    {
     "name": "stdout",
     "output_type": "stream",
     "text": [
      "짝수\n"
     ]
    }
   ],
   "source": [
    "#조건 표현식 (풀어보기)\n",
    "num = 2\n",
    "result = '홀수' if num % 2 == 1 else '짝수'\n",
    "print(result)"
   ]
  },
  {
   "cell_type": "markdown",
   "id": "6c882da6-03b1-42ef-8af7-dfc125cf1ed8",
   "metadata": {},
   "source": [
    "---"
   ]
  },
  {
   "cell_type": "markdown",
   "id": "be8f34e2-edff-4bcc-a27d-ec0bcea804da",
   "metadata": {},
   "source": [
    "# 반복문\n",
    "\n",
    "## while 문\n",
    "\n",
    "```\n",
    "while <조건식> :\n",
    "    실행할 코드\n",
    "\n",
    "```\n",
    "\n",
    "if문과 다른경우 while문은 true인 경우만 진행    \n",
    "while 문의 조건문에서 true인 경우 실행할 코드를 진행한 후에 다시 조건식으로 올라감   \n",
    "그러기때문에 끝나는 조건을 기입해야함"
   ]
  },
  {
   "cell_type": "code",
   "execution_count": 1,
   "id": "8b7a77b8-97cd-4e72-9acb-1e83a44d5ac3",
   "metadata": {},
   "outputs": [
    {
     "name": "stdout",
     "output_type": "stream",
     "text": [
      "0\n",
      "1\n",
      "2\n",
      "3\n",
      "4\n"
     ]
    }
   ],
   "source": [
    "a = 0\n",
    "\n",
    "while a < 5 :\n",
    "    print(a)\n",
    "    a += 1 # a = a + 1"
   ]
  },
  {
   "cell_type": "code",
   "execution_count": 7,
   "id": "074ba87e-f7db-4bb9-b711-88de5a6f81ce",
   "metadata": {},
   "outputs": [
    {
     "name": "stdin",
     "output_type": "stream",
     "text": [
      "안녕이라고 해줘: ㅇㅇ\n",
      "안녕이라고 해줘: ㄴㄴ\n",
      "안녕이라고 해줘: ㅎㅇ\n",
      "안녕이라고 해줘: 안녕\n"
     ]
    }
   ],
   "source": [
    "# 사용자가 '안녕' 이라고 할때까지 계속 입력을 요청받는 코드\n",
    "greeting = ''\n",
    "\n",
    "while greeting != \"안녕\":  \n",
    "    greeting = input('안녕이라고 해줘:')\n",
    "\n",
    "# 해설\n",
    "# while greering == '안녕' : 이 아닌이유\n",
    "# while문은 조건식이 true인 경우에 반복하기 때문에 입력받는 것이 안녕일 경우에는 반복문이 끝남.\n",
    "# 그렇게 때문에 안녕이 아닐 경우를 반복해야하기 때문임"
   ]
  },
  {
   "cell_type": "markdown",
   "id": "308095c2-1b29-4520-88e3-55a5169da5d0",
   "metadata": {},
   "source": [
    "## for\n",
    "- 정해진 범위 내의 반복\n",
    "\n",
    "```\n",
    "for variable in sequence:\n",
    "    code\n",
    "```\n",
    "\n",
    "sequence : list, tuple, string, range"
   ]
  },
  {
   "cell_type": "code",
   "execution_count": 8,
   "id": "be595402-5f3e-417c-80a0-9b065e3a3cd6",
   "metadata": {},
   "outputs": [
    {
     "name": "stdout",
     "output_type": "stream",
     "text": [
      "1\n",
      "2\n",
      "3\n",
      "4\n",
      "5\n"
     ]
    }
   ],
   "source": [
    "numbers = [1,2,3,4,5]\n",
    "\n",
    "for number in numbers :   # list\n",
    "    print(number)\n",
    "    "
   ]
  },
  {
   "cell_type": "code",
   "execution_count": 11,
   "id": "88a1ff1e-b1d6-41ee-a161-70e439ecc3e5",
   "metadata": {},
   "outputs": [
    {
     "name": "stdin",
     "output_type": "stream",
     "text": [
      "단어를 입력: 안녕하세요\n"
     ]
    },
    {
     "name": "stdout",
     "output_type": "stream",
     "text": [
      "안\n",
      "녕\n",
      "하\n",
      "세\n",
      "요\n"
     ]
    }
   ],
   "source": [
    "# for문을 사용해서 사용자가 입력한 데이터를 한글자씩 출력하는 코드\n",
    "\n",
    "word = input('단어를 입력:')\n",
    "\n",
    "for i in word:   # string\n",
    "    print(i)"
   ]
  },
  {
   "cell_type": "code",
   "execution_count": 12,
   "id": "6eee5119-e49b-4951-9ad2-1029c54ee378",
   "metadata": {},
   "outputs": [
    {
     "name": "stdout",
     "output_type": "stream",
     "text": [
      "0\n",
      "1\n",
      "2\n",
      "3\n",
      "4\n"
     ]
    }
   ],
   "source": [
    "for i in range(5):  #range\n",
    "    print(i)"
   ]
  },
  {
   "cell_type": "code",
   "execution_count": 13,
   "id": "1c239968-9905-43eb-995d-dba2fe7e9f72",
   "metadata": {},
   "outputs": [
    {
     "name": "stdout",
     "output_type": "stream",
     "text": [
      "1\n",
      "2\n",
      "3\n",
      "4\n",
      "5\n"
     ]
    }
   ],
   "source": [
    "for i in (1,2,3,4,5):  #tuple\n",
    "    print(i)"
   ]
  },
  {
   "cell_type": "code",
   "execution_count": 16,
   "id": "7c935954-c6ed-4f11-970b-5bf38f34e975",
   "metadata": {},
   "outputs": [
    {
     "name": "stdout",
     "output_type": "stream",
     "text": [
      "[1, 3, 5, 7, 9, 11, 13, 15, 17, 19, 21, 23, 25, 27, 29]\n"
     ]
    }
   ],
   "source": [
    "# 1~30까지 숫자 중에서 홀수만 담긴 리스트를 출력\n",
    "\n",
    "li = []\n",
    "\n",
    "for i in range (1,31):\n",
    "    if i % 2 != 0:\n",
    "        li.append(i)\n",
    "\n",
    "print(li)"
   ]
  },
  {
   "cell_type": "code",
   "execution_count": 25,
   "id": "db0f0c5e-2f31-4d16-8590-8730e81bee56",
   "metadata": {},
   "outputs": [
    {
     "name": "stdout",
     "output_type": "stream",
     "text": [
      "0\n",
      "엽떡\n",
      "1\n",
      "청다\n",
      "2\n",
      "신전\n"
     ]
    }
   ],
   "source": [
    "menus = ['엽떡', '청다', '신전']\n",
    "\n",
    "for menu in enumerate(menus) :  # enumerate -> tuple 형태로 데이터가 출력되며 리스트의 인덱스를 출력해줌.\n",
    "    print(menu[0])\n",
    "    print(menu[1])"
   ]
  },
  {
   "cell_type": "code",
   "execution_count": 23,
   "id": "cf79f350-2574-43f7-b929-a59dd227d4c8",
   "metadata": {},
   "outputs": [
    {
     "name": "stdout",
     "output_type": "stream",
     "text": [
      "0\n",
      "엽떡\n",
      "1\n",
      "청다\n",
      "2\n",
      "신전\n"
     ]
    }
   ],
   "source": [
    "menus = ['엽떡', '청다', '신전']\n",
    "\n",
    "for idx, menu in enumerate(menus) :\n",
    "    print(idx)\n",
    "    print(menu)"
   ]
  },
  {
   "cell_type": "markdown",
   "id": "9e164c61-7627-41fc-8150-611ea21ed293",
   "metadata": {},
   "source": [
    "## dictionary 반복\n",
    "\n",
    "1. for key in dict:\n",
    "2. for key in dict.keys():\n",
    "3. for value in dict.values():\n",
    "4. for key, value in dict.items():"
   ]
  },
  {
   "cell_type": "code",
   "execution_count": 33,
   "id": "e35935bf-f256-4796-b1b2-409abd81c358",
   "metadata": {},
   "outputs": [],
   "source": [
    "info = {\n",
    "    'name' : 'yujin',\n",
    "    'locatiom' : 'suwon',\n",
    "    'phone' : '010-####-####'\n",
    "}"
   ]
  },
  {
   "cell_type": "code",
   "execution_count": 34,
   "id": "22a8d136-bdb5-41f8-a32c-1e16866b5254",
   "metadata": {},
   "outputs": [
    {
     "name": "stdout",
     "output_type": "stream",
     "text": [
      "name\n",
      "yujin\n",
      "locatiom\n",
      "suwon\n",
      "phone\n",
      "010-####-####\n"
     ]
    }
   ],
   "source": [
    "for i in info:\n",
    "    print(i)\n",
    "    print(info[i])"
   ]
  },
  {
   "cell_type": "code",
   "execution_count": 35,
   "id": "193c0b40-6ed5-42c0-b9e0-30cb975dd2de",
   "metadata": {},
   "outputs": [],
   "source": [
    "blood_type ={\n",
    "    'A' : 5,\n",
    "    'B' : 4,\n",
    "    'O' : 2,\n",
    "    'AB' : 3\n",
    "}"
   ]
  },
  {
   "cell_type": "code",
   "execution_count": 38,
   "id": "5a09f720-1269-49aa-9cba-f880241c180c",
   "metadata": {},
   "outputs": [
    {
     "name": "stdout",
     "output_type": "stream",
     "text": [
      "혈액형 목록은 다음과 같습니다\n",
      "A\n",
      "B\n",
      "O\n",
      "AB\n"
     ]
    }
   ],
   "source": [
    "print('혈액형 목록은 다음과 같습니다')\n",
    "for key in blood_type:\n",
    "    print(key)"
   ]
  },
  {
   "cell_type": "code",
   "execution_count": 40,
   "id": "e67367ce-1651-474c-bae9-9b398d5e1ec7",
   "metadata": {},
   "outputs": [
    {
     "name": "stdout",
     "output_type": "stream",
     "text": [
      "혈액형 목록은 다음과 같습니다\n",
      "A\n",
      "B\n",
      "O\n",
      "AB\n"
     ]
    }
   ],
   "source": [
    "print('혈액형 목록은 다음과 같습니다')\n",
    "for key in blood_type.keys():\n",
    "    print(key)"
   ]
  },
  {
   "cell_type": "code",
   "execution_count": 42,
   "id": "b77bab0c-58e3-427c-90a5-481c34bef0f6",
   "metadata": {},
   "outputs": [
    {
     "name": "stdout",
     "output_type": "stream",
     "text": [
      "총인원은 14명입니다\n"
     ]
    }
   ],
   "source": [
    "result = 0\n",
    "for value in blood_type.values():\n",
    "    result = result + value\n",
    "\n",
    "print(f'총인원은 {result}명입니다')"
   ]
  },
  {
   "cell_type": "code",
   "execution_count": 46,
   "id": "afa0db3b-ab17-47c4-96de-ca70b86defdc",
   "metadata": {},
   "outputs": [
    {
     "name": "stdout",
     "output_type": "stream",
     "text": [
      "A형은 5명입니다\n",
      "B형은 4명입니다\n",
      "O형은 2명입니다\n",
      "AB형은 3명입니다\n"
     ]
    }
   ],
   "source": [
    "for key, value in blood_type.items():\n",
    "    print(f'{key}형은 {value}명입니다')"
   ]
  },
  {
   "cell_type": "markdown",
   "id": "63cce21d-6b9a-43c1-a319-b6a2af23dade",
   "metadata": {},
   "source": [
    "#### 혈액형 list\n",
    "for key in dict.keys():\n",
    "    print(key)\n",
    "    \n",
    "#### 전체 data의 총합\n",
    "result = 0\n",
    "for value in blood_type.values():\n",
    "    result = result + value\n",
    "\n",
    "print(f'총인원은 {result}명입니다')\n",
    "\n",
    "#### A형은 몇명, B형은 몇명\n",
    "for key, value in blood_type.items():\n",
    "    print(f'{key}형은 {value}명입니다')"
   ]
  },
  {
   "cell_type": "markdown",
   "id": "43ec068e-9450-4fb7-9cee-6d9b4bd37990",
   "metadata": {},
   "source": [
    "# break\n",
    "\n",
    "반복문을 종료시키는 키워드 (그냥 종료)"
   ]
  },
  {
   "cell_type": "code",
   "execution_count": 49,
   "id": "d3e6e23e-f145-435a-b775-5986d8d23ad4",
   "metadata": {},
   "outputs": [
    {
     "name": "stdout",
     "output_type": "stream",
     "text": [
      "0\n",
      "1\n",
      "2\n",
      "3\n",
      "4\n",
      "5\n",
      "6\n",
      "7\n",
      "8\n",
      "9\n",
      "10\n",
      "10넘음\n"
     ]
    }
   ],
   "source": [
    "for i in range(100):\n",
    "    if i > 10:\n",
    "        print('10넘음')\n",
    "        break\n",
    "    print(i)"
   ]
  },
  {
   "cell_type": "code",
   "execution_count": 50,
   "id": "d859159b-8f4f-415f-8cb4-e65ff81caa11",
   "metadata": {},
   "outputs": [],
   "source": [
    "rice = ['보리','보리','보리','쌀','보리','보리']"
   ]
  },
  {
   "cell_type": "code",
   "execution_count": 56,
   "id": "a599640d-cea2-4aa8-823e-eafe0e9feefc",
   "metadata": {},
   "outputs": [
    {
     "name": "stdout",
     "output_type": "stream",
     "text": [
      "보리\n",
      "보리\n",
      "보리\n",
      "쌀\n",
      "잡았다!\n"
     ]
    }
   ],
   "source": [
    "for i in rice:\n",
    "    print(i)\n",
    "    if i != \"보리\":\n",
    "        print( \"잡았다!\")\n",
    "        break"
   ]
  },
  {
   "cell_type": "markdown",
   "id": "30dd4286-58fa-4312-8ff3-d74e918d4d56",
   "metadata": {},
   "source": [
    "### continue\n",
    "continue 이후의 코드를 실행하지 않고 다음 반복을 진행 (다음 순번으로 넘어감)"
   ]
  },
  {
   "cell_type": "code",
   "execution_count": 59,
   "id": "90fdc536-d82a-4025-a085-85a8bb6b13f9",
   "metadata": {},
   "outputs": [
    {
     "name": "stdout",
     "output_type": "stream",
     "text": [
      "0\n",
      "2\n",
      "4\n",
      "6\n",
      "8\n"
     ]
    }
   ],
   "source": [
    "for i in range(10):\n",
    "    if i % 2:  # \n",
    "        continue\n",
    "    print(i)"
   ]
  },
  {
   "cell_type": "code",
   "execution_count": 78,
   "id": "c47a51c0-db74-4f3e-9d3c-15772a1a984d",
   "metadata": {},
   "outputs": [
    {
     "name": "stdout",
     "output_type": "stream",
     "text": [
      "0\n",
      "1\n",
      "0\n",
      "1\n",
      "0\n",
      "1\n",
      "0\n",
      "1\n",
      "0\n",
      "1\n"
     ]
    }
   ],
   "source": [
    "for i in range(10):\n",
    "    print( i % 2)"
   ]
  },
  {
   "cell_type": "code",
   "execution_count": 63,
   "id": "25dcf5de-6d6f-49c3-ac5a-f293e4093cef",
   "metadata": {},
   "outputs": [
    {
     "name": "stdout",
     "output_type": "stream",
     "text": [
      "35 성인입니다.\n",
      "20 성인입니다.\n",
      "40 성인입니다.\n"
     ]
    }
   ],
   "source": [
    "age = [10, 35, 20, 18, 9, 40]\n",
    "\n",
    "for i in age:\n",
    "    if i < 20:  #continue할(넘길) 조건식\n",
    "        continue\n",
    "    print(f'{i} 성인입니다.')"
   ]
  },
  {
   "cell_type": "markdown",
   "id": "dc77589e-1fb6-47e6-9cbd-4d2d6ea6e804",
   "metadata": {},
   "source": [
    "## else\n",
    "\n",
    "else문은 끝까지 반복이 진행된 후 실행"
   ]
  },
  {
   "cell_type": "code",
   "execution_count": 65,
   "id": "4f754c3a-c65e-45fd-b5f7-468921b58a64",
   "metadata": {},
   "outputs": [
    {
     "name": "stdout",
     "output_type": "stream",
     "text": [
      "0\n",
      "1\n",
      "2\n",
      "3\n",
      "4\n",
      "5\n",
      "6\n",
      "7\n",
      "8\n",
      "9\n",
      "break 못만남\n"
     ]
    }
   ],
   "source": [
    "for i in range(10):\n",
    "    if i > 100:\n",
    "        break\n",
    "    print(i)\n",
    "else:  # 끝까지 못갔기 때문에 else문 실행\n",
    "    print('break 못만남')"
   ]
  },
  {
   "cell_type": "code",
   "execution_count": 66,
   "id": "8c0eae0d-9e84-43a0-9a84-c632c3a7be62",
   "metadata": {},
   "outputs": [
    {
     "name": "stdout",
     "output_type": "stream",
     "text": [
      "0\n",
      "1\n",
      "2\n",
      "3\n",
      "4\n",
      "5\n"
     ]
    }
   ],
   "source": [
    "for i in range(10):\n",
    "    if i > 5:\n",
    "        break\n",
    "    print(i)\n",
    "else:      # 끝까지 갔기 때문에 else문 실행안함\n",
    "    print('break 못만남')"
   ]
  },
  {
   "cell_type": "code",
   "execution_count": 68,
   "id": "dbf45d34-79e5-4f27-9aa7-5c2bc7636f9c",
   "metadata": {},
   "outputs": [
    {
     "name": "stdout",
     "output_type": "stream",
     "text": [
      "True\n",
      "False\n"
     ]
    }
   ],
   "source": [
    "numbers = [1,3,5,7,9]\n",
    "print(3 in numbers)\n",
    "print(2 in numbers)"
   ]
  },
  {
   "cell_type": "code",
   "execution_count": 77,
   "id": "2ecd0d55-a9bd-4c25-bcce-8b49a2db3147",
   "metadata": {},
   "outputs": [
    {
     "name": "stdout",
     "output_type": "stream",
     "text": [
      "False\n"
     ]
    }
   ],
   "source": [
    "numbers = [1,3,5,7,9]\n",
    "target = 2\n",
    "# target = 5\n",
    "\n",
    "for num in numbers:\n",
    "    # if문\n",
    "    if number == target:\n",
    "        print('True')\n",
    "        break\n",
    "else:\n",
    "    print('False')"
   ]
  },
  {
   "cell_type": "markdown",
   "id": "717eab88-72d1-4bad-86bd-44aad20b5811",
   "metadata": {},
   "source": [
    "## Pass\n",
    "\n",
    "- 아직 무언가를 쓸지 모르겠을 때 pass"
   ]
  },
  {
   "cell_type": "code",
   "execution_count": 80,
   "id": "44b9e250-ed3f-4509-81ea-1c4d16cd3e4e",
   "metadata": {},
   "outputs": [],
   "source": [
    "if True:\n",
    "    pass"
   ]
  },
  {
   "cell_type": "markdown",
   "id": "18410a75-e8b3-4aca-92ed-5c48c401d495",
   "metadata": {},
   "source": [
    "### match\n",
    "-최근에 들어온 문법\n",
    "\n",
    "```\n",
    "match value:\n",
    "    case 조건:\n",
    "        code\n",
    "    case 조건:\n",
    "        code\n",
    "    case _:\n",
    "        code\n",
    "```"
   ]
  },
  {
   "cell_type": "code",
   "execution_count": 82,
   "id": "fea89ed0-00fa-4547-a4f7-18379cb40407",
   "metadata": {},
   "outputs": [
    {
     "name": "stdout",
     "output_type": "stream",
     "text": [
      "not found\n"
     ]
    }
   ],
   "source": [
    "#status = 100\n",
    "status = 404\n",
    "\n",
    "match status:\n",
    "    case 400:\n",
    "        print('bad')\n",
    "    case 404:\n",
    "        print('not found')\n",
    "    case _:\n",
    "        print('something is wrong')"
   ]
  },
  {
   "cell_type": "code",
   "execution_count": null,
   "id": "ded3a953-c23d-48f9-84fc-f9d0a76aeb82",
   "metadata": {},
   "outputs": [],
   "source": []
  }
 ],
 "metadata": {
  "kernelspec": {
   "display_name": "Python 3 (ipykernel)",
   "language": "python",
   "name": "python3"
  },
  "language_info": {
   "codemirror_mode": {
    "name": "ipython",
    "version": 3
   },
   "file_extension": ".py",
   "mimetype": "text/x-python",
   "name": "python",
   "nbconvert_exporter": "python",
   "pygments_lexer": "ipython3",
   "version": "3.11.4"
  }
 },
 "nbformat": 4,
 "nbformat_minor": 5
}
