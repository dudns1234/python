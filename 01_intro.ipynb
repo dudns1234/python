{
 "cells": [
  {
   "cell_type": "markdown",
   "id": "be2391d4-9a0c-49ad-b0fc-f1df2c88e35d",
   "metadata": {},
   "source": [
    "# 01. intro\n",
    "\n",
    "## 단축키\n",
    "\n",
    "- ctrl + enter : 지금 셀 실행\n",
    "- shift + enter : 지금 셀 실행 & 아래로 이동\n",
    "- alt + enter : 지금 셀 실행 & 아래에 새로운 셀 추가\n",
    "- esc 후에 m : Markdown\n",
    "- esc 후에 c : code\n",
    "- esc 후에 a : 위에 셀 추가\n",
    "- esc 후에 b : 아래에 셀 추가\n",
    "- esc 후에 enter : 현재 셀 활성화\n",
    "- esc : 현재 셀 비활성\n",
    "\n",
    "## 주의사항\n",
    "\n",
    "1. Apple / apple -> 다르다 (대소문자 중요)\n",
    "2. git add . / git add. -> 다르다 (띄어쓰기 중요)\n",
    "3. message / massage -> 다르다 (철자도 중요)"
   ]
  },
  {
   "cell_type": "code",
   "execution_count": 5,
   "id": "351fd72a-76a4-4827-ba01-b0b49a26a5fb",
   "metadata": {},
   "outputs": [
    {
     "name": "stdout",
     "output_type": "stream",
     "text": [
      "hello\n"
     ]
    }
   ],
   "source": [
    "# 주석을 나타냅니다.\n"
   ]
  },
  {
   "cell_type": "markdown",
   "id": "0f3298d9-6db9-439f-b483-7da9b9d063b6",
   "metadata": {},
   "source": [
    "# 01. 변수\n",
    "변수이름 = 값\n",
    "- 변수이름은 어떤 이름이든 상관 없음\n",
    "- 다만 영어, 숫자, _ 를 이용하여 선언\n",
    "- 키워드는 사용불가"
   ]
  },
  {
   "cell_type": "code",
   "execution_count": 9,
   "id": "2f2ba37b-c7d4-49a4-a431-c1ae5b0d1f34",
   "metadata": {},
   "outputs": [],
   "source": [
    "a = 10"
   ]
  },
  {
   "cell_type": "code",
   "execution_count": 10,
   "id": "1e61b8de-6a63-43b5-9a53-7f527033ca3b",
   "metadata": {},
   "outputs": [
    {
     "data": {
      "text/plain": [
       "10"
      ]
     },
     "execution_count": 10,
     "metadata": {},
     "output_type": "execute_result"
    }
   ],
   "source": [
    "a"
   ]
  },
  {
   "cell_type": "code",
   "execution_count": 11,
   "id": "3b929a46-62fe-4d8a-834d-a6781ba13692",
   "metadata": {},
   "outputs": [
    {
     "data": {
      "text/plain": [
       "['False',\n",
       " 'None',\n",
       " 'True',\n",
       " 'and',\n",
       " 'as',\n",
       " 'assert',\n",
       " 'async',\n",
       " 'await',\n",
       " 'break',\n",
       " 'class',\n",
       " 'continue',\n",
       " 'def',\n",
       " 'del',\n",
       " 'elif',\n",
       " 'else',\n",
       " 'except',\n",
       " 'finally',\n",
       " 'for',\n",
       " 'from',\n",
       " 'global',\n",
       " 'if',\n",
       " 'import',\n",
       " 'in',\n",
       " 'is',\n",
       " 'lambda',\n",
       " 'nonlocal',\n",
       " 'not',\n",
       " 'or',\n",
       " 'pass',\n",
       " 'raise',\n",
       " 'return',\n",
       " 'try',\n",
       " 'while',\n",
       " 'with',\n",
       " 'yield']"
      ]
     },
     "execution_count": 11,
     "metadata": {},
     "output_type": "execute_result"
    }
   ],
   "source": [
    "import keyword\n",
    "keyword.kwlist"
   ]
  },
  {
   "cell_type": "code",
   "execution_count": 12,
   "id": "c23e1c76-fecb-4b60-97ac-1b8c3214c0b7",
   "metadata": {},
   "outputs": [],
   "source": [
    "a = 10000000"
   ]
  },
  {
   "cell_type": "code",
   "execution_count": 14,
   "id": "ff19ee17-45ad-4883-8241-a8e09f4e89da",
   "metadata": {},
   "outputs": [
    {
     "data": {
      "text/plain": [
       "10000000"
      ]
     },
     "execution_count": 14,
     "metadata": {},
     "output_type": "execute_result"
    }
   ],
   "source": [
    "a"
   ]
  },
  {
   "cell_type": "code",
   "execution_count": 15,
   "id": "8543d0ce-d437-40b2-b392-70698e813237",
   "metadata": {},
   "outputs": [
    {
     "data": {
      "text/plain": [
       "int"
      ]
     },
     "execution_count": 15,
     "metadata": {},
     "output_type": "execute_result"
    }
   ],
   "source": [
    "type(a)"
   ]
  },
  {
   "cell_type": "code",
   "execution_count": 16,
   "id": "85f974d8-3de7-44a5-9c01-ee40d1909bb8",
   "metadata": {},
   "outputs": [],
   "source": [
    "b = 1.1"
   ]
  },
  {
   "cell_type": "code",
   "execution_count": 17,
   "id": "eb82e8e1-9355-4373-8009-0e83e5011e49",
   "metadata": {},
   "outputs": [
    {
     "data": {
      "text/plain": [
       "1.1"
      ]
     },
     "execution_count": 17,
     "metadata": {},
     "output_type": "execute_result"
    }
   ],
   "source": [
    "b"
   ]
  },
  {
   "cell_type": "code",
   "execution_count": 18,
   "id": "c68db9fc-e6a0-4d04-abcb-c09f3e51454a",
   "metadata": {},
   "outputs": [
    {
     "data": {
      "text/plain": [
       "float"
      ]
     },
     "execution_count": 18,
     "metadata": {},
     "output_type": "execute_result"
    }
   ],
   "source": [
    "type(b)"
   ]
  },
  {
   "cell_type": "code",
   "execution_count": 19,
   "id": "0f938358-5880-4220-990e-2aee3989bac5",
   "metadata": {},
   "outputs": [],
   "source": [
    "c = 1 - 4j"
   ]
  },
  {
   "cell_type": "code",
   "execution_count": 20,
   "id": "c08a193c-7491-4fcd-b948-4f1a668f13f9",
   "metadata": {},
   "outputs": [
    {
     "data": {
      "text/plain": [
       "complex"
      ]
     },
     "execution_count": 20,
     "metadata": {},
     "output_type": "execute_result"
    }
   ],
   "source": [
    "type(c)"
   ]
  },
  {
   "cell_type": "code",
   "execution_count": 21,
   "id": "baf476c6-6566-4017-995d-7185f5b5fe32",
   "metadata": {},
   "outputs": [
    {
     "data": {
      "text/plain": [
       "-4.0"
      ]
     },
     "execution_count": 21,
     "metadata": {},
     "output_type": "execute_result"
    }
   ],
   "source": [
    "c.imag"
   ]
  },
  {
   "cell_type": "code",
   "execution_count": 22,
   "id": "2fe8e7be-0e1e-4e84-a538-1f6423b57403",
   "metadata": {},
   "outputs": [
    {
     "data": {
      "text/plain": [
       "1.0"
      ]
     },
     "execution_count": 22,
     "metadata": {},
     "output_type": "execute_result"
    }
   ],
   "source": [
    "c.real"
   ]
  },
  {
   "cell_type": "markdown",
   "id": "4a99c677-de80-4f81-8f94-3851b869c52c",
   "metadata": {},
   "source": [
    "### 1.2 Boolean\n",
    "\n",
    "True, Flase로 이루어진 타입"
   ]
  },
  {
   "cell_type": "code",
   "execution_count": 23,
   "id": "bd255795-c250-419c-a7f1-2ba7249f8862",
   "metadata": {},
   "outputs": [],
   "source": [
    "a = True"
   ]
  },
  {
   "cell_type": "code",
   "execution_count": 24,
   "id": "2bf1f0ed-b3d1-47e5-bf57-b15ff903be57",
   "metadata": {},
   "outputs": [
    {
     "data": {
      "text/plain": [
       "bool"
      ]
     },
     "execution_count": 24,
     "metadata": {},
     "output_type": "execute_result"
    }
   ],
   "source": [
    "type(a)"
   ]
  },
  {
   "cell_type": "code",
   "execution_count": 25,
   "id": "97d9b9a3-b31f-40bb-96f5-b9baa4b6b0db",
   "metadata": {},
   "outputs": [],
   "source": [
    "b = False"
   ]
  },
  {
   "cell_type": "code",
   "execution_count": 26,
   "id": "9980abf5-246d-4c8c-8ca4-b298e749176b",
   "metadata": {},
   "outputs": [
    {
     "data": {
      "text/plain": [
       "bool"
      ]
     },
     "execution_count": 26,
     "metadata": {},
     "output_type": "execute_result"
    }
   ],
   "source": [
    "type(b)"
   ]
  },
  {
   "cell_type": "code",
   "execution_count": 27,
   "id": "2a6a0e50-32ec-411a-9656-970546c0c7d5",
   "metadata": {},
   "outputs": [
    {
     "data": {
      "text/plain": [
       "False"
      ]
     },
     "execution_count": 27,
     "metadata": {},
     "output_type": "execute_result"
    }
   ],
   "source": [
    "bool(0)"
   ]
  },
  {
   "cell_type": "code",
   "execution_count": 28,
   "id": "29f6fdb3-23cb-4ded-ba73-d8078ee4c797",
   "metadata": {},
   "outputs": [
    {
     "data": {
      "text/plain": [
       "True"
      ]
     },
     "execution_count": 28,
     "metadata": {},
     "output_type": "execute_result"
    }
   ],
   "source": [
    "bool(1)"
   ]
  },
  {
   "cell_type": "code",
   "execution_count": 29,
   "id": "b9b66d3d-6598-4e87-9f72-63ae101ff5c5",
   "metadata": {},
   "outputs": [
    {
     "data": {
      "text/plain": [
       "False"
      ]
     },
     "execution_count": 29,
     "metadata": {},
     "output_type": "execute_result"
    }
   ],
   "source": [
    "bool([])"
   ]
  },
  {
   "cell_type": "code",
   "execution_count": 30,
   "id": "01904058-0e82-4c95-8ec7-4f13e36fb628",
   "metadata": {},
   "outputs": [
    {
     "data": {
      "text/plain": [
       "True"
      ]
     },
     "execution_count": 30,
     "metadata": {},
     "output_type": "execute_result"
    }
   ],
   "source": [
    "bool([1])"
   ]
  },
  {
   "cell_type": "code",
   "execution_count": 31,
   "id": "e1ad11fd-c08c-439d-b9a9-358c4e93035f",
   "metadata": {},
   "outputs": [],
   "source": [
    "a = None"
   ]
  },
  {
   "cell_type": "code",
   "execution_count": 32,
   "id": "3c2ad958-0af3-4a6e-965f-9acd9e2da515",
   "metadata": {},
   "outputs": [
    {
     "data": {
      "text/plain": [
       "NoneType"
      ]
     },
     "execution_count": 32,
     "metadata": {},
     "output_type": "execute_result"
    }
   ],
   "source": [
    "type(a)"
   ]
  },
  {
   "cell_type": "markdown",
   "id": "327eaaf0-1d79-469b-8572-3bda5f816d79",
   "metadata": {},
   "source": [
    "### 1.4 String\n",
    "\n",
    "- 문자열은 `'`, `\"` 를 이용하여 표현"
   ]
  },
  {
   "cell_type": "code",
   "execution_count": 33,
   "id": "fb1ab45d-4849-4040-a005-102ed7a26073",
   "metadata": {},
   "outputs": [],
   "source": [
    "a = 'hello'"
   ]
  },
  {
   "cell_type": "code",
   "execution_count": 34,
   "id": "c49591a9-238c-4f96-87e2-c321fcafedd2",
   "metadata": {},
   "outputs": [
    {
     "data": {
      "text/plain": [
       "str"
      ]
     },
     "execution_count": 34,
     "metadata": {},
     "output_type": "execute_result"
    }
   ],
   "source": [
    "type(a)"
   ]
  },
  {
   "cell_type": "code",
   "execution_count": 39,
   "id": "072355dc-b239-4b75-a6cf-e789084c9968",
   "metadata": {},
   "outputs": [
    {
     "name": "stdin",
     "output_type": "stream",
     "text": [
      " 123\n"
     ]
    },
    {
     "name": "stdout",
     "output_type": "stream",
     "text": [
      "123\n",
      "<class 'str'>\n"
     ]
    }
   ],
   "source": [
    "age = input() \n",
    "print(age)\n",
    "print(type(age))"
   ]
  },
  {
   "cell_type": "code",
   "execution_count": 40,
   "id": "4916b648-4e71-40e6-b8f7-75bb267b6e7f",
   "metadata": {},
   "outputs": [
    {
     "name": "stdout",
     "output_type": "stream",
     "text": [
      "안녕하세요? \"정유진\"입니다\n"
     ]
    }
   ],
   "source": [
    "print('안녕하세요? \"정유진\"입니다')"
   ]
  },
  {
   "cell_type": "code",
   "execution_count": 42,
   "id": "1c0865e3-06b7-4d07-b6b6-208d2ae0a87b",
   "metadata": {},
   "outputs": [
    {
     "name": "stdout",
     "output_type": "stream",
     "text": [
      "안녕하세요? '정유진'입니다\n"
     ]
    }
   ],
   "source": [
    "print(\"안녕하세요? '정유진'입니다\")"
   ]
  },
  {
   "cell_type": "code",
   "execution_count": 41,
   "id": "1b503cba-e16e-4aef-85e6-4b828f8373ca",
   "metadata": {},
   "outputs": [
    {
     "name": "stdout",
     "output_type": "stream",
     "text": [
      "안녕하세요? '정유진'입니다\n"
     ]
    }
   ],
   "source": [
    "print('안녕하세요? \\'정유진\\'입니다')"
   ]
  },
  {
   "cell_type": "code",
   "execution_count": 46,
   "id": "486fa28b-44f0-4dc0-8c63-9fa510515194",
   "metadata": {},
   "outputs": [],
   "source": [
    "a = '''\n",
    "여기는 문자열입니다.\n",
    "엔터를 쳐서 여러줄을 작성할 수 있습니다.\n",
    "'''"
   ]
  },
  {
   "cell_type": "code",
   "execution_count": 47,
   "id": "e0816d33-6aa8-4bdf-8a3e-15d9e6249989",
   "metadata": {},
   "outputs": [
    {
     "name": "stdout",
     "output_type": "stream",
     "text": [
      "\n",
      "여기는 문자열입니다.\n",
      "엔터를 쳐서 여러줄을 작성할 수 있습니다.\n",
      "\n"
     ]
    }
   ],
   "source": [
    "print(a)"
   ]
  },
  {
   "cell_type": "code",
   "execution_count": 50,
   "id": "94c9ca0a-b923-4ec2-aa2a-7267d38dbca3",
   "metadata": {},
   "outputs": [
    {
     "name": "stdout",
     "output_type": "stream",
     "text": [
      "엔터를 입력해봐요 \n",
      "다음줄입니다.\n"
     ]
    }
   ],
   "source": [
    "print('엔터를 입력해봐요 \\n다음줄입니다.') # new라인으로 생각해주세요 라는 뜻(줄바꿈)"
   ]
  },
  {
   "cell_type": "code",
   "execution_count": 51,
   "id": "b7b64b57-ebeb-44bc-ad7a-cb111e3a22e4",
   "metadata": {},
   "outputs": [
    {
     "name": "stdout",
     "output_type": "stream",
     "text": [
      "엔터를 입력해봐요 \t들여쓰기도 가능합니다.\n"
     ]
    }
   ],
   "source": [
    "print('엔터를 입력해봐요 \\t들여쓰기도 가능합니다.')"
   ]
  },
  {
   "cell_type": "code",
   "execution_count": 52,
   "id": "388064d2-9ece-46a3-8fe1-d0283e1b0920",
   "metadata": {},
   "outputs": [
    {
     "name": "stdout",
     "output_type": "stream",
     "text": [
      "하나 둘 셋\n"
     ]
    }
   ],
   "source": [
    "print('하나', '둘', '셋')"
   ]
  },
  {
   "cell_type": "code",
   "execution_count": 53,
   "id": "5e241352-35c4-435e-9a99-8b8af373bdbc",
   "metadata": {},
   "outputs": [
    {
     "name": "stdout",
     "output_type": "stream",
     "text": [
      "하나 둘 셋!"
     ]
    }
   ],
   "source": [
    "print('하나', '둘', '셋', end = '!')"
   ]
  },
  {
   "cell_type": "code",
   "execution_count": 55,
   "id": "acea9402-d841-4c02-92bf-3db66b5479ea",
   "metadata": {},
   "outputs": [
    {
     "name": "stdout",
     "output_type": "stream",
     "text": [
      "하나!둘!셋\n"
     ]
    }
   ],
   "source": [
    "print('하나', '둘', '셋', sep = '!') #seperate에 느낌표를 넣음"
   ]
  },
  {
   "cell_type": "code",
   "execution_count": 56,
   "id": "7217376d-b0c9-47a9-acba-4937f7b371d0",
   "metadata": {},
   "outputs": [
    {
     "name": "stdout",
     "output_type": "stream",
     "text": [
      "하나\t둘\t셋\n"
     ]
    }
   ],
   "source": [
    "print('하나', '둘', '셋', sep = '\\t') #seperate에 들여쓰기를 넣음"
   ]
  },
  {
   "cell_type": "markdown",
   "id": "ea01b7ed-dd88-4cc4-add1-64991d584318",
   "metadata": {},
   "source": [
    "#### string interpolation\n",
    "\n",
    "1. %-formatting\n",
    "2. str.format()\n",
    "3. f-string"
   ]
  },
  {
   "cell_type": "code",
   "execution_count": 57,
   "id": "a80800af-0845-4b9a-9fe8-d36a5aa06be6",
   "metadata": {},
   "outputs": [],
   "source": [
    "age = 20"
   ]
  },
  {
   "cell_type": "code",
   "execution_count": 59,
   "id": "0c17a043-7bfd-4025-b7df-1dc34bb41e64",
   "metadata": {},
   "outputs": [
    {
     "name": "stdout",
     "output_type": "stream",
     "text": [
      "홍길동은 20 살입니다.\n"
     ]
    }
   ],
   "source": [
    "print('홍길동은 %s 살입니다.' %age) # 옛날방식1"
   ]
  },
  {
   "cell_type": "code",
   "execution_count": 61,
   "id": "c0200318-f91a-4b82-b557-d521ff2eac7c",
   "metadata": {},
   "outputs": [
    {
     "name": "stdout",
     "output_type": "stream",
     "text": [
      "홍길동은 20살입니다.\n"
     ]
    }
   ],
   "source": [
    "print('홍길동은 {}살입니다.'.format(age)) # 옛날방식2"
   ]
  },
  {
   "cell_type": "code",
   "execution_count": 62,
   "id": "5c36f724-4809-47b2-ab6f-820248f98a9b",
   "metadata": {},
   "outputs": [
    {
     "name": "stdout",
     "output_type": "stream",
     "text": [
      "홍길동은 20살입니다.\n"
     ]
    }
   ],
   "source": [
    "print(f'홍길동은 {age}살입니다.') # 최신방식"
   ]
  },
  {
   "cell_type": "markdown",
   "id": "6ed2b38f-ef55-4e99-8dcd-20ed1710754d",
   "metadata": {},
   "source": [
    "## 2. 연산자\n",
    "### 2.1 산술연산자"
   ]
  },
  {
   "cell_type": "code",
   "execution_count": 64,
   "id": "1deb7e49-ba7b-448b-83de-de550fe8c782",
   "metadata": {},
   "outputs": [],
   "source": [
    "a = 2\n",
    "b = 3"
   ]
  },
  {
   "cell_type": "code",
   "execution_count": 65,
   "id": "49b88baf-54d5-4557-b14f-bb620ba6df96",
   "metadata": {},
   "outputs": [
    {
     "name": "stdout",
     "output_type": "stream",
     "text": [
      "5\n",
      "-1\n",
      "6\n",
      "0.6666666666666666\n",
      "8\n"
     ]
    }
   ],
   "source": [
    "print(a + b)\n",
    "print(a - b)\n",
    "print(a * b)\n",
    "print(a / b)\n",
    "print(a ** b)"
   ]
  },
  {
   "cell_type": "code",
   "execution_count": 68,
   "id": "249d945d-cc60-4794-a36e-820e1ba61e45",
   "metadata": {},
   "outputs": [
    {
     "name": "stdout",
     "output_type": "stream",
     "text": [
      "0\n",
      "2\n",
      "(0, 2)\n"
     ]
    }
   ],
   "source": [
    "print(a // b)  #A를 B로 나눈 몫\n",
    "print(a % b)  #A를 B로 나누고 나머지\n",
    "print(divmod(a,b)) #A를 B로 나눈 몫, 나머지 출력"
   ]
  },
  {
   "cell_type": "markdown",
   "id": "14590124-7f29-4aa3-a74b-c8aac4c73205",
   "metadata": {},
   "source": [
    " ### 2.2 비교연산자"
   ]
  },
  {
   "cell_type": "code",
   "execution_count": 69,
   "id": "86ff7556-c862-4499-bfeb-3eb1593956ae",
   "metadata": {},
   "outputs": [],
   "source": [
    "a = 5\n",
    "b = 10"
   ]
  },
  {
   "cell_type": "code",
   "execution_count": 71,
   "id": "7c0bf60a-a04d-47af-99be-b00170114da1",
   "metadata": {},
   "outputs": [
    {
     "name": "stdout",
     "output_type": "stream",
     "text": [
      "False\n",
      "True\n",
      "False\n",
      "True\n"
     ]
    }
   ],
   "source": [
    "print(a > b)\n",
    "print(a < b)\n",
    "print(a >= b)\n",
    "print(a <= b)"
   ]
  },
  {
   "cell_type": "code",
   "execution_count": 72,
   "id": "70c2375c-c578-4a12-9830-5817f3c2a844",
   "metadata": {},
   "outputs": [
    {
     "name": "stdout",
     "output_type": "stream",
     "text": [
      "False\n",
      "True\n"
     ]
    }
   ],
   "source": [
    "print(a == b)\n",
    "print(a != b)"
   ]
  },
  {
   "cell_type": "code",
   "execution_count": 73,
   "id": "5f387f70-463b-44f9-a5fb-402656c7b388",
   "metadata": {},
   "outputs": [
    {
     "name": "stdout",
     "output_type": "stream",
     "text": [
      "True\n",
      "False\n"
     ]
    }
   ],
   "source": [
    "print ( 'hi' == 'hi' )\n",
    "print ( 'HI' == 'hi' )"
   ]
  },
  {
   "cell_type": "markdown",
   "id": "e1b5abf1-04b8-40d1-8051-ab875ff1d0d6",
   "metadata": {},
   "source": [
    "### 2.3 논리연산자\n",
    "\n",
    "- and : 양쪽 모두 True일 때, True를 반환\n",
    "- or : 양쪽 모두 False일 때, False를 반환\n",
    "- not : 값을 반대로 전환"
   ]
  },
  {
   "cell_type": "code",
   "execution_count": 75,
   "id": "a10e0bec-1022-4e1b-bb63-012e23a05db7",
   "metadata": {},
   "outputs": [
    {
     "name": "stdout",
     "output_type": "stream",
     "text": [
      "True\n",
      "False\n",
      "False\n",
      "False\n"
     ]
    }
   ],
   "source": [
    "print( True and True ) # 앞이 True이면 뒤의 값이 뭐든지 중요하지 않음 ex) print(True and 10000) : 10000 출력\n",
    "print( True and False )\n",
    "print( False and True )\n",
    "print( False and False )"
   ]
  },
  {
   "cell_type": "code",
   "execution_count": 76,
   "id": "c638bf98-371f-45a9-bfbb-c31f625a8271",
   "metadata": {},
   "outputs": [
    {
     "name": "stdout",
     "output_type": "stream",
     "text": [
      "True\n",
      "True\n",
      "True\n",
      "False\n"
     ]
    }
   ],
   "source": [
    "print( True or True )\n",
    "print( True or False )\n",
    "print( False or True )\n",
    "print( False or False )"
   ]
  },
  {
   "cell_type": "code",
   "execution_count": 77,
   "id": "5ac93851-3ac3-4f80-ad32-8e3c4d68e6b4",
   "metadata": {},
   "outputs": [
    {
     "name": "stdout",
     "output_type": "stream",
     "text": [
      "True\n",
      "False\n"
     ]
    }
   ],
   "source": [
    "print(True)\n",
    "print(not True)"
   ]
  },
  {
   "cell_type": "code",
   "execution_count": 78,
   "id": "319d01f5-f4f3-4d18-b701-bfe98c2fc3de",
   "metadata": {},
   "outputs": [
    {
     "name": "stdout",
     "output_type": "stream",
     "text": [
      "5\n",
      "0\n",
      "0\n",
      "0\n"
     ]
    }
   ],
   "source": [
    "# 단축평가\n",
    "## 형변환을 알아야함(True나 False만 생각하면 안됨) 0 : False , 1: True, 2: True ... 100: True\n",
    "print( 3 and 5 ) #앞이 3(True)이기 때문에 뒤가 나와야함,\n",
    "print( 3 and 0 ) # \n",
    "print ( 0 and 5 ) # 앞이 0(False)이기 때문에 앞이 나와야함\n",
    "print ( 0 and 0 )"
   ]
  },
  {
   "cell_type": "code",
   "execution_count": 79,
   "id": "d3c053e4-4362-4e24-99c7-4e6fa5a02f46",
   "metadata": {},
   "outputs": [
    {
     "name": "stdout",
     "output_type": "stream",
     "text": [
      "3\n",
      "3\n",
      "5\n",
      "0\n"
     ]
    }
   ],
   "source": [
    "# 단축평가\n",
    "## 형변환을 알아야함(True나 False만 생각하면 안됨) 0 : False , 1: True, 2: True ... 100: True\n",
    "print( 3 or 5 ) #앞이 3(True)이기 때문에 앞이 나와야함,\n",
    "print( 3 or 0 ) # \n",
    "print ( 0 or 5 ) # 앞이 0(False)이기 때문에 뒤가 나와야함\n",
    "print ( 0 or 0 )"
   ]
  },
  {
   "cell_type": "markdown",
   "id": "0d80cba0-cfd6-464f-b39f-9367e8a23cdb",
   "metadata": {},
   "source": [
    "## 2.4 복합연산자"
   ]
  },
  {
   "cell_type": "code",
   "execution_count": 83,
   "id": "6d9b369e-89e1-4ff9-93a7-efc0a4b1d30b",
   "metadata": {},
   "outputs": [],
   "source": [
    "a = 1\n",
    "b = 2"
   ]
  },
  {
   "cell_type": "code",
   "execution_count": 84,
   "id": "801918a1-7879-4fac-8b88-9b0c17353d1a",
   "metadata": {},
   "outputs": [],
   "source": [
    "a = a + b #  a += b\n",
    "a = a - b # a -= b\n",
    "a = a * b # a *= b\n",
    "a = a / b # a /= b\n",
    "a = a // b # a //= b\n",
    "a = a % b # a%= b\n",
    "a = a ** b # a**= b"
   ]
  },
  {
   "cell_type": "code",
   "execution_count": 86,
   "id": "2bc9077e-cda4-4af0-9347-fc78c89d0a4c",
   "metadata": {},
   "outputs": [],
   "source": [
    "a += 1"
   ]
  },
  {
   "cell_type": "markdown",
   "id": "e95f65d6-86f5-4264-a939-d93725c6bb1e",
   "metadata": {},
   "source": [
    "## 2.5 기타연산자\n",
    "\n",
    "- '+' : concatenation \n",
    "- in : containment\n",
    "- is : identity"
   ]
  },
  {
   "cell_type": "code",
   "execution_count": 88,
   "id": "3215f876-03c9-4837-bb6a-ba3c31eb7868",
   "metadata": {},
   "outputs": [],
   "source": [
    "a = 'hi'\n",
    "b = 'hello'"
   ]
  },
  {
   "cell_type": "code",
   "execution_count": 89,
   "id": "0ca6acf4-ec57-4e93-ac2b-47f207bda5d9",
   "metadata": {},
   "outputs": [
    {
     "data": {
      "text/plain": [
       "'hihello'"
      ]
     },
     "execution_count": 89,
     "metadata": {},
     "output_type": "execute_result"
    }
   ],
   "source": [
    "a + b #concatenation"
   ]
  },
  {
   "cell_type": "code",
   "execution_count": 90,
   "id": "905d4be2-d589-4f7e-8de3-1dd503f653b5",
   "metadata": {},
   "outputs": [],
   "source": [
    "a = [1, 2, 3]\n",
    "b = [4, 5, 6]"
   ]
  },
  {
   "cell_type": "code",
   "execution_count": 91,
   "id": "5be33ef0-3b58-4c80-9b2e-838f9c1f71b8",
   "metadata": {},
   "outputs": [
    {
     "data": {
      "text/plain": [
       "[1, 2, 3, 4, 5, 6]"
      ]
     },
     "execution_count": 91,
     "metadata": {},
     "output_type": "execute_result"
    }
   ],
   "source": [
    "a + b"
   ]
  },
  {
   "cell_type": "code",
   "execution_count": 92,
   "id": "f4a309d6-5d7e-4e38-a7b7-3d68e4f936d3",
   "metadata": {},
   "outputs": [
    {
     "name": "stdout",
     "output_type": "stream",
     "text": [
      "True\n",
      "False\n"
     ]
    }
   ],
   "source": [
    "#containment : 안에 들어있냐는 뜻\n",
    "print('a' in 'apple')\n",
    "print('z' in 'apple')"
   ]
  },
  {
   "cell_type": "code",
   "execution_count": 94,
   "id": "e5875854-2a67-496a-9814-54e659042620",
   "metadata": {},
   "outputs": [
    {
     "name": "stdout",
     "output_type": "stream",
     "text": [
      "True\n",
      "False\n"
     ]
    }
   ],
   "source": [
    "print ( 1 in [1,2,3])\n",
    "print ( 10 in [1,2,3])"
   ]
  },
  {
   "cell_type": "code",
   "execution_count": 99,
   "id": "906ec936-36ec-4dbf-9376-a0db80fea22e",
   "metadata": {},
   "outputs": [
    {
     "name": "stdout",
     "output_type": "stream",
     "text": [
      "True\n",
      "140719892849448\n",
      "140719892849448\n"
     ]
    }
   ],
   "source": [
    "# identity (is는 완벽하게 동일한가 - 메모리까지도)\n",
    "a = 1 # 작은숫자는 메모리가 같음\n",
    "b = 1\n",
    "print(a is b)\n",
    "print(id(a))\n",
    "print(id(b))"
   ]
  },
  {
   "cell_type": "code",
   "execution_count": 100,
   "id": "c4daaa46-49c2-48b7-8372-c95aede9f72b",
   "metadata": {},
   "outputs": [
    {
     "name": "stdout",
     "output_type": "stream",
     "text": [
      "False\n",
      "1776377919952\n",
      "1776377919696\n"
     ]
    }
   ],
   "source": [
    "a = 123123 # 큰숫자는 메모리가 다름\n",
    "b = 123123\n",
    "print(a is b)\n",
    "print(id(a))\n",
    "print(id(b))"
   ]
  },
  {
   "cell_type": "markdown",
   "id": "78471861-8457-4570-9925-dd9ff163e9bf",
   "metadata": {},
   "source": [
    "#### 우선순위\n",
    "\n",
    "0. ()를 통해 그룹\n",
    "1. **\n",
    "2. 산술연산자(*,/)\n",
    "3. 산술연산자(+,-)\n",
    "4. 비교연산자, in, is\n",
    "5. not\n",
    "6. and\n",
    "7. or"
   ]
  },
  {
   "cell_type": "code",
   "execution_count": 102,
   "id": "38f1d3be-6471-4db2-a5eb-1df1e014c5b4",
   "metadata": {},
   "outputs": [
    {
     "name": "stdout",
     "output_type": "stream",
     "text": [
      "-81\n",
      "81\n"
     ]
    }
   ],
   "source": [
    "print(-3 ** 4) # 3 * 3 * 3 * 3 한후 -붙인거임\n",
    "print((-3) ** 4)"
   ]
  },
  {
   "cell_type": "markdown",
   "id": "8acad9a2-6b7a-41e1-9f49-e969f4629f7a",
   "metadata": {},
   "source": [
    "## 3. 형변환\n",
    "### 3.1 암시적 형변환"
   ]
  },
  {
   "cell_type": "code",
   "execution_count": 103,
   "id": "ef7a69bf-c06e-4b75-89e1-2b1dc8539a2f",
   "metadata": {},
   "outputs": [],
   "source": [
    "a = True #형변환했을 때 True = 1\n",
    "b = 1"
   ]
  },
  {
   "cell_type": "code",
   "execution_count": 104,
   "id": "37249f99-63c5-42e9-b0cf-f8d1e21b85a8",
   "metadata": {},
   "outputs": [
    {
     "data": {
      "text/plain": [
       "2"
      ]
     },
     "execution_count": 104,
     "metadata": {},
     "output_type": "execute_result"
    }
   ],
   "source": [
    "a + b"
   ]
  },
  {
   "cell_type": "code",
   "execution_count": 105,
   "id": "0622fd8a-a09a-4253-99c8-55f59628591d",
   "metadata": {},
   "outputs": [],
   "source": [
    "a = True\n",
    "b = False\n",
    "c = 1"
   ]
  },
  {
   "cell_type": "code",
   "execution_count": 106,
   "id": "33c4f471-c48f-4dfa-ae0c-6659f8c9fef0",
   "metadata": {},
   "outputs": [
    {
     "name": "stdout",
     "output_type": "stream",
     "text": [
      "2\n",
      "1\n"
     ]
    }
   ],
   "source": [
    "print(a + c)\n",
    "print(b + c)"
   ]
  },
  {
   "cell_type": "code",
   "execution_count": 107,
   "id": "64bce00a-2ac3-4b96-91d3-c14c31306f31",
   "metadata": {},
   "outputs": [],
   "source": [
    "int_num = 3\n",
    "float_num = 3.3\n",
    "complex_num = 1 + 3j"
   ]
  },
  {
   "cell_type": "code",
   "execution_count": 109,
   "id": "923160aa-ce73-4e91-80c6-17683448c756",
   "metadata": {},
   "outputs": [
    {
     "name": "stdout",
     "output_type": "stream",
     "text": [
      "6.3\n",
      "(4+3j)\n"
     ]
    }
   ],
   "source": [
    "print ( int_num + float_num)\n",
    "print ( int_num + complex_num )"
   ]
  },
  {
   "cell_type": "markdown",
   "id": "b4bae27f-3136-4a10-8b9b-a65d78723acf",
   "metadata": {},
   "source": [
    "### 3.2 명시적 형변환\n",
    "\n",
    "- int() : string, float를 int로 변환\n",
    "- float() : string, int를 float로 변환\n",
    "- str() : int, float 등을 string으로 벼환\n",
    "- bool() : int, list 등을 boolean으로 변환"
   ]
  },
  {
   "cell_type": "code",
   "execution_count": 113,
   "id": "2e084f73-599b-4d94-8c30-171daaba982b",
   "metadata": {},
   "outputs": [],
   "source": [
    "a = 1\n",
    "b = '번'"
   ]
  },
  {
   "cell_type": "code",
   "execution_count": 114,
   "id": "dc2a34c1-922a-42a8-a4f9-35d209c2d568",
   "metadata": {},
   "outputs": [
    {
     "ename": "TypeError",
     "evalue": "unsupported operand type(s) for +: 'int' and 'str'",
     "output_type": "error",
     "traceback": [
      "\u001b[1;31m---------------------------------------------------------------------------\u001b[0m",
      "\u001b[1;31mTypeError\u001b[0m                                 Traceback (most recent call last)",
      "Cell \u001b[1;32mIn[114], line 1\u001b[0m\n\u001b[1;32m----> 1\u001b[0m \u001b[38;5;28mprint\u001b[39m (\u001b[43ma\u001b[49m\u001b[43m \u001b[49m\u001b[38;5;241;43m+\u001b[39;49m\u001b[43m \u001b[49m\u001b[43mb\u001b[49m) \u001b[38;5;66;03m# error 이유: int와 str를 연결하려고 했기때문 (+는 int끼리 혹은 str끼리 사용 ) \u001b[39;00m\n",
      "\u001b[1;31mTypeError\u001b[0m: unsupported operand type(s) for +: 'int' and 'str'"
     ]
    }
   ],
   "source": [
    "print (a + b) # error 이유: int와 str를 연결하려고 했기때문 (+는 int끼리 혹은 str끼리 사용 ) "
   ]
  },
  {
   "cell_type": "code",
   "execution_count": 115,
   "id": "7bf94b64-ce35-430c-964e-a3fb14471c14",
   "metadata": {},
   "outputs": [
    {
     "name": "stdout",
     "output_type": "stream",
     "text": [
      "1번\n"
     ]
    }
   ],
   "source": [
    "print (str(a) + b)"
   ]
  },
  {
   "cell_type": "code",
   "execution_count": 116,
   "id": "c5aa4fd2-149c-494b-aeae-73bd4ca904c5",
   "metadata": {},
   "outputs": [],
   "source": [
    "a ='3'"
   ]
  },
  {
   "cell_type": "code",
   "execution_count": 117,
   "id": "ad24bb3a-8b38-4510-a906-65f03d6b3a72",
   "metadata": {},
   "outputs": [
    {
     "data": {
      "text/plain": [
       "int"
      ]
     },
     "execution_count": 117,
     "metadata": {},
     "output_type": "execute_result"
    }
   ],
   "source": [
    "type(int(a))"
   ]
  },
  {
   "cell_type": "code",
   "execution_count": 118,
   "id": "74d770ae-c659-4a52-9d5a-4e0d687c5b57",
   "metadata": {},
   "outputs": [],
   "source": [
    "a = '3.3'"
   ]
  },
  {
   "cell_type": "code",
   "execution_count": 121,
   "id": "2b0128ad-2a42-4354-948d-c55eb7b6da03",
   "metadata": {},
   "outputs": [
    {
     "ename": "ValueError",
     "evalue": "invalid literal for int() with base 10: '3.3'",
     "output_type": "error",
     "traceback": [
      "\u001b[1;31m---------------------------------------------------------------------------\u001b[0m",
      "\u001b[1;31mValueError\u001b[0m                                Traceback (most recent call last)",
      "Cell \u001b[1;32mIn[121], line 1\u001b[0m\n\u001b[1;32m----> 1\u001b[0m \u001b[38;5;28mtype\u001b[39m(\u001b[38;5;28;43mint\u001b[39;49m\u001b[43m(\u001b[49m\u001b[43ma\u001b[49m\u001b[43m)\u001b[49m)\n",
      "\u001b[1;31mValueError\u001b[0m: invalid literal for int() with base 10: '3.3'"
     ]
    }
   ],
   "source": [
    "type(int(a)) # error 이유 : 10진수만 int로 변경할 수 있다. 즉 실수로 해야함"
   ]
  },
  {
   "cell_type": "code",
   "execution_count": 122,
   "id": "74efedc5-1ab0-4743-b359-98a0a26c118a",
   "metadata": {},
   "outputs": [
    {
     "data": {
      "text/plain": [
       "float"
      ]
     },
     "execution_count": 122,
     "metadata": {},
     "output_type": "execute_result"
    }
   ],
   "source": [
    "type(float(a)) "
   ]
  },
  {
   "cell_type": "code",
   "execution_count": 125,
   "id": "bc759486-b1f8-457d-9d06-53ed1f2f5346",
   "metadata": {},
   "outputs": [],
   "source": [
    "a = 1\n",
    "b = 0"
   ]
  },
  {
   "cell_type": "code",
   "execution_count": 126,
   "id": "c5da4fb5-1a4b-4a6b-b58f-b0cee6e5d587",
   "metadata": {},
   "outputs": [
    {
     "data": {
      "text/plain": [
       "True"
      ]
     },
     "execution_count": 126,
     "metadata": {},
     "output_type": "execute_result"
    }
   ],
   "source": [
    "bool(a)"
   ]
  },
  {
   "cell_type": "code",
   "execution_count": 127,
   "id": "7397bed9-6a13-4ef5-aac5-c7c3c6f92e61",
   "metadata": {},
   "outputs": [
    {
     "data": {
      "text/plain": [
       "False"
      ]
     },
     "execution_count": 127,
     "metadata": {},
     "output_type": "execute_result"
    }
   ],
   "source": [
    "bool(b)"
   ]
  },
  {
   "cell_type": "code",
   "execution_count": 129,
   "id": "343aa25c-e29e-40c4-89f8-cb2f20123d64",
   "metadata": {},
   "outputs": [
    {
     "name": "stdout",
     "output_type": "stream",
     "text": [
      "False\n",
      "True\n"
     ]
    }
   ],
   "source": [
    "print(bool([]))  # 리스트안이 비어있기 때문에 false\n",
    "print(bool([1,2,3]))"
   ]
  },
  {
   "cell_type": "markdown",
   "id": "09d82d6a-2cf8-40e9-959b-671a174b66bc",
   "metadata": {},
   "source": [
    "## 4. 시퀀스(sequence) 자료형\n",
    "\n",
    "시퀀스는 데이터의 순서대로 나열된 자료구조. (순서대로 나열되었다는 것은 정렬된것과 다르다)\n",
    "\n",
    "1. 리스트\n",
    "2. 튜플\n",
    "3. 레인지\n",
    "4. 문자열"
   ]
  },
  {
   "cell_type": "markdown",
   "id": "843f2f49-53ee-47ab-8ce9-fae3296fc947",
   "metadata": {},
   "source": [
    "### 4.1 List\n",
    "\n",
    "- 선언 : 변수이름 = [value1, value2, value3 ...]\n",
    "- 접근 : 변수이름[index]"
   ]
  },
  {
   "cell_type": "code",
   "execution_count": 131,
   "id": "66f2c50d-6017-44e1-8fd5-dd8ae5fce74c",
   "metadata": {},
   "outputs": [
    {
     "name": "stdout",
     "output_type": "stream",
     "text": [
      "[]\n",
      "<class 'list'>\n"
     ]
    }
   ],
   "source": [
    "l = []\n",
    "print(l)\n",
    "print(type(l))"
   ]
  },
  {
   "cell_type": "code",
   "execution_count": 139,
   "id": "c2e0b1cc-5135-41a3-9f1b-8b9820b19f5c",
   "metadata": {},
   "outputs": [
    {
     "name": "stdout",
     "output_type": "stream",
     "text": [
      "서울\n",
      "대구\n",
      "대전\n",
      "['서울', '부산', '대전']\n"
     ]
    }
   ],
   "source": [
    "location = ['서울', '대구', '대전'] #list 선언\n",
    "print(location[0]) #list 접근\n",
    "print(location[1])\n",
    "print(location[2])\n",
    "location[1] = '부산'\n",
    "print(location)"
   ]
  },
  {
   "cell_type": "markdown",
   "id": "150a45cf-ffe9-4a95-b846-068a65f803fb",
   "metadata": {},
   "source": [
    "### 4.2 Turple\n",
    "- 선언 : 변수이름 = (value1, value2, value3)\n",
    "- 접근 : 변수이름[index]\n",
    "- 리스트와 유사하지만 수정 불가능(immutabel)하다."
   ]
  },
  {
   "cell_type": "code",
   "execution_count": 140,
   "id": "66b725c2-e92d-471b-9117-0b18651d99a2",
   "metadata": {},
   "outputs": [
    {
     "name": "stdout",
     "output_type": "stream",
     "text": [
      "(1, 2, 3)\n",
      "<class 'tuple'>\n",
      "3\n"
     ]
    }
   ],
   "source": [
    "t = (1,2,3)\n",
    "print(t)\n",
    "print(type(t))\n",
    "print(t[2])"
   ]
  },
  {
   "cell_type": "code",
   "execution_count": 141,
   "id": "0d24aa24-2df8-4907-9d55-c12fb176a956",
   "metadata": {},
   "outputs": [
    {
     "ename": "TypeError",
     "evalue": "'tuple' object does not support item assignment",
     "output_type": "error",
     "traceback": [
      "\u001b[1;31m---------------------------------------------------------------------------\u001b[0m",
      "\u001b[1;31mTypeError\u001b[0m                                 Traceback (most recent call last)",
      "Cell \u001b[1;32mIn[141], line 1\u001b[0m\n\u001b[1;32m----> 1\u001b[0m \u001b[43mt\u001b[49m\u001b[43m[\u001b[49m\u001b[38;5;241;43m2\u001b[39;49m\u001b[43m]\u001b[49m \u001b[38;5;241m=\u001b[39m \u001b[38;5;241m5\u001b[39m\n",
      "\u001b[1;31mTypeError\u001b[0m: 'tuple' object does not support item assignment"
     ]
    }
   ],
   "source": [
    "t[2] = 5 # error 이유 : tuple 형식은 어떤 값을 할당하는 것을 지원안함"
   ]
  },
  {
   "cell_type": "code",
   "execution_count": 143,
   "id": "348b739b-9a5d-4b61-8d30-5d3e79b83648",
   "metadata": {},
   "outputs": [
    {
     "name": "stdout",
     "output_type": "stream",
     "text": [
      "1 2\n",
      "2 1\n"
     ]
    }
   ],
   "source": [
    "#그럼 수정도 안되는데 어디다가 사용? 아래 확인. (여러개의 데이터에 동시에 할당할 때 사용)\n",
    "x,y = 1, 2\n",
    "print(x,y)\n",
    "\n",
    "x,y = y, x\n",
    "print(x,y)"
   ]
  },
  {
   "cell_type": "markdown",
   "id": "fe49b866-582b-4e70-889c-a4e816996d95",
   "metadata": {},
   "source": [
    "### 4.3 range\n",
    "\n",
    "- range(n) : 0부터 n-1까지 범위\n",
    "- range(n, m) : n부터 m-1까지 범위\n",
    "- range(n, m, s) : n부터 m-1까지 +s만큼 증가하는 범위"
   ]
  },
  {
   "cell_type": "code",
   "execution_count": 145,
   "id": "f57c44b0-91ae-4617-a178-5b09fe3b2351",
   "metadata": {},
   "outputs": [
    {
     "name": "stdout",
     "output_type": "stream",
     "text": [
      "<class 'range'>\n"
     ]
    }
   ],
   "source": [
    "a = range(1)\n",
    "print(type(a))"
   ]
  },
  {
   "cell_type": "code",
   "execution_count": 147,
   "id": "2cbb95da-9b40-4ac8-ab00-e17392b3e2ec",
   "metadata": {},
   "outputs": [
    {
     "name": "stdout",
     "output_type": "stream",
     "text": [
      "range(0, 10)\n",
      "[0, 1, 2, 3, 4, 5, 6, 7, 8, 9]\n"
     ]
    }
   ],
   "source": [
    "a = range(10)\n",
    "print(a)\n",
    "print(list(a))"
   ]
  },
  {
   "cell_type": "code",
   "execution_count": 148,
   "id": "61d09ae1-9463-4d77-a073-05a0c13a83fd",
   "metadata": {},
   "outputs": [
    {
     "name": "stdout",
     "output_type": "stream",
     "text": [
      "[5, 6, 7, 8, 9, 10, 11, 12, 13, 14]\n"
     ]
    }
   ],
   "source": [
    "a = range(5,15)\n",
    "print(list(a))"
   ]
  },
  {
   "cell_type": "code",
   "execution_count": 149,
   "id": "359ab52f-49bb-487a-98a5-d2b471fe82f2",
   "metadata": {},
   "outputs": [
    {
     "name": "stdout",
     "output_type": "stream",
     "text": [
      "[1, 3, 5, 7, 9]\n"
     ]
    }
   ],
   "source": [
    "a = range(1,10,2)\n",
    "print(list(a))"
   ]
  },
  {
   "cell_type": "code",
   "execution_count": 150,
   "id": "d4050455-8d30-4703-83f6-da1740beaf5e",
   "metadata": {},
   "outputs": [
    {
     "name": "stdout",
     "output_type": "stream",
     "text": [
      "[-1, -2, -3, -4, -5, -6, -7, -8, -9]\n"
     ]
    }
   ],
   "source": [
    "a = range(-1, -10, -1)\n",
    "print(list(a))"
   ]
  },
  {
   "cell_type": "markdown",
   "id": "084ace81-b301-455f-9812-c0921a191cf1",
   "metadata": {},
   "source": [
    "### 4.4 String\n",
    "기본 데이터 구조 참고"
   ]
  },
  {
   "cell_type": "markdown",
   "id": "6aa1828b-6954-46b2-9a0e-f30b8780e084",
   "metadata": {},
   "source": [
    "### 4.5 시퀀스에서 활용 가능한 연산/구조"
   ]
  },
  {
   "cell_type": "code",
   "execution_count": 158,
   "id": "0615ae01-2b38-4f47-8dea-b9772e167101",
   "metadata": {},
   "outputs": [],
   "source": [
    "my_list = [1,2,3,4,5]\n",
    "my_tuple = (1,2,3,4,5)\n",
    "my_range = range(1,100)\n",
    "my_string = '12345'"
   ]
  },
  {
   "cell_type": "code",
   "execution_count": 159,
   "id": "b1186280-6bcf-44b0-9ea1-ad0d26321616",
   "metadata": {},
   "outputs": [
    {
     "name": "stdout",
     "output_type": "stream",
     "text": [
      "2\n",
      "2\n",
      "2\n",
      "2\n"
     ]
    }
   ],
   "source": [
    "# indexing 가능\n",
    "print(my_list[1])\n",
    "print(my_tuple[1])\n",
    "print(my_range[1])\n",
    "print(my_string[1])"
   ]
  },
  {
   "cell_type": "code",
   "execution_count": 160,
   "id": "539445c7-d51b-43e8-ae7b-a5c0b27850f7",
   "metadata": {},
   "outputs": [
    {
     "name": "stdout",
     "output_type": "stream",
     "text": [
      "[2, 3]\n",
      "(2, 3)\n",
      "range(2, 4)\n",
      "23\n"
     ]
    }
   ],
   "source": [
    "#slicing 가능\n",
    "print(my_list[1:3])\n",
    "print(my_tuple[1:3])\n",
    "print(my_range[1:3])\n",
    "print(my_string[1:3])"
   ]
  },
  {
   "cell_type": "code",
   "execution_count": 163,
   "id": "d99385be-4cec-4976-948f-bb114bec60c1",
   "metadata": {},
   "outputs": [
    {
     "data": {
      "text/plain": [
       "[3, 5]"
      ]
     },
     "execution_count": 163,
     "metadata": {},
     "output_type": "execute_result"
    }
   ],
   "source": [
    "#slicing (k간격으로)\n",
    "list(my_range[2:6:2])"
   ]
  },
  {
   "cell_type": "code",
   "execution_count": 164,
   "id": "f258ca7e-005a-4027-badd-4e5f651ae77f",
   "metadata": {},
   "outputs": [
    {
     "name": "stdout",
     "output_type": "stream",
     "text": [
      "True\n",
      "True\n",
      "True\n",
      "True\n"
     ]
    }
   ],
   "source": [
    "print(1 in my_list)\n",
    "print(1 in my_tuple)\n",
    "print(1 in my_range)\n",
    "print('1' in my_string)"
   ]
  },
  {
   "cell_type": "code",
   "execution_count": 165,
   "id": "03ce1b3c-f4bb-46c2-83d0-d5b82b7d6eb0",
   "metadata": {},
   "outputs": [
    {
     "name": "stdout",
     "output_type": "stream",
     "text": [
      "False\n",
      "False\n",
      "False\n",
      "False\n"
     ]
    }
   ],
   "source": [
    "print(1 not in my_list)\n",
    "print(1 not in my_tuple)\n",
    "print(1 not in my_range)\n",
    "print('1' not in my_string)"
   ]
  },
  {
   "cell_type": "code",
   "execution_count": 166,
   "id": "50e3efdb-b7e4-4d30-ad09-a86ebda84c1e",
   "metadata": {},
   "outputs": [
    {
     "name": "stdout",
     "output_type": "stream",
     "text": [
      "[1, 2, 3, 4, 5, 1, 2, 3]\n"
     ]
    }
   ],
   "source": [
    "# concatenation\n",
    "print(my_list + [1,2,3])"
   ]
  },
  {
   "cell_type": "code",
   "execution_count": 168,
   "id": "b5172a2a-cb11-466a-bc50-b731e56402de",
   "metadata": {},
   "outputs": [
    {
     "name": "stdout",
     "output_type": "stream",
     "text": [
      "[0, 0, 0, 0, 0, 0, 0, 0, 0, 0]\n",
      "[[0, 0, 0, 0, 0, 0, 0, 0, 0, 0], [0, 0, 0, 0, 0, 0, 0, 0, 0, 0], [0, 0, 0, 0, 0, 0, 0, 0, 0, 0], [0, 0, 0, 0, 0, 0, 0, 0, 0, 0], [0, 0, 0, 0, 0, 0, 0, 0, 0, 0], [0, 0, 0, 0, 0, 0, 0, 0, 0, 0], [0, 0, 0, 0, 0, 0, 0, 0, 0, 0], [0, 0, 0, 0, 0, 0, 0, 0, 0, 0], [0, 0, 0, 0, 0, 0, 0, 0, 0, 0], [0, 0, 0, 0, 0, 0, 0, 0, 0, 0]]\n"
     ]
    }
   ],
   "source": [
    "# *\n",
    "print([0] * 10)\n",
    "print([[0] * 10] * 10)"
   ]
  },
  {
   "cell_type": "code",
   "execution_count": 169,
   "id": "dd5ca457-ef8c-4ccd-95ee-ce9e2149325d",
   "metadata": {},
   "outputs": [
    {
     "name": "stdout",
     "output_type": "stream",
     "text": [
      "5\n"
     ]
    }
   ],
   "source": [
    "print(len(my_list))"
   ]
  },
  {
   "cell_type": "code",
   "execution_count": 170,
   "id": "f3ff5670-290c-464c-9fc7-8fdf06c9c67c",
   "metadata": {},
   "outputs": [
    {
     "name": "stdout",
     "output_type": "stream",
     "text": [
      "1\n",
      "5\n"
     ]
    }
   ],
   "source": [
    "print(min(my_list))\n",
    "print(max(my_list))"
   ]
  },
  {
   "cell_type": "code",
   "execution_count": 171,
   "id": "1a47ec86-d0f0-4e16-9cb3-15093ad59c52",
   "metadata": {},
   "outputs": [
    {
     "data": {
      "text/plain": [
       "1"
      ]
     },
     "execution_count": 171,
     "metadata": {},
     "output_type": "execute_result"
    }
   ],
   "source": [
    "my_list.count(1)"
   ]
  },
  {
   "cell_type": "markdown",
   "id": "dd39f3a3-c5ae-448b-b1ba-9f733b67e1bf",
   "metadata": {},
   "source": [
    "## 5. 시퀀스 데이터가 아닌 자료구조\n",
    "\n",
    "### 5.1 Set\n",
    "수학에서 사용하는 집합과 동일하게 처리\n",
    "- 선언 : 변수이름 = {value1, value2, value3}"
   ]
  },
  {
   "cell_type": "code",
   "execution_count": 172,
   "id": "8ae1310c-36cc-44c8-a151-ec854a015d95",
   "metadata": {},
   "outputs": [],
   "source": [
    "my_set_a = {1,2,3,4,5}\n",
    "my_set_b = {3,4,5,6,7}"
   ]
  },
  {
   "cell_type": "code",
   "execution_count": 175,
   "id": "f0dac7de-d3c0-4491-9a04-e1fc70f3d55d",
   "metadata": {},
   "outputs": [
    {
     "name": "stdout",
     "output_type": "stream",
     "text": [
      "{1, 2}\n",
      "{1, 2, 3, 4, 5, 6, 7}\n",
      "{3, 4, 5}\n"
     ]
    }
   ],
   "source": [
    "print(my_set_a - my_set_b) #차집합\n",
    "print(my_set_a | my_set_b) # 합칩합\n",
    "print(my_set_a & my_set_b) # 교집합"
   ]
  },
  {
   "cell_type": "code",
   "execution_count": 177,
   "id": "23058914-da06-4c56-9165-bb82bb3203fc",
   "metadata": {},
   "outputs": [
    {
     "name": "stdout",
     "output_type": "stream",
     "text": [
      "{1, 2, 3, 4, 5, 6, 7}\n",
      "[1, 2, 3, 4, 5, 6, 7]\n"
     ]
    }
   ],
   "source": [
    "my_list = [1,1,1,1,1,1,1,2,3,4,5,6,7]\n",
    "print(set(my_list))  #중복제거\n",
    "print(list(set(my_list)))"
   ]
  },
  {
   "cell_type": "markdown",
   "id": "8d6a8e47-9652-450f-9697-2fe6fc113cd7",
   "metadata": {},
   "source": [
    "### 5.2 Dictionary\n",
    "\n",
    "- 선언 : 변수이름 = {key1: value1, key2: value2, key3: value3 ...}\n",
    "- 접근 : 변수이름[Key]\n",
    "\n",
    "- dictionary는 key와 value가 쌍으로 이루어져있다.\n",
    "- key에는 immutable한 모든것을 사용가능 (불변값 : string, integer ...)\n",
    "- value에는 모든 데이터 가능 (list, dictionary도 가능)"
   ]
  },
  {
   "cell_type": "code",
   "execution_count": 179,
   "id": "c03cbbfd-fad8-430b-a24e-ae2971787151",
   "metadata": {},
   "outputs": [
    {
     "data": {
      "text/plain": [
       "'02'"
      ]
     },
     "execution_count": 179,
     "metadata": {},
     "output_type": "execute_result"
    }
   ],
   "source": [
    "my_dict = {'서울': '02', '경기도': '031'}\n",
    "my_dict['서울']"
   ]
  },
  {
   "cell_type": "code",
   "execution_count": 180,
   "id": "b9eef221-5598-41c2-b6d2-d5a4761f56b9",
   "metadata": {},
   "outputs": [],
   "source": [
    "dict_a = {\n",
    "    'name' : '정유진',\n",
    "    'location' : '서울',\n",
    "    'location' : '서울2' # key가 같기 때문에 마지막에 있는 것 사용\n",
    "}"
   ]
  },
  {
   "cell_type": "code",
   "execution_count": 181,
   "id": "aa3b62ca-6355-41bf-9091-6136b1c8e14c",
   "metadata": {},
   "outputs": [
    {
     "data": {
      "text/plain": [
       "{'name': '정유진', 'location': '서울2'}"
      ]
     },
     "execution_count": 181,
     "metadata": {},
     "output_type": "execute_result"
    }
   ],
   "source": [
    "dict_a"
   ]
  },
  {
   "cell_type": "code",
   "execution_count": 182,
   "id": "4da37acf-d517-4286-a8c1-0f6d63d2601b",
   "metadata": {},
   "outputs": [
    {
     "data": {
      "text/plain": [
       "dict_keys(['name', 'location'])"
      ]
     },
     "execution_count": 182,
     "metadata": {},
     "output_type": "execute_result"
    }
   ],
   "source": [
    "dict_a.keys()"
   ]
  },
  {
   "cell_type": "code",
   "execution_count": 183,
   "id": "3607573a-f08a-4dfb-9394-f057df4f270d",
   "metadata": {},
   "outputs": [
    {
     "data": {
      "text/plain": [
       "dict_values(['정유진', '서울2'])"
      ]
     },
     "execution_count": 183,
     "metadata": {},
     "output_type": "execute_result"
    }
   ],
   "source": [
    "dict_a.values()"
   ]
  },
  {
   "cell_type": "markdown",
   "id": "840cf1c8-0b3e-4b81-ab67-6d4b63611e13",
   "metadata": {},
   "source": [
    "# 데이터 타입\n",
    "\n",
    "1. Number\n",
    "2. Boolean\n",
    "3. String\n",
    "\n",
    "# 자료구조\n",
    "- 시퀀스 자료형\n",
    "1. **[List] : 수정가능(mutable)**\n",
    "2. (Tuple) : 불변함(immutable)\n",
    "3. range() : 불변함(immutable)\n",
    "4. **'String' : 불변함(immutable)**\n",
    "\n",
    "- 시퀀스가 아닌 자료형\n",
    "1. {Set} : mutable\n",
    "2. **{Dictionary} : mutable**"
   ]
  },
  {
   "cell_type": "code",
   "execution_count": null,
   "id": "9bc3935a-28c5-418d-a22a-57a4033993e4",
   "metadata": {},
   "outputs": [],
   "source": []
  }
 ],
 "metadata": {
  "kernelspec": {
   "display_name": "Python 3 (ipykernel)",
   "language": "python",
   "name": "python3"
  },
  "language_info": {
   "codemirror_mode": {
    "name": "ipython",
    "version": 3
   },
   "file_extension": ".py",
   "mimetype": "text/x-python",
   "name": "python",
   "nbconvert_exporter": "python",
   "pygments_lexer": "ipython3",
   "version": "3.11.4"
  }
 },
 "nbformat": 4,
 "nbformat_minor": 5
}
