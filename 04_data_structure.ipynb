{
 "cells": [
  {
   "cell_type": "code",
   "execution_count": 1,
   "id": "5347704e-1ba4-4272-98fc-75486e2f93f0",
   "metadata": {},
   "outputs": [
    {
     "name": "stdout",
     "output_type": "stream",
     "text": [
      "hello\n"
     ]
    }
   ],
   "source": [
    "print('hello')"
   ]
  },
  {
   "cell_type": "code",
   "execution_count": 2,
   "id": "4de24f1f-4c56-4ae4-a5d4-a2f9feb91a0e",
   "metadata": {},
   "outputs": [
    {
     "data": {
      "text/plain": [
       "'123'"
      ]
     },
     "execution_count": 2,
     "metadata": {},
     "output_type": "execute_result"
    }
   ],
   "source": [
    "''.join(['1','2','3']) #__.___ : 메소드 (ex"
   ]
  },
  {
   "cell_type": "code",
   "execution_count": 21,
   "id": "4e154d85-0869-46f8-9c58-7e4a4630dc06",
   "metadata": {
    "collapsed": true,
    "jupyter": {
     "outputs_hidden": true
    },
    "scrolled": true
   },
   "outputs": [
    {
     "data": {
      "text/plain": [
       "['__add__',\n",
       " '__class__',\n",
       " '__contains__',\n",
       " '__delattr__',\n",
       " '__dir__',\n",
       " '__doc__',\n",
       " '__eq__',\n",
       " '__format__',\n",
       " '__ge__',\n",
       " '__getattribute__',\n",
       " '__getitem__',\n",
       " '__getnewargs__',\n",
       " '__getstate__',\n",
       " '__gt__',\n",
       " '__hash__',\n",
       " '__init__',\n",
       " '__init_subclass__',\n",
       " '__iter__',\n",
       " '__le__',\n",
       " '__len__',\n",
       " '__lt__',\n",
       " '__mod__',\n",
       " '__mul__',\n",
       " '__ne__',\n",
       " '__new__',\n",
       " '__reduce__',\n",
       " '__reduce_ex__',\n",
       " '__repr__',\n",
       " '__rmod__',\n",
       " '__rmul__',\n",
       " '__setattr__',\n",
       " '__sizeof__',\n",
       " '__str__',\n",
       " '__subclasshook__',\n",
       " 'capitalize',\n",
       " 'casefold',\n",
       " 'center',\n",
       " 'count',\n",
       " 'encode',\n",
       " 'endswith',\n",
       " 'expandtabs',\n",
       " 'find',\n",
       " 'format',\n",
       " 'format_map',\n",
       " 'index',\n",
       " 'isalnum',\n",
       " 'isalpha',\n",
       " 'isascii',\n",
       " 'isdecimal',\n",
       " 'isdigit',\n",
       " 'isidentifier',\n",
       " 'islower',\n",
       " 'isnumeric',\n",
       " 'isprintable',\n",
       " 'isspace',\n",
       " 'istitle',\n",
       " 'isupper',\n",
       " 'join',\n",
       " 'ljust',\n",
       " 'lower',\n",
       " 'lstrip',\n",
       " 'maketrans',\n",
       " 'partition',\n",
       " 'removeprefix',\n",
       " 'removesuffix',\n",
       " 'replace',\n",
       " 'rfind',\n",
       " 'rindex',\n",
       " 'rjust',\n",
       " 'rpartition',\n",
       " 'rsplit',\n",
       " 'rstrip',\n",
       " 'split',\n",
       " 'splitlines',\n",
       " 'startswith',\n",
       " 'strip',\n",
       " 'swapcase',\n",
       " 'title',\n",
       " 'translate',\n",
       " 'upper',\n",
       " 'zfill']"
      ]
     },
     "execution_count": 21,
     "metadata": {},
     "output_type": "execute_result"
    }
   ],
   "source": [
    "dir('hello')  #string이 쓸 수 있는 메소드\n",
    "dir(123) # int가 쓸 수 있는 메소드"
   ]
  },
  {
   "cell_type": "markdown",
   "id": "3bc14328-861f-4caa-8397-129155ac361e",
   "metadata": {},
   "source": [
    "## 1. 문자열 메소드\n",
    "- .capitalize()\n",
    "- .title()\n",
    "- .upper()\n",
    "- .lower()\n",
    "- .join(iterable)\n",
    "- . replace(old, new)\n",
    "- .strip([chars])\n",
    "- .find(x)\n",
    "- .index(x)\n",
    "- .split(x)\n",
    "- .count(x)"
   ]
  },
  {
   "cell_type": "code",
   "execution_count": 4,
   "id": "bcbb56a5-acab-49a1-ba4e-4df39a0facad",
   "metadata": {},
   "outputs": [],
   "source": [
    "a = 'hello'"
   ]
  },
  {
   "cell_type": "code",
   "execution_count": 5,
   "id": "48da74be-bcff-470d-99db-2b5a6240988a",
   "metadata": {},
   "outputs": [
    {
     "data": {
      "text/plain": [
       "'h'"
      ]
     },
     "execution_count": 5,
     "metadata": {},
     "output_type": "execute_result"
    }
   ],
   "source": [
    "a[0]"
   ]
  },
  {
   "cell_type": "code",
   "execution_count": null,
   "id": "891b6b65-e77f-40ff-9338-0969bac8a55c",
   "metadata": {},
   "outputs": [],
   "source": [
    "a[0] = 'H' #error : immutable하기 때문에 안됨."
   ]
  },
  {
   "cell_type": "code",
   "execution_count": 6,
   "id": "b2a32687-8a70-4732-8561-36af57c53aa4",
   "metadata": {},
   "outputs": [
    {
     "data": {
      "text/plain": [
       "'Hello'"
      ]
     },
     "execution_count": 6,
     "metadata": {},
     "output_type": "execute_result"
    }
   ],
   "source": [
    "a.capitalize()  # 원본을 수정하려면 a = a.capitalize()"
   ]
  },
  {
   "cell_type": "code",
   "execution_count": 7,
   "id": "2b4c737e-9f39-481e-a272-26a3b7f356a5",
   "metadata": {},
   "outputs": [
    {
     "name": "stdout",
     "output_type": "stream",
     "text": [
      "hello\n"
     ]
    }
   ],
   "source": [
    "print(a) # 원본은 그대로 있음"
   ]
  },
  {
   "cell_type": "code",
   "execution_count": 12,
   "id": "b0175a5f-071f-4db8-aed8-2c5b62e90445",
   "metadata": {},
   "outputs": [],
   "source": [
    "a = 'hello my name is yujin'"
   ]
  },
  {
   "cell_type": "code",
   "execution_count": 13,
   "id": "d26ea41d-90b9-4db0-8448-8a1cb19363ab",
   "metadata": {},
   "outputs": [
    {
     "data": {
      "text/plain": [
       "'Hello my name is yujin'"
      ]
     },
     "execution_count": 13,
     "metadata": {},
     "output_type": "execute_result"
    }
   ],
   "source": [
    "a.capitalize()"
   ]
  },
  {
   "cell_type": "code",
   "execution_count": 14,
   "id": "b19ce57b-10bc-4096-b24d-52b75ca461b1",
   "metadata": {},
   "outputs": [
    {
     "data": {
      "text/plain": [
       "'Hello My Name Is Yujin'"
      ]
     },
     "execution_count": 14,
     "metadata": {},
     "output_type": "execute_result"
    }
   ],
   "source": [
    "a.title()"
   ]
  },
  {
   "cell_type": "code",
   "execution_count": 15,
   "id": "3b876173-bc99-4158-b894-4e407e78197e",
   "metadata": {},
   "outputs": [
    {
     "data": {
      "text/plain": [
       "'HELLO MY NAME IS YUJIN'"
      ]
     },
     "execution_count": 15,
     "metadata": {},
     "output_type": "execute_result"
    }
   ],
   "source": [
    "a.upper()"
   ]
  },
  {
   "cell_type": "code",
   "execution_count": 16,
   "id": "17e9dc8d-fc60-476f-b2fe-468c19c60ed0",
   "metadata": {},
   "outputs": [
    {
     "data": {
      "text/plain": [
       "'hello my name is yujin'"
      ]
     },
     "execution_count": 16,
     "metadata": {},
     "output_type": "execute_result"
    }
   ],
   "source": [
    "a.lower()"
   ]
  },
  {
   "cell_type": "code",
   "execution_count": 19,
   "id": "07aec65e-4326-4d02-a796-ae97a763944c",
   "metadata": {},
   "outputs": [
    {
     "data": {
      "text/plain": [
       "'hi,my,name'"
      ]
     },
     "execution_count": 19,
     "metadata": {},
     "output_type": "execute_result"
    }
   ],
   "source": [
    "# ''.join(iterable) 즉, sequence 데이터를 가져와야함\n",
    "my_list = ['hi','my','name']\n",
    "''.join(my_list)\n",
    "','.join(my_list)"
   ]
  },
  {
   "cell_type": "code",
   "execution_count": 23,
   "id": "da406093-f4e7-455c-9899-9bf52b2881c8",
   "metadata": {},
   "outputs": [
    {
     "data": {
      "text/plain": [
       "'w!!!ooooooooooow'"
      ]
     },
     "execution_count": 23,
     "metadata": {},
     "output_type": "execute_result"
    }
   ],
   "source": [
    "#. replace(old, new)\n",
    "'woooooooooooooow'.replace('o','!',3)"
   ]
  },
  {
   "cell_type": "code",
   "execution_count": 30,
   "id": "6df408fd-12c7-4816-8d40-f350fa421568",
   "metadata": {},
   "outputs": [
    {
     "name": "stdout",
     "output_type": "stream",
     "text": [
      "        hello\n",
      "\n",
      "hello\n",
      "ello\n",
      "ellohihihihi\n",
      "hihihihihello\n"
     ]
    }
   ],
   "source": [
    "# .strip([chars])\n",
    "my_string = '        hello\\n'\n",
    "print(my_string)\n",
    "print(my_string.strip())  # 공백지우기\n",
    "\n",
    "my_string2 = 'hihihihihellohihihihi'\n",
    "print(my_string2.strip('hi'))\n",
    "print(my_string2.lstrip('hi'))\n",
    "print(my_string2.rstrip('hi'))"
   ]
  },
  {
   "cell_type": "code",
   "execution_count": 33,
   "id": "146bfff0-3123-41d3-8bbe-f561037236c2",
   "metadata": {},
   "outputs": [
    {
     "name": "stdout",
     "output_type": "stream",
     "text": [
      "1\n",
      "-1\n"
     ]
    }
   ],
   "source": [
    "#.find(x)\n",
    "a = 'apple'\n",
    "print(a.find('p'))  #해당하는 인덱스 출력\n",
    "print(a.find('z')) # 없으면 음수로 반환"
   ]
  },
  {
   "cell_type": "code",
   "execution_count": 35,
   "id": "6eebe84f-769e-40cd-8d27-a4042ce30530",
   "metadata": {},
   "outputs": [
    {
     "name": "stdout",
     "output_type": "stream",
     "text": [
      "1\n"
     ]
    },
    {
     "ename": "ValueError",
     "evalue": "substring not found",
     "output_type": "error",
     "traceback": [
      "\u001b[1;31m---------------------------------------------------------------------------\u001b[0m",
      "\u001b[1;31mValueError\u001b[0m                                Traceback (most recent call last)",
      "Cell \u001b[1;32mIn[35], line 4\u001b[0m\n\u001b[0;32m      2\u001b[0m a \u001b[38;5;241m=\u001b[39m \u001b[38;5;124m'\u001b[39m\u001b[38;5;124mapple\u001b[39m\u001b[38;5;124m'\u001b[39m\n\u001b[0;32m      3\u001b[0m \u001b[38;5;28mprint\u001b[39m(a\u001b[38;5;241m.\u001b[39mindex(\u001b[38;5;124m'\u001b[39m\u001b[38;5;124mp\u001b[39m\u001b[38;5;124m'\u001b[39m))  \u001b[38;5;66;03m#해당하는 인덱스 출력\u001b[39;00m\n\u001b[1;32m----> 4\u001b[0m \u001b[38;5;28mprint\u001b[39m(\u001b[43ma\u001b[49m\u001b[38;5;241;43m.\u001b[39;49m\u001b[43mindex\u001b[49m\u001b[43m(\u001b[49m\u001b[38;5;124;43m'\u001b[39;49m\u001b[38;5;124;43mz\u001b[39;49m\u001b[38;5;124;43m'\u001b[39;49m\u001b[43m)\u001b[49m) \u001b[38;5;66;03m# 없으면 에러\u001b[39;00m\n",
      "\u001b[1;31mValueError\u001b[0m: substring not found"
     ]
    }
   ],
   "source": [
    "# .index(x)\n",
    "a = 'apple'\n",
    "print(a.index('p'))  #해당하는 인덱스 출력\n",
    "print(a.index('z')) # 없으면 에러"
   ]
  },
  {
   "cell_type": "code",
   "execution_count": 36,
   "id": "9e44967a-2b15-45c9-81e1-778f9333658e",
   "metadata": {},
   "outputs": [
    {
     "data": {
      "text/plain": [
       "['my', 'name', 'is', 'Jeong']"
      ]
     },
     "execution_count": 36,
     "metadata": {},
     "output_type": "execute_result"
    }
   ],
   "source": [
    "# .split(x)\n",
    "a = 'my name is Jeong'\n",
    "a.split() # 기본적으로 띄어쓰기를 기준으로 split"
   ]
  },
  {
   "cell_type": "code",
   "execution_count": 37,
   "id": "f6e7d7aa-6052-475d-a3e7-99bcddc6d097",
   "metadata": {},
   "outputs": [
    {
     "data": {
      "text/plain": [
       "6"
      ]
     },
     "execution_count": 37,
     "metadata": {},
     "output_type": "execute_result"
    }
   ],
   "source": [
    "# .count(x)\n",
    "'woooooow'.count('o')"
   ]
  },
  {
   "cell_type": "markdown",
   "id": "d3b6b6d8-f9a3-4a86-824b-8d8438169e81",
   "metadata": {},
   "source": [
    "## 2. 리스트 메소드"
   ]
  },
  {
   "cell_type": "code",
   "execution_count": 46,
   "id": "dcc168ac-2668-42e6-bd95-2801b7568a01",
   "metadata": {},
   "outputs": [],
   "source": [
    "numbers = [1,2,3,4,5,6,3,4,4,1]"
   ]
  },
  {
   "cell_type": "code",
   "execution_count": 39,
   "id": "a48131d7-7f3b-48e8-86db-d35ad993663a",
   "metadata": {},
   "outputs": [
    {
     "name": "stdout",
     "output_type": "stream",
     "text": [
      "[1, 2, 3, 4, 5, 6, 3, 4, 4, 1, 10]\n"
     ]
    }
   ],
   "source": [
    "#.append(x)\n",
    "numbers.append(10)  # 원본자체를 수정함\n",
    "print(numbers)"
   ]
  },
  {
   "cell_type": "code",
   "execution_count": 41,
   "id": "26f5e9c3-f2fc-484a-9e13-da5d2de6c414",
   "metadata": {},
   "outputs": [
    {
     "name": "stdout",
     "output_type": "stream",
     "text": [
      "[1, 2, 3, 4, 5, 6, 3, 4, 4, 1, 10, 99, 100, 99, 100]\n",
      "[1, 2, 3, 4, 5, 6, 3, 4, 4, 1, 10, 99, 100, 99, 100, 99, 100]\n"
     ]
    }
   ],
   "source": [
    "#.extend(iterable) : concat과 같은 기\n",
    "a = [99, 100]\n",
    "numbers.extend(a)\n",
    "print(numbers)\n",
    "print(numbers + a)"
   ]
  },
  {
   "cell_type": "code",
   "execution_count": 42,
   "id": "d75c8446-145b-43ab-a510-87f073685369",
   "metadata": {},
   "outputs": [
    {
     "name": "stdout",
     "output_type": "stream",
     "text": [
      "[1, 2, 3, 3.5, 4, 5, 6, 3, 4, 4, 1, 10, 99, 100, 99, 100]\n"
     ]
    }
   ],
   "source": [
    "#.insert(idx, x)\n",
    "numbers.insert(3, 3.5)\n",
    "print(numbers)"
   ]
  },
  {
   "cell_type": "code",
   "execution_count": 43,
   "id": "041771f7-de4d-43ae-a18b-6bda437e6688",
   "metadata": {},
   "outputs": [
    {
     "name": "stdout",
     "output_type": "stream",
     "text": [
      "[1, 2, 3, 4, 5, 6, 3, 4, 4, 1, 10, 99, 100, 99, 100]\n"
     ]
    }
   ],
   "source": [
    "#.remove(x)\n",
    "numbers.remove(3.5)\n",
    "print(numbers)"
   ]
  },
  {
   "cell_type": "code",
   "execution_count": 47,
   "id": "3709d2d7-1d83-4724-9dd7-b8d037cdaa61",
   "metadata": {},
   "outputs": [
    {
     "name": "stdout",
     "output_type": "stream",
     "text": [
      "[2, 3, 4, 5, 6, 3, 4, 4, 1]\n"
     ]
    }
   ],
   "source": [
    "#.pop(x) \n",
    "numbers.pop(0)\n",
    "print(numbers)"
   ]
  },
  {
   "cell_type": "code",
   "execution_count": 48,
   "id": "06b55d2e-ef02-44a3-bace-cd0a7181394a",
   "metadata": {},
   "outputs": [
    {
     "name": "stdout",
     "output_type": "stream",
     "text": [
      "[1, 2, 3, 3, 4, 4, 4, 5, 6]\n",
      "[6, 5, 4, 4, 4, 3, 3, 2, 1]\n"
     ]
    }
   ],
   "source": [
    "#.sort()\n",
    "numbers.sort()\n",
    "print(numbers)\n",
    "numbers.sort(reverse=True)\n",
    "print(numbers)"
   ]
  },
  {
   "cell_type": "code",
   "execution_count": 50,
   "id": "0aab0462-4204-4fe1-88de-c706034e8877",
   "metadata": {},
   "outputs": [
    {
     "name": "stdout",
     "output_type": "stream",
     "text": [
      "[1, 2, 3, 3, 4, 4, 4, 5, 6]\n",
      "[6, 5, 4, 4, 4, 3, 3, 2, 1]\n",
      "[1, 2, 3, 3, 4, 4, 4, 5, 6]\n"
     ]
    }
   ],
   "source": [
    "#.reverse()\n",
    "print(numbers)\n",
    "numbers.reverse()\n",
    "print(numbers)\n",
    "\n",
    "numbers = numbers[::-1] #슬라이싱으로 역순 (numbers[(0생략):(-1생략):-1])\n",
    "print(numbers)"
   ]
  },
  {
   "cell_type": "markdown",
   "id": "853b5fd1-b025-44cb-bb1e-c72b61c03744",
   "metadata": {},
   "source": [
    "### 2.1 list copy"
   ]
  },
  {
   "cell_type": "code",
   "execution_count": 51,
   "id": "a76f3460-67fd-4721-9f98-8988d54b8bf5",
   "metadata": {},
   "outputs": [],
   "source": [
    "origin_list = [1,2,3]\n",
    "copy_list = origin_list"
   ]
  },
  {
   "cell_type": "code",
   "execution_count": 52,
   "id": "6e82e3f6-9a22-47fd-ae85-88b111c92c80",
   "metadata": {},
   "outputs": [
    {
     "name": "stdout",
     "output_type": "stream",
     "text": [
      "[1, 2, 3]\n",
      "[1, 2, 3]\n"
     ]
    }
   ],
   "source": [
    "print(origin_list)\n",
    "print(copy_list)"
   ]
  },
  {
   "cell_type": "code",
   "execution_count": 53,
   "id": "7167a3d3-6f5d-48cb-a6e3-05db5609dde7",
   "metadata": {},
   "outputs": [],
   "source": [
    "copy_list[0] = 100"
   ]
  },
  {
   "cell_type": "code",
   "execution_count": 54,
   "id": "ffdba8d6-6189-4829-a2e0-1232a5c75b12",
   "metadata": {},
   "outputs": [
    {
     "name": "stdout",
     "output_type": "stream",
     "text": [
      "[100, 2, 3]\n",
      "[100, 2, 3]\n"
     ]
    }
   ],
   "source": [
    "print(origin_list)  #왜 origin도 바뀐거지? 주소가 같기때문에\n",
    "print(copy_list)"
   ]
  },
  {
   "cell_type": "code",
   "execution_count": 55,
   "id": "0e98771c-ea69-46fd-9fa6-ceb52f4eac32",
   "metadata": {},
   "outputs": [
    {
     "name": "stdout",
     "output_type": "stream",
     "text": [
      "[1, 2, 3]\n",
      "[100, 2, 3]\n"
     ]
    }
   ],
   "source": [
    "# 위 문제 해결방법 1\n",
    "a = [1,2,3]\n",
    "b = a[:] # 복제(slicing 사용)\n",
    "\n",
    "b[0] = 100\n",
    "\n",
    "print(a) # 주소가 다르기 때문에\n",
    "print(b)"
   ]
  },
  {
   "cell_type": "code",
   "execution_count": 56,
   "id": "04fe0531-e811-46fc-bc87-8fafcd0ce06e",
   "metadata": {},
   "outputs": [
    {
     "name": "stdout",
     "output_type": "stream",
     "text": [
      "[1, 2, 3]\n",
      "[100, 2, 3]\n"
     ]
    }
   ],
   "source": [
    "# 위 문제 해결방법 2\n",
    "a = [1,2,3]\n",
    "b = list(a) # 복제(list 메소드 사용)\n",
    "\n",
    "b[0] = 100\n",
    "\n",
    "print(a) # 주소가 다르기 때문에\n",
    "print(b)"
   ]
  },
  {
   "cell_type": "code",
   "execution_count": 58,
   "id": "fbce4153-43ac-4500-9db4-14b1dba94de0",
   "metadata": {},
   "outputs": [
    {
     "name": "stdout",
     "output_type": "stream",
     "text": [
      "[1, 2, [100, 4]]\n",
      "[1, 2, [100, 4]]\n"
     ]
    }
   ],
   "source": [
    "a = [1,2,[3,4]]\n",
    "b = a[:]\n",
    "\n",
    "b[2][0] = 100\n",
    "\n",
    "print(a) #왜 origin도 바뀐거지? 1차원의 데이터는 주소가 다른데 2차원의 데이터인 [3,4]는 주소가 같기때문에\n",
    "print(b)"
   ]
  },
  {
   "cell_type": "code",
   "execution_count": 59,
   "id": "20bf17f0-e557-430c-99f9-11c2cab3b2fb",
   "metadata": {},
   "outputs": [
    {
     "name": "stdout",
     "output_type": "stream",
     "text": [
      "[1, 2, [3, 4]]\n",
      "[1, 2, [100, 4]]\n"
     ]
    }
   ],
   "source": [
    "# 위 문제 해결방법 1\n",
    "import copy\n",
    "a = [1,2,[3,4]]\n",
    "b = copy.deepcopy(a)\n",
    "\n",
    "b[2][0] = 100\n",
    "\n",
    "print(a)\n",
    "print(b)"
   ]
  },
  {
   "cell_type": "markdown",
   "id": "ffc2a4dc-ef8f-480e-8c15-99de62269e80",
   "metadata": {},
   "source": [
    "### 2.2 list comprehension"
   ]
  },
  {
   "cell_type": "code",
   "execution_count": 60,
   "id": "d8228aef-2784-43cf-9b3d-e3d2e083914e",
   "metadata": {},
   "outputs": [
    {
     "name": "stdout",
     "output_type": "stream",
     "text": [
      "[1, 2, 3, 4, 5, 6, 7, 8, 9, 10]\n"
     ]
    }
   ],
   "source": [
    "numbers = list(range(1,11))\n",
    "print(numbers)"
   ]
  },
  {
   "cell_type": "code",
   "execution_count": 64,
   "id": "c7ea3b44-3a01-4afb-b45a-c4fb8631f684",
   "metadata": {},
   "outputs": [
    {
     "name": "stdout",
     "output_type": "stream",
     "text": [
      "[1, 8, 27, 64, 125, 216, 343, 512, 729, 1000]\n"
     ]
    }
   ],
   "source": [
    "result = []\n",
    "for i in numbers:\n",
    "    result.append(i ** 3)\n",
    "print(result)"
   ]
  },
  {
   "cell_type": "code",
   "execution_count": 63,
   "id": "2a03e921-9781-4f8a-934d-d6a1242f7885",
   "metadata": {},
   "outputs": [
    {
     "name": "stdout",
     "output_type": "stream",
     "text": [
      "[1, 8, 27, 64, 125, 216, 343, 512, 729, 1000]\n"
     ]
    }
   ],
   "source": [
    "result2 = [i ** 3 for i in numbers]  # list comprehension\n",
    "print(result2)"
   ]
  },
  {
   "cell_type": "code",
   "execution_count": 65,
   "id": "e34e9a1e-5d44-4f49-8b26-043061ac31c2",
   "metadata": {},
   "outputs": [
    {
     "name": "stdout",
     "output_type": "stream",
     "text": [
      "[2, 4, 6, 8, 10]\n"
     ]
    }
   ],
   "source": [
    "# 짝수만 고르기\n",
    "even_list = []\n",
    "for i in numbers:\n",
    "    if i % 2 == 0:\n",
    "        even_list.append(i)\n",
    "\n",
    "print(even_list)"
   ]
  },
  {
   "cell_type": "code",
   "execution_count": 67,
   "id": "c182e60d-cf90-46d6-b9e2-238fd554c2ca",
   "metadata": {},
   "outputs": [
    {
     "name": "stdout",
     "output_type": "stream",
     "text": [
      "[2, 4, 6, 8, 10]\n"
     ]
    }
   ],
   "source": [
    "# 짝수만 고르기(list comprehension)\n",
    "even_list2 = [i for i in numbers if i % 2 == 0]  # 1.for문 2.if문 3.결과를 i에 넣어줌\n",
    "print(even_list2)"
   ]
  },
  {
   "cell_type": "code",
   "execution_count": 76,
   "id": "0b2a6499-cc1f-4943-afef-2790c6044a27",
   "metadata": {},
   "outputs": [],
   "source": [
    "words =  'my name is yujin'\n",
    "vowels = 'aeiou'"
   ]
  },
  {
   "cell_type": "code",
   "execution_count": 77,
   "id": "9878b1d0-a7a4-4243-a994-5fec74c0721a",
   "metadata": {},
   "outputs": [
    {
     "name": "stdout",
     "output_type": "stream",
     "text": [
      "my nm s yjn\n"
     ]
    }
   ],
   "source": [
    "# 모음제거 (for문 버전)\n",
    "result =''\n",
    "for i in words:\n",
    "    if i not in vowels:\n",
    "        result += i\n",
    "\n",
    "print(result)"
   ]
  },
  {
   "cell_type": "code",
   "execution_count": 80,
   "id": "dc611186-7bb8-43f4-8aa5-98d34aa0047a",
   "metadata": {},
   "outputs": [
    {
     "name": "stdout",
     "output_type": "stream",
     "text": [
      "['M', 'Y', ' ', 'N', 'M', ' ', 'S', ' ', 'Y', 'J', 'N']\n",
      "MY NM S YJN\n"
     ]
    }
   ],
   "source": [
    "# 모음제거 (list comprehension 버전)\n",
    "result2 = [i.upper() for i in words if i not in vowels]\n",
    "print(result2)\n",
    "print(''.join(result2))"
   ]
  },
  {
   "cell_type": "markdown",
   "id": "17e812c9-5635-4343-93c2-55f683d51582",
   "metadata": {},
   "source": [
    "## 3. 딕셔너리 메소드"
   ]
  },
  {
   "cell_type": "code",
   "execution_count": 81,
   "id": "58732e28-d443-4bb1-ad73-84cb6bf7bd18",
   "metadata": {},
   "outputs": [],
   "source": [
    "info = {\n",
    "    'name' : 'yujin',\n",
    "    'location' : 'seoul'\n",
    "}"
   ]
  },
  {
   "cell_type": "code",
   "execution_count": 84,
   "id": "79f81191-7977-4cd1-89d3-5ac836b49da1",
   "metadata": {},
   "outputs": [
    {
     "data": {
      "text/plain": [
       "'yujin'"
      ]
     },
     "execution_count": 84,
     "metadata": {},
     "output_type": "execute_result"
    }
   ],
   "source": [
    "info['name']"
   ]
  },
  {
   "cell_type": "code",
   "execution_count": 87,
   "id": "bd8afaa2-5a35-4733-9b4d-6c899ab33e3d",
   "metadata": {},
   "outputs": [
    {
     "name": "stdout",
     "output_type": "stream",
     "text": [
      "kim\n"
     ]
    }
   ],
   "source": [
    "info['name'] = 'kim'\n",
    "print(info['name'])"
   ]
  },
  {
   "cell_type": "code",
   "execution_count": 90,
   "id": "09a812d5-04e6-405c-b09a-e77cd60a338c",
   "metadata": {},
   "outputs": [
    {
     "name": "stdout",
     "output_type": "stream",
     "text": [
      "None\n",
      "{'name': 'kim'}\n"
     ]
    }
   ],
   "source": [
    "#.pop(key[,default)\n",
    "info.pop('location','없습니다')\n",
    "print(info.pop('location',None))\n",
    "print(info)"
   ]
  },
  {
   "cell_type": "code",
   "execution_count": 91,
   "id": "19dc4543-1c27-49b2-b393-2edcb14c6781",
   "metadata": {},
   "outputs": [
    {
     "name": "stdout",
     "output_type": "stream",
     "text": [
      "{'name': 'yujin'}\n"
     ]
    }
   ],
   "source": [
    "# .update(key=value)\n",
    "info.update(name = 'yujin')\n",
    "print(info)"
   ]
  },
  {
   "cell_type": "code",
   "execution_count": 95,
   "id": "d1cba848-7dfb-4eb1-979e-e1dfef720f96",
   "metadata": {},
   "outputs": [
    {
     "name": "stdout",
     "output_type": "stream",
     "text": [
      "yujin\n",
      "None\n",
      "없다\n"
     ]
    }
   ],
   "source": [
    "# .get(key[,default])\n",
    "print(info.get('name'))\n",
    "print(info.get('school')) # None(기본값)\n",
    "print(info.get('school','없다')) # 없다\n",
    "print(info['school']) # error"
   ]
  },
  {
   "cell_type": "markdown",
   "id": "56a01068-ef1f-42b0-bf5b-6747a0b3fec5",
   "metadata": {},
   "source": [
    "### 3.1 dict comprehension"
   ]
  },
  {
   "cell_type": "code",
   "execution_count": null,
   "id": "f2d66542-7968-4b33-9260-1df40f8e747e",
   "metadata": {},
   "outputs": [],
   "source": [
    "# {1 : 1의 3제곱, 2 : 2의 3제곱, 3 : 3의 3제곱 ...}"
   ]
  },
  {
   "cell_type": "code",
   "execution_count": 96,
   "id": "999f6aad-f090-4200-85f7-393ab80066de",
   "metadata": {},
   "outputs": [
    {
     "name": "stdout",
     "output_type": "stream",
     "text": [
      "{1: 1, 2: 8, 3: 27}\n"
     ]
    }
   ],
   "source": [
    "# for\n",
    "cube_dict = {}\n",
    "for i in range(1,4):\n",
    "    cube_dict[i] = i ** 3\n",
    "print(cube_dict)"
   ]
  },
  {
   "cell_type": "code",
   "execution_count": 98,
   "id": "e1ff9551-ede9-4a59-b8ad-8a9545930f9d",
   "metadata": {},
   "outputs": [
    {
     "name": "stdout",
     "output_type": "stream",
     "text": [
      "{1: 1, 2: 8, 3: 27}\n"
     ]
    }
   ],
   "source": [
    "# comprehension\n",
    "cube_dict2 = {i: i**3 for i in range(1,4)}\n",
    "print(cube_dict2)"
   ]
  },
  {
   "cell_type": "code",
   "execution_count": 99,
   "id": "4d3dc863-87c8-4b2c-b031-8ccb8a38584c",
   "metadata": {},
   "outputs": [],
   "source": [
    "dust = {\n",
    "    '서울' : 100,\n",
    "    '대구' : 30,\n",
    "    '대전' : 10,\n",
    "    '부산' : 80,\n",
    "    '광주' : 50\n",
    "}"
   ]
  },
  {
   "cell_type": "code",
   "execution_count": 104,
   "id": "01473ff9-2be5-427e-a4ca-ae34aea0dd11",
   "metadata": {},
   "outputs": [
    {
     "name": "stdout",
     "output_type": "stream",
     "text": [
      "서울 100\n",
      "대구 30\n",
      "대전 10\n",
      "부산 80\n",
      "광주 50\n"
     ]
    }
   ],
   "source": [
    "for k,v in dust.items():\n",
    "    print(k,v)"
   ]
  },
  {
   "cell_type": "code",
   "execution_count": 106,
   "id": "92bac8e9-43b9-47e1-9be4-02f8f9b506ca",
   "metadata": {},
   "outputs": [
    {
     "name": "stdout",
     "output_type": "stream",
     "text": [
      "{'서울': 100, '부산': 80, '광주': 50}\n"
     ]
    }
   ],
   "source": [
    "# for문\n",
    "result ={}\n",
    "for k,v in dust.items():\n",
    "    if v >= 50:\n",
    "        result[k] = v\n",
    "\n",
    "print(result)"
   ]
  },
  {
   "cell_type": "code",
   "execution_count": 107,
   "id": "2e64db4e-a731-4b7e-bfb7-0e44a383956d",
   "metadata": {},
   "outputs": [
    {
     "name": "stdout",
     "output_type": "stream",
     "text": [
      "{'서울': 100, '부산': 80, '광주': 50}\n"
     ]
    }
   ],
   "source": [
    "# comprehension\n",
    "result2 = {k: v for k,v in dust.items() if v >= 50}\n",
    "print(result2)"
   ]
  },
  {
   "cell_type": "markdown",
   "id": "6136e355-c107-4a4b-b47e-85c9a2a6f42b",
   "metadata": {},
   "source": [
    "## 4. 세트 메소드"
   ]
  },
  {
   "cell_type": "code",
   "execution_count": 133,
   "id": "7d881833-2ba1-48e0-acee-af3afb116629",
   "metadata": {},
   "outputs": [],
   "source": [
    "fruits = {'apple','banana','melon'}"
   ]
  },
  {
   "cell_type": "code",
   "execution_count": 134,
   "id": "a097e461-1d46-4654-8202-ced3b2c04909",
   "metadata": {},
   "outputs": [
    {
     "name": "stdout",
     "output_type": "stream",
     "text": [
      "{'banana', 'apple', 'watermelon', 'melon'}\n"
     ]
    }
   ],
   "source": [
    "# .add(x) 한개추가\n",
    "fruits.add('watermelon')  #순서가 없다, 중복도 없다\n",
    "print(fruits)"
   ]
  },
  {
   "cell_type": "code",
   "execution_count": 135,
   "id": "c45ab091-7197-4140-b777-1e01e2b8aef9",
   "metadata": {},
   "outputs": [
    {
     "name": "stdout",
     "output_type": "stream",
     "text": [
      "{'banana', 'watermelon', 'g', 'r', 'a', 'melon', 'e', 'p', 'apple'}\n",
      "{'banana', 'watermelon', 'g', 'r', 'a', 'orange', 'melon', 'e', 'pear', 'p', 'apple'}\n"
     ]
    }
   ],
   "source": [
    "#.update() 여러개추가\n",
    "fruits.update('grape')\n",
    "print(fruits)\n",
    "fruits.update({'orange' ,'pear'})\n",
    "print(fruits)"
   ]
  },
  {
   "cell_type": "code",
   "execution_count": 136,
   "id": "67eeb010-87ed-420a-bcf3-ae3494f1c866",
   "metadata": {},
   "outputs": [
    {
     "name": "stdout",
     "output_type": "stream",
     "text": [
      "{'banana', 'watermelon', 'g', 'r', 'a', 'melon', 'e', 'pear', 'p', 'apple'}\n"
     ]
    }
   ],
   "source": [
    "#.remove()\n",
    "fruits.remove('orange')\n",
    "print(fruits)"
   ]
  },
  {
   "cell_type": "code",
   "execution_count": 137,
   "id": "1abb7ad4-ab92-4fcb-a410-25a92874b1ec",
   "metadata": {},
   "outputs": [
    {
     "name": "stdout",
     "output_type": "stream",
     "text": [
      "{'watermelon', 'g', 'r', 'a', 'melon', 'e', 'pear', 'p', 'apple'}\n"
     ]
    }
   ],
   "source": [
    "#.pop() 앞에서부터 빠짐\n",
    "fruits.pop()\n",
    "print(fruits)"
   ]
  },
  {
   "cell_type": "markdown",
   "id": "8f010145-d627-432e-bc0a-ebe9dd190bd7",
   "metadata": {},
   "source": [
    "## 5. map(), zip(), filter()"
   ]
  },
  {
   "cell_type": "markdown",
   "id": "8f058701-6916-428d-b9f7-50186bd77204",
   "metadata": {},
   "source": [
    "### 5.1 map()\n",
    "```\n",
    "map(function, iterable)\n",
    "```"
   ]
  },
  {
   "cell_type": "code",
   "execution_count": 117,
   "id": "d83689c6-a645-4b19-b8e9-dd484dbd16c2",
   "metadata": {},
   "outputs": [
    {
     "name": "stdout",
     "output_type": "stream",
     "text": [
      "<map object at 0x00000200FFB986D0>\n",
      "['1', '2', '3']\n"
     ]
    }
   ],
   "source": [
    "a = [1,2,3]\n",
    "\n",
    "number_str = map(str, a)\n",
    "print(number_str) # 객체만 만든것\n",
    "print(list(number_str)) # 연산이 실행이 되어 결과가 나옴"
   ]
  },
  {
   "cell_type": "code",
   "execution_count": 118,
   "id": "daa7fbd1-438f-4d9f-a13c-f6380afefd99",
   "metadata": {},
   "outputs": [],
   "source": [
    "def cube(x):\n",
    "    return x ** 3\n"
   ]
  },
  {
   "cell_type": "code",
   "execution_count": 119,
   "id": "1476f2ab-3c73-494d-a6ad-4df65d2dba21",
   "metadata": {},
   "outputs": [
    {
     "name": "stdout",
     "output_type": "stream",
     "text": [
      "[1, 8, 27]\n"
     ]
    }
   ],
   "source": [
    "# for문을 활용하여 모든 item에 cube함수 실행\n",
    "result = []\n",
    "for i in a:\n",
    "    result.append(cube(i))\n",
    "print(result)"
   ]
  },
  {
   "cell_type": "code",
   "execution_count": 120,
   "id": "0dcdaae7-1abf-4709-96fb-03b262658dfc",
   "metadata": {},
   "outputs": [
    {
     "name": "stdout",
     "output_type": "stream",
     "text": [
      "[1, 8, 27]\n"
     ]
    }
   ],
   "source": [
    "result2 = map(cube, a)\n",
    "print(list(result2))"
   ]
  },
  {
   "cell_type": "code",
   "execution_count": 126,
   "id": "f7e882f6-38f1-49d7-a74a-3a155a224404",
   "metadata": {},
   "outputs": [
    {
     "name": "stdin",
     "output_type": "stream",
     "text": [
      " 1 2 3 4 5\n"
     ]
    },
    {
     "name": "stdout",
     "output_type": "stream",
     "text": [
      "[1, 2, 3, 4, 5]\n"
     ]
    }
   ],
   "source": [
    "numbers = list(map(int,input().split()))\n",
    "print(numbers)"
   ]
  },
  {
   "cell_type": "markdown",
   "id": "a558bddf-6ae5-4fcf-a01c-18a5361db6f4",
   "metadata": {},
   "source": [
    "### 5.2 zip"
   ]
  },
  {
   "cell_type": "code",
   "execution_count": 127,
   "id": "a6a3be41-1443-4598-a9f8-fc6b110c9d37",
   "metadata": {},
   "outputs": [],
   "source": [
    "a = [1, 2, 3]\n",
    "b = [100, 200, 300]"
   ]
  },
  {
   "cell_type": "code",
   "execution_count": 128,
   "id": "ab4b4263-6ca8-466a-beb7-db558f6614b7",
   "metadata": {},
   "outputs": [
    {
     "name": "stdout",
     "output_type": "stream",
     "text": [
      "<zip object at 0x0000020080FA3B80>\n",
      "[(1, 100), (2, 200), (3, 300)]\n"
     ]
    }
   ],
   "source": [
    "result = zip(a,b)\n",
    "print(result)\n",
    "print(list(result))"
   ]
  },
  {
   "cell_type": "markdown",
   "id": "8997b950-03a4-43c0-a741-81498cabff41",
   "metadata": {},
   "source": [
    "### 5.3 filter\n",
    "```python\n",
    "filter(function, iterable)\n",
    "```\n",
    "\n",
    "filter에 들어가는 function은 T/F를 반환해야 합니다."
   ]
  },
  {
   "cell_type": "code",
   "execution_count": 129,
   "id": "0ca3d3ab-cfed-4b60-b5aa-5d0798421e86",
   "metadata": {},
   "outputs": [],
   "source": [
    "def is_odd(x):\n",
    "    return bool(x % 2) # 1(True) , 0(False)"
   ]
  },
  {
   "cell_type": "code",
   "execution_count": 130,
   "id": "90ed851f-c90b-4bcc-8e5c-81686ec323a8",
   "metadata": {},
   "outputs": [
    {
     "name": "stdout",
     "output_type": "stream",
     "text": [
      "<filter object at 0x000002008109D3C0>\n",
      "[1, 3, 5]\n"
     ]
    }
   ],
   "source": [
    "numbers = [1,2,3,4,5]\n",
    "result = filter(is_odd, numbers)\n",
    "print(result)\n",
    "print(list(result))"
   ]
  }
 ],
 "metadata": {
  "kernelspec": {
   "display_name": "Python 3 (ipykernel)",
   "language": "python",
   "name": "python3"
  },
  "language_info": {
   "codemirror_mode": {
    "name": "ipython",
    "version": 3
   },
   "file_extension": ".py",
   "mimetype": "text/x-python",
   "name": "python",
   "nbconvert_exporter": "python",
   "pygments_lexer": "ipython3",
   "version": "3.11.4"
  }
 },
 "nbformat": 4,
 "nbformat_minor": 5
}
