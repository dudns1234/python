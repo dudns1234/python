{
 "cells": [
  {
   "cell_type": "markdown",
   "id": "4a1b172d-9d79-44cc-ab95-2993dc8d1e8e",
   "metadata": {},
   "source": [
    "## 1. 모듈"
   ]
  },
  {
   "cell_type": "code",
   "execution_count": 1,
   "id": "0d7ca205-b44a-4339-9321-d4b990b5ac1b",
   "metadata": {},
   "outputs": [],
   "source": [
    "import fibo"
   ]
  },
  {
   "cell_type": "code",
   "execution_count": 2,
   "id": "b09e2f02-8f36-4c17-8dc6-ff791947dd98",
   "metadata": {},
   "outputs": [
    {
     "name": "stdout",
     "output_type": "stream",
     "text": [
      "<module 'fibo' from 'C:\\\\Users\\\\yujin\\\\Desktop\\\\camp29\\\\python\\\\fibo.py'>\n"
     ]
    }
   ],
   "source": [
    "print(fibo)"
   ]
  },
  {
   "cell_type": "code",
   "execution_count": 3,
   "id": "f8939956-41d9-4741-9455-4af4c5da3136",
   "metadata": {},
   "outputs": [
    {
     "data": {
      "text/plain": [
       "5"
      ]
     },
     "execution_count": 3,
     "metadata": {},
     "output_type": "execute_result"
    }
   ],
   "source": [
    "fibo.fib_loop(4)"
   ]
  },
  {
   "cell_type": "code",
   "execution_count": 4,
   "id": "f12c5a69-52ed-4740-acae-434157243ff9",
   "metadata": {},
   "outputs": [
    {
     "data": {
      "text/plain": [
       "3"
      ]
     },
     "execution_count": 4,
     "metadata": {},
     "output_type": "execute_result"
    }
   ],
   "source": [
    "fibo.fib_rec(3)"
   ]
  },
  {
   "cell_type": "markdown",
   "id": "eac978be-a02a-41cd-8873-a6b8bdad40db",
   "metadata": {},
   "source": [
    "## 2. 패키지\n",
    "\n",
    "패키지 안에 `__init__.py` 파일이 있어야 패키지로 인식\n",
    "\n",
    "```python\n",
    "mypackage/\n",
    "    __init__.py\n",
    "    math/\n",
    "        __init__.py\n",
    "        fibo.py\n",
    "        formula.py\n",
    "```"
   ]
  },
  {
   "cell_type": "code",
   "execution_count": 5,
   "id": "858cc973-7b9d-42c8-9c11-0299e4238142",
   "metadata": {},
   "outputs": [],
   "source": [
    "import myPackage # 패키지 폴더 전체 가져옴"
   ]
  },
  {
   "cell_type": "code",
   "execution_count": 6,
   "id": "3cc49f97-aac3-4b6a-b4b0-179068687cf8",
   "metadata": {},
   "outputs": [
    {
     "name": "stdout",
     "output_type": "stream",
     "text": [
      "<module 'myPackage' from 'C:\\\\Users\\\\yujin\\\\Desktop\\\\camp29\\\\python\\\\myPackage\\\\__init__.py'>\n"
     ]
    }
   ],
   "source": [
    "print(myPackage)"
   ]
  },
  {
   "cell_type": "code",
   "execution_count": 7,
   "id": "c8e305a6-6362-439c-a907-a69d2859deac",
   "metadata": {},
   "outputs": [],
   "source": [
    "#패키지에서 필요한 모듈을 꺼내오는 코드\n",
    "from myPackage.math import formula  # formula라는 파일로 접근"
   ]
  },
  {
   "cell_type": "code",
   "execution_count": 8,
   "id": "30a254d9-7ed6-4acc-8c69-f0ca5511182c",
   "metadata": {},
   "outputs": [
    {
     "data": {
      "text/plain": [
       "3.14"
      ]
     },
     "execution_count": 8,
     "metadata": {},
     "output_type": "execute_result"
    }
   ],
   "source": [
    "formula.pi"
   ]
  },
  {
   "cell_type": "code",
   "execution_count": 9,
   "id": "cdf23e0a-f459-40bc-84ea-7722e14e1717",
   "metadata": {},
   "outputs": [
    {
     "data": {
      "text/plain": [
       "2"
      ]
     },
     "execution_count": 9,
     "metadata": {},
     "output_type": "execute_result"
    }
   ],
   "source": [
    "formula.my_max(1,2)"
   ]
  },
  {
   "cell_type": "code",
   "execution_count": 13,
   "id": "c3a021de-c4c6-42a7-a137-91d846803c31",
   "metadata": {},
   "outputs": [],
   "source": [
    "# 경로에 있는 모듈이 가지고 있는 모든 변수, 함수를 추가\n",
    "from myPackage.math.fibo import * "
   ]
  },
  {
   "cell_type": "code",
   "execution_count": 14,
   "id": "cfea9a65-84d2-4b38-92c8-c35453823902",
   "metadata": {},
   "outputs": [
    {
     "data": {
      "text/plain": [
       "89"
      ]
     },
     "execution_count": 14,
     "metadata": {},
     "output_type": "execute_result"
    }
   ],
   "source": [
    "fib_loop(10)"
   ]
  },
  {
   "cell_type": "code",
   "execution_count": 16,
   "id": "2194b969-8275-4b0e-a951-31f71b76eab7",
   "metadata": {},
   "outputs": [
    {
     "name": "stdout",
     "output_type": "stream",
     "text": [
      "1234\n",
      "<module 'myPackage.math.formula' from 'C:\\\\Users\\\\yujin\\\\Desktop\\\\camp29\\\\python\\\\myPackage\\\\math\\\\formula.py'>\n"
     ]
    }
   ],
   "source": [
    "formula = 1234\n",
    "from myPackage.math import formula as f\n",
    "\n",
    "print(formula)\n",
    "print(f)"
   ]
  },
  {
   "cell_type": "markdown",
   "id": "f9f0635f-a266-403d-aa54-8b04b2a79a5e",
   "metadata": {},
   "source": [
    "## 3. 파이썬 내장 패키지"
   ]
  },
  {
   "cell_type": "markdown",
   "id": "6bd0ed0f-be88-41a5-9072-a6dd00588583",
   "metadata": {},
   "source": [
    "### 3.1 math"
   ]
  },
  {
   "cell_type": "code",
   "execution_count": 17,
   "id": "66c3e4e5-5ff8-4cfe-9539-488ab39a9ae5",
   "metadata": {},
   "outputs": [],
   "source": [
    "import math"
   ]
  },
  {
   "cell_type": "code",
   "execution_count": 18,
   "id": "a69710ab-f5cf-48d5-83d0-a0ad3f95a57e",
   "metadata": {},
   "outputs": [
    {
     "data": {
      "text/plain": [
       "3.141592653589793"
      ]
     },
     "execution_count": 18,
     "metadata": {},
     "output_type": "execute_result"
    }
   ],
   "source": [
    "math.pi"
   ]
  },
  {
   "cell_type": "code",
   "execution_count": 19,
   "id": "168c5acd-df78-43cf-823e-6a117a17110d",
   "metadata": {},
   "outputs": [
    {
     "data": {
      "text/plain": [
       "2.718281828459045"
      ]
     },
     "execution_count": 19,
     "metadata": {},
     "output_type": "execute_result"
    }
   ],
   "source": [
    "math.e"
   ]
  },
  {
   "cell_type": "code",
   "execution_count": 20,
   "id": "f2a58e8a-6b93-4133-9b82-d31fdc8bc6ed",
   "metadata": {},
   "outputs": [],
   "source": [
    "pi = 3.141592"
   ]
  },
  {
   "cell_type": "code",
   "execution_count": 21,
   "id": "b82b77be-7259-4b1f-81cb-e01a299c676d",
   "metadata": {},
   "outputs": [
    {
     "data": {
      "text/plain": [
       "4"
      ]
     },
     "execution_count": 21,
     "metadata": {},
     "output_type": "execute_result"
    }
   ],
   "source": [
    "math.ceil(pi) # 소수점 올림"
   ]
  },
  {
   "cell_type": "code",
   "execution_count": 22,
   "id": "d9ab157a-e80f-4ccc-8f95-2bb1f588bf53",
   "metadata": {},
   "outputs": [
    {
     "data": {
      "text/plain": [
       "3"
      ]
     },
     "execution_count": 22,
     "metadata": {},
     "output_type": "execute_result"
    }
   ],
   "source": [
    "math.floor(pi) # 소수점 내림"
   ]
  },
  {
   "cell_type": "code",
   "execution_count": 23,
   "id": "ff56a50d-e1f4-4870-af4c-27a931ddf3a8",
   "metadata": {},
   "outputs": [
    {
     "data": {
      "text/plain": [
       "3.0"
      ]
     },
     "execution_count": 23,
     "metadata": {},
     "output_type": "execute_result"
    }
   ],
   "source": [
    "math.sqrt(9) # 루트"
   ]
  },
  {
   "cell_type": "markdown",
   "id": "0f37d27d-276b-4d6b-a400-075f4b590c8e",
   "metadata": {},
   "source": [
    "### 3.2 random"
   ]
  },
  {
   "cell_type": "code",
   "execution_count": 24,
   "id": "33faa49e-bb25-4bec-9369-8e94e65b1244",
   "metadata": {},
   "outputs": [],
   "source": [
    "import random"
   ]
  },
  {
   "cell_type": "code",
   "execution_count": 26,
   "id": "0aced469-c129-44ca-aebe-cd682a31b91b",
   "metadata": {},
   "outputs": [
    {
     "data": {
      "text/plain": [
       "0.05892494357572364"
      ]
     },
     "execution_count": 26,
     "metadata": {},
     "output_type": "execute_result"
    }
   ],
   "source": [
    "random.random() # 소수"
   ]
  },
  {
   "cell_type": "code",
   "execution_count": 27,
   "id": "eecc9a70-8cc5-49cb-96b2-ad4b2cdb07d9",
   "metadata": {},
   "outputs": [
    {
     "data": {
      "text/plain": [
       "2"
      ]
     },
     "execution_count": 27,
     "metadata": {},
     "output_type": "execute_result"
    }
   ],
   "source": [
    "random.randint(1,10) # 정수"
   ]
  },
  {
   "cell_type": "code",
   "execution_count": 77,
   "id": "f367e2d3-92a5-4153-9870-3e7ac0d36d22",
   "metadata": {},
   "outputs": [
    {
     "data": {
      "text/plain": [
       "0.9560342718892494"
      ]
     },
     "execution_count": 77,
     "metadata": {},
     "output_type": "execute_result"
    }
   ],
   "source": [
    "# seed\n",
    "random.seed(2)  #고정값\n",
    "random.random()"
   ]
  },
  {
   "cell_type": "code",
   "execution_count": 34,
   "id": "7df0c7c6-2eb2-4fa5-ae52-e1b98cc51982",
   "metadata": {},
   "outputs": [
    {
     "name": "stdout",
     "output_type": "stream",
     "text": [
      "[4, 2, 5, 3, 1]\n"
     ]
    }
   ],
   "source": [
    "# shuffle  : 리스트 섞을때\n",
    "a = [1,2,3,4,5]\n",
    "random.shuffle(a)\n",
    "print(a)"
   ]
  },
  {
   "cell_type": "code",
   "execution_count": 35,
   "id": "be880288-b49a-462d-9abb-e2253b56fedc",
   "metadata": {},
   "outputs": [
    {
     "name": "stdout",
     "output_type": "stream",
     "text": [
      "4\n"
     ]
    }
   ],
   "source": [
    "# choice - 중복 O\n",
    "a = [1,2,3,4,5]\n",
    "print(random.choice(a))"
   ]
  },
  {
   "cell_type": "code",
   "execution_count": 37,
   "id": "6953e348-8105-4d35-bfb0-8b8996102afe",
   "metadata": {},
   "outputs": [
    {
     "data": {
      "text/plain": [
       "[31, 42, 25, 14, 7, 32]"
      ]
     },
     "execution_count": 37,
     "metadata": {},
     "output_type": "execute_result"
    }
   ],
   "source": [
    "# sample - 중복 X\n",
    "a = range(1,46)\n",
    "random.sample(a,6)"
   ]
  },
  {
   "cell_type": "markdown",
   "id": "1556f64f-a51d-480a-9a5c-bb28d242d17b",
   "metadata": {},
   "source": [
    "### 3.3 datetime"
   ]
  },
  {
   "cell_type": "code",
   "execution_count": 38,
   "id": "2c4c9994-17cd-4950-b9f1-641090e2f9b4",
   "metadata": {},
   "outputs": [],
   "source": [
    "from datetime import datetime"
   ]
  },
  {
   "cell_type": "code",
   "execution_count": 78,
   "id": "955157cf-66e4-4191-8dcf-368fa66fcfc2",
   "metadata": {},
   "outputs": [
    {
     "name": "stdout",
     "output_type": "stream",
     "text": [
      "2023-07-31 22:48:54.147274\n"
     ]
    }
   ],
   "source": [
    "now = datetime.now()\n",
    "print(now)"
   ]
  },
  {
   "cell_type": "code",
   "execution_count": 79,
   "id": "cdaa1380-e64f-419e-b8e8-52c56e485dc1",
   "metadata": {},
   "outputs": [
    {
     "name": "stdout",
     "output_type": "stream",
     "text": [
      "2023-07-31 22:48:54.846118\n"
     ]
    }
   ],
   "source": [
    "today = datetime.today()\n",
    "print(today)"
   ]
  },
  {
   "cell_type": "code",
   "execution_count": 80,
   "id": "0816f712-ef99-4104-ac57-8bc0a8619765",
   "metadata": {},
   "outputs": [
    {
     "name": "stdout",
     "output_type": "stream",
     "text": [
      "2023-07-31 13:48:55.329595\n"
     ]
    }
   ],
   "source": [
    "utc = datetime.utcnow()\n",
    "print(utc)"
   ]
  },
  {
   "cell_type": "code",
   "execution_count": 47,
   "id": "1b0101ba-0e48-4834-b75c-e9578d6480a2",
   "metadata": {},
   "outputs": [
    {
     "name": "stdout",
     "output_type": "stream",
     "text": [
      "2023년 07월 31일\n",
      "2023/07/31\n"
     ]
    }
   ],
   "source": [
    "print(now.strftime('%Y년 %m월 %d일'))\n",
    "print(now.strftime('%Y/%m/%d'))"
   ]
  },
  {
   "cell_type": "code",
   "execution_count": 48,
   "id": "c684e324-31ac-4b5a-93fc-a1025f0286c3",
   "metadata": {},
   "outputs": [
    {
     "data": {
      "text/plain": [
       "2023"
      ]
     },
     "execution_count": 48,
     "metadata": {},
     "output_type": "execute_result"
    }
   ],
   "source": [
    "now.year"
   ]
  },
  {
   "cell_type": "code",
   "execution_count": 51,
   "id": "49293c29-5a4d-4d25-9830-36efaddb70d2",
   "metadata": {},
   "outputs": [
    {
     "data": {
      "text/plain": [
       "31"
      ]
     },
     "execution_count": 51,
     "metadata": {},
     "output_type": "execute_result"
    }
   ],
   "source": [
    "now.day"
   ]
  },
  {
   "cell_type": "code",
   "execution_count": 52,
   "id": "fc14664c-a3f7-4394-8d13-21750faeff70",
   "metadata": {},
   "outputs": [
    {
     "data": {
      "text/plain": [
       "0"
      ]
     },
     "execution_count": 52,
     "metadata": {},
     "output_type": "execute_result"
    }
   ],
   "source": [
    "# weekday => 0~6, 월~일\n",
    "now.weekday()"
   ]
  },
  {
   "cell_type": "code",
   "execution_count": 53,
   "id": "1686504b-ea97-4c80-a334-34fc177116b1",
   "metadata": {},
   "outputs": [
    {
     "name": "stdout",
     "output_type": "stream",
     "text": [
      "2023-01-01 00:00:00\n"
     ]
    }
   ],
   "source": [
    "birth = datetime(2023, 1, 1)\n",
    "print(birth)"
   ]
  },
  {
   "cell_type": "code",
   "execution_count": 54,
   "id": "d070dd22-b881-416e-9fb9-3c1ce105d4b1",
   "metadata": {},
   "outputs": [],
   "source": [
    "from datetime import timedelta"
   ]
  },
  {
   "cell_type": "code",
   "execution_count": 55,
   "id": "fd7b1b7d-20b5-4201-9de7-4658761b41f7",
   "metadata": {},
   "outputs": [
    {
     "name": "stdout",
     "output_type": "stream",
     "text": [
      "3 days, 0:00:00\n"
     ]
    }
   ],
   "source": [
    "future = timedelta(days = 3)\n",
    "print(future)"
   ]
  },
  {
   "cell_type": "code",
   "execution_count": 56,
   "id": "08e01718-b832-4690-b32e-1dca938f7997",
   "metadata": {},
   "outputs": [
    {
     "data": {
      "text/plain": [
       "datetime.datetime(2023, 1, 4, 0, 0)"
      ]
     },
     "execution_count": 56,
     "metadata": {},
     "output_type": "execute_result"
    }
   ],
   "source": [
    "birth + future"
   ]
  },
  {
   "cell_type": "code",
   "execution_count": 57,
   "id": "bc23aa77-fbdc-4aad-8c86-db2b441a4392",
   "metadata": {},
   "outputs": [],
   "source": [
    "christmas = datetime(2023, 12, 25)"
   ]
  },
  {
   "cell_type": "code",
   "execution_count": 58,
   "id": "e6daf3af-6590-4190-a3b0-47e2a75f7cb1",
   "metadata": {},
   "outputs": [
    {
     "data": {
      "text/plain": [
       "datetime.timedelta(days=146, seconds=27535, microseconds=889600)"
      ]
     },
     "execution_count": 58,
     "metadata": {},
     "output_type": "execute_result"
    }
   ],
   "source": [
    "christmas - now"
   ]
  }
 ],
 "metadata": {
  "kernelspec": {
   "display_name": "Python 3 (ipykernel)",
   "language": "python",
   "name": "python3"
  },
  "language_info": {
   "codemirror_mode": {
    "name": "ipython",
    "version": 3
   },
   "file_extension": ".py",
   "mimetype": "text/x-python",
   "name": "python",
   "nbconvert_exporter": "python",
   "pygments_lexer": "ipython3",
   "version": "3.11.4"
  }
 },
 "nbformat": 4,
 "nbformat_minor": 5
}
